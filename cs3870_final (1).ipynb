{
 "cells": [
  {
   "cell_type": "code",
   "execution_count": 1,
   "id": "2da04c21",
   "metadata": {},
   "outputs": [],
   "source": [
    "import numpy as np\n",
    "import pandas as pd\n",
    "\n",
    "import matplotlib.pyplot as plt\n",
    "\n",
    "import seaborn as sns"
   ]
  },
  {
   "cell_type": "code",
   "execution_count": 2,
   "id": "4124ee92",
   "metadata": {},
   "outputs": [
    {
     "data": {
      "text/html": [
       "<div>\n",
       "<style scoped>\n",
       "    .dataframe tbody tr th:only-of-type {\n",
       "        vertical-align: middle;\n",
       "    }\n",
       "\n",
       "    .dataframe tbody tr th {\n",
       "        vertical-align: top;\n",
       "    }\n",
       "\n",
       "    .dataframe thead th {\n",
       "        text-align: right;\n",
       "    }\n",
       "</style>\n",
       "<table border=\"1\" class=\"dataframe\">\n",
       "  <thead>\n",
       "    <tr style=\"text-align: right;\">\n",
       "      <th></th>\n",
       "      <th>id</th>\n",
       "      <th>satisfaction_v2</th>\n",
       "      <th>Gender</th>\n",
       "      <th>Customer Type</th>\n",
       "      <th>Age</th>\n",
       "      <th>Type of Travel</th>\n",
       "      <th>Class</th>\n",
       "      <th>Flight Distance</th>\n",
       "      <th>Inflight wifi service</th>\n",
       "      <th>Departure/Arrival time convenient</th>\n",
       "      <th>...</th>\n",
       "      <th>Seat comfort</th>\n",
       "      <th>Inflight entertainment</th>\n",
       "      <th>On-board service</th>\n",
       "      <th>Leg room service</th>\n",
       "      <th>Baggage handling</th>\n",
       "      <th>Checkin service</th>\n",
       "      <th>Inflight service</th>\n",
       "      <th>Cleanliness</th>\n",
       "      <th>Departure Delay in Minutes</th>\n",
       "      <th>Arrival Delay in Minutes</th>\n",
       "    </tr>\n",
       "  </thead>\n",
       "  <tbody>\n",
       "    <tr>\n",
       "      <th>0</th>\n",
       "      <td>117135</td>\n",
       "      <td>satisfied</td>\n",
       "      <td>Male</td>\n",
       "      <td>disloyal Customer</td>\n",
       "      <td>56</td>\n",
       "      <td>Personal Travel</td>\n",
       "      <td>Eco</td>\n",
       "      <td>369</td>\n",
       "      <td>0</td>\n",
       "      <td>2</td>\n",
       "      <td>...</td>\n",
       "      <td>3</td>\n",
       "      <td>3</td>\n",
       "      <td>1</td>\n",
       "      <td>5</td>\n",
       "      <td>3</td>\n",
       "      <td>3</td>\n",
       "      <td>4</td>\n",
       "      <td>3</td>\n",
       "      <td>0</td>\n",
       "      <td>0.0</td>\n",
       "    </tr>\n",
       "    <tr>\n",
       "      <th>1</th>\n",
       "      <td>72091</td>\n",
       "      <td>satisfied</td>\n",
       "      <td>Male</td>\n",
       "      <td>disloyal Customer</td>\n",
       "      <td>49</td>\n",
       "      <td>Personal Travel</td>\n",
       "      <td>Eco</td>\n",
       "      <td>2486</td>\n",
       "      <td>0</td>\n",
       "      <td>2</td>\n",
       "      <td>...</td>\n",
       "      <td>3</td>\n",
       "      <td>2</td>\n",
       "      <td>1</td>\n",
       "      <td>1</td>\n",
       "      <td>4</td>\n",
       "      <td>4</td>\n",
       "      <td>3</td>\n",
       "      <td>2</td>\n",
       "      <td>0</td>\n",
       "      <td>0.0</td>\n",
       "    </tr>\n",
       "    <tr>\n",
       "      <th>2</th>\n",
       "      <td>29663</td>\n",
       "      <td>satisfied</td>\n",
       "      <td>Male</td>\n",
       "      <td>disloyal Customer</td>\n",
       "      <td>55</td>\n",
       "      <td>Personal Travel</td>\n",
       "      <td>Eco</td>\n",
       "      <td>1448</td>\n",
       "      <td>0</td>\n",
       "      <td>3</td>\n",
       "      <td>...</td>\n",
       "      <td>3</td>\n",
       "      <td>3</td>\n",
       "      <td>3</td>\n",
       "      <td>5</td>\n",
       "      <td>3</td>\n",
       "      <td>2</td>\n",
       "      <td>3</td>\n",
       "      <td>3</td>\n",
       "      <td>0</td>\n",
       "      <td>0.0</td>\n",
       "    </tr>\n",
       "    <tr>\n",
       "      <th>3</th>\n",
       "      <td>81849</td>\n",
       "      <td>satisfied</td>\n",
       "      <td>Female</td>\n",
       "      <td>disloyal Customer</td>\n",
       "      <td>36</td>\n",
       "      <td>Personal Travel</td>\n",
       "      <td>Eco</td>\n",
       "      <td>1501</td>\n",
       "      <td>0</td>\n",
       "      <td>4</td>\n",
       "      <td>...</td>\n",
       "      <td>4</td>\n",
       "      <td>4</td>\n",
       "      <td>5</td>\n",
       "      <td>4</td>\n",
       "      <td>5</td>\n",
       "      <td>5</td>\n",
       "      <td>5</td>\n",
       "      <td>4</td>\n",
       "      <td>0</td>\n",
       "      <td>0.0</td>\n",
       "    </tr>\n",
       "    <tr>\n",
       "      <th>4</th>\n",
       "      <td>83693</td>\n",
       "      <td>satisfied</td>\n",
       "      <td>Male</td>\n",
       "      <td>disloyal Customer</td>\n",
       "      <td>55</td>\n",
       "      <td>Personal Travel</td>\n",
       "      <td>Eco</td>\n",
       "      <td>577</td>\n",
       "      <td>0</td>\n",
       "      <td>5</td>\n",
       "      <td>...</td>\n",
       "      <td>3</td>\n",
       "      <td>3</td>\n",
       "      <td>3</td>\n",
       "      <td>4</td>\n",
       "      <td>5</td>\n",
       "      <td>3</td>\n",
       "      <td>4</td>\n",
       "      <td>3</td>\n",
       "      <td>0</td>\n",
       "      <td>0.0</td>\n",
       "    </tr>\n",
       "  </tbody>\n",
       "</table>\n",
       "<p>5 rows × 24 columns</p>\n",
       "</div>"
      ],
      "text/plain": [
       "       id satisfaction_v2  Gender      Customer Type  Age   Type of Travel  \\\n",
       "0  117135       satisfied    Male  disloyal Customer   56  Personal Travel   \n",
       "1   72091       satisfied    Male  disloyal Customer   49  Personal Travel   \n",
       "2   29663       satisfied    Male  disloyal Customer   55  Personal Travel   \n",
       "3   81849       satisfied  Female  disloyal Customer   36  Personal Travel   \n",
       "4   83693       satisfied    Male  disloyal Customer   55  Personal Travel   \n",
       "\n",
       "  Class  Flight Distance  Inflight wifi service  \\\n",
       "0   Eco              369                      0   \n",
       "1   Eco             2486                      0   \n",
       "2   Eco             1448                      0   \n",
       "3   Eco             1501                      0   \n",
       "4   Eco              577                      0   \n",
       "\n",
       "   Departure/Arrival time convenient  ...  Seat comfort  \\\n",
       "0                                  2  ...             3   \n",
       "1                                  2  ...             3   \n",
       "2                                  3  ...             3   \n",
       "3                                  4  ...             4   \n",
       "4                                  5  ...             3   \n",
       "\n",
       "   Inflight entertainment  On-board service  Leg room service  \\\n",
       "0                       3                 1                 5   \n",
       "1                       2                 1                 1   \n",
       "2                       3                 3                 5   \n",
       "3                       4                 5                 4   \n",
       "4                       3                 3                 4   \n",
       "\n",
       "   Baggage handling  Checkin service  Inflight service  Cleanliness  \\\n",
       "0                 3                3                 4            3   \n",
       "1                 4                4                 3            2   \n",
       "2                 3                2                 3            3   \n",
       "3                 5                5                 5            4   \n",
       "4                 5                3                 4            3   \n",
       "\n",
       "   Departure Delay in Minutes  Arrival Delay in Minutes  \n",
       "0                           0                       0.0  \n",
       "1                           0                       0.0  \n",
       "2                           0                       0.0  \n",
       "3                           0                       0.0  \n",
       "4                           0                       0.0  \n",
       "\n",
       "[5 rows x 24 columns]"
      ]
     },
     "execution_count": 2,
     "metadata": {},
     "output_type": "execute_result"
    }
   ],
   "source": [
    "flight_data  = pd.read_csv('satisfaction_2015.csv')\n",
    "flight_data.head()"
   ]
  },
  {
   "cell_type": "code",
   "execution_count": 3,
   "id": "55e092c8",
   "metadata": {},
   "outputs": [
    {
     "data": {
      "text/plain": [
       "count    129880.000000\n",
       "mean       1190.316392\n",
       "std         997.452477\n",
       "min          31.000000\n",
       "25%         414.000000\n",
       "50%         844.000000\n",
       "75%        1744.000000\n",
       "max        4983.000000\n",
       "Name: Flight Distance, dtype: float64"
      ]
     },
     "execution_count": 3,
     "metadata": {},
     "output_type": "execute_result"
    }
   ],
   "source": [
    "# checking columns for n/a's\n",
    "flight_data[\"satisfaction_v2\"].value_counts(dropna = False)\n",
    "flight_data[\"Gender\"].value_counts(dropna = False)\n",
    "flight_data[\"Customer Type\"].value_counts(dropna = False)\n",
    "flight_data[\"Age\"].describe(include = 'all')\n",
    "flight_data[\"Type of Travel\"].value_counts(dropna = False)\n",
    "flight_data[\"Class\"].value_counts(dropna = False)\n",
    "\n",
    "# looking at statistics of flight distance\n",
    "flight_data[\"Flight Distance\"].describe(include = 'all')"
   ]
  },
  {
   "cell_type": "code",
   "execution_count": 4,
   "id": "4831355d",
   "metadata": {},
   "outputs": [
    {
     "data": {
      "text/plain": [
       "Inflight wifi service\n",
       "3    36101\n",
       "2    32320\n",
       "4    24775\n",
       "1    22328\n",
       "5    14356\n",
       "Name: count, dtype: int64"
      ]
     },
     "execution_count": 4,
     "metadata": {},
     "output_type": "execute_result"
    }
   ],
   "source": [
    "flight_data['Inflight wifi service'] = flight_data['Inflight wifi service'].replace(0, pd.NA)\n",
    "median_value = flight_data['Inflight wifi service'].median()\n",
    "median_value = int(median_value)\n",
    "flight_data['Inflight wifi service'] = flight_data['Inflight wifi service'].fillna(median_value)\n",
    "flight_data[\"Inflight wifi service\"].value_counts(dropna = False)"
   ]
  },
  {
   "cell_type": "code",
   "execution_count": 5,
   "id": "a602fe1d",
   "metadata": {},
   "outputs": [
    {
     "data": {
      "text/plain": [
       "Departure/Arrival time convenient\n",
       "4    31880\n",
       "3    29059\n",
       "5    27998\n",
       "2    21534\n",
       "1    19409\n",
       "Name: count, dtype: int64"
      ]
     },
     "execution_count": 5,
     "metadata": {},
     "output_type": "execute_result"
    }
   ],
   "source": [
    "flight_data['Departure/Arrival time convenient'] = flight_data['Departure/Arrival time convenient'].replace(0, pd.NA)\n",
    "median_value = flight_data['Departure/Arrival time convenient'].median()\n",
    "median_value = int(median_value)\n",
    "flight_data['Departure/Arrival time convenient'] = flight_data['Departure/Arrival time convenient'].fillna(median_value)\n",
    "flight_data[\"Departure/Arrival time convenient\"].value_counts(dropna = False)"
   ]
  },
  {
   "cell_type": "code",
   "execution_count": 6,
   "id": "e2725bff",
   "metadata": {},
   "outputs": [
    {
     "data": {
      "text/plain": [
       "Ease of Online booking\n",
       "3    36075\n",
       "2    30051\n",
       "4    24444\n",
       "1    21886\n",
       "5    17424\n",
       "Name: count, dtype: int64"
      ]
     },
     "execution_count": 6,
     "metadata": {},
     "output_type": "execute_result"
    }
   ],
   "source": [
    "flight_data['Ease of Online booking'] = flight_data['Ease of Online booking'].replace(0, pd.NA)\n",
    "median_value = flight_data['Ease of Online booking'].median()\n",
    "median_value = int(median_value)\n",
    "flight_data['Ease of Online booking'] = flight_data['Ease of Online booking'].fillna(median_value)\n",
    "flight_data[\"Ease of Online booking\"].value_counts(dropna = False)"
   ]
  },
  {
   "cell_type": "code",
   "execution_count": 7,
   "id": "645429ae",
   "metadata": {},
   "outputs": [
    {
     "data": {
      "text/plain": [
       "Gate location\n",
       "3    35718\n",
       "4    30466\n",
       "2    24296\n",
       "1    21991\n",
       "5    17409\n",
       "Name: count, dtype: int64"
      ]
     },
     "execution_count": 7,
     "metadata": {},
     "output_type": "execute_result"
    }
   ],
   "source": [
    "flight_data['Gate location'] = flight_data['Gate location'].replace(0, pd.NA)\n",
    "median_value = flight_data['Gate location'].median()\n",
    "median_value = int(median_value)\n",
    "flight_data['Gate location'] = flight_data['Gate location'].fillna(median_value)\n",
    "flight_data[\"Gate location\"].value_counts(dropna = False)"
   ]
  },
  {
   "cell_type": "code",
   "execution_count": 8,
   "id": "dc8ddff8",
   "metadata": {},
   "outputs": [
    {
     "data": {
      "text/plain": [
       "Food and drink\n",
       "4    30563\n",
       "5    27957\n",
       "3    27926\n",
       "2    27383\n",
       "1    16051\n",
       "Name: count, dtype: int64"
      ]
     },
     "execution_count": 8,
     "metadata": {},
     "output_type": "execute_result"
    }
   ],
   "source": [
    "flight_data['Food and drink'] = flight_data['Food and drink'].replace(0, pd.NA)\n",
    "median_value = flight_data['Food and drink'].median()\n",
    "median_value = int(median_value)\n",
    "flight_data['Food and drink'] = flight_data['Food and drink'].fillna(median_value)\n",
    "flight_data[\"Food and drink\"].value_counts(dropna = False)\n"
   ]
  },
  {
   "cell_type": "code",
   "execution_count": 9,
   "id": "35bd54e6",
   "metadata": {},
   "outputs": [
    {
     "data": {
      "text/plain": [
       "Online boarding\n",
       "4    41548\n",
       "3    27117\n",
       "5    26020\n",
       "2    21934\n",
       "1    13261\n",
       "Name: count, dtype: int64"
      ]
     },
     "execution_count": 9,
     "metadata": {},
     "output_type": "execute_result"
    }
   ],
   "source": [
    "flight_data['Online boarding'] = flight_data['Online boarding'].replace(0, pd.NA)\n",
    "median_value = flight_data['Online boarding'].median()\n",
    "median_value = int(median_value)\n",
    "flight_data['Online boarding'] = flight_data['Online boarding'].fillna(median_value)\n",
    "flight_data[\"Online boarding\"].value_counts(dropna = False)"
   ]
  },
  {
   "cell_type": "code",
   "execution_count": 10,
   "id": "77f7c488",
   "metadata": {},
   "outputs": [
    {
     "data": {
      "text/plain": [
       "Seat comfort\n",
       "4    39757\n",
       "5    33158\n",
       "3    23328\n",
       "2    18529\n",
       "1    15108\n",
       "Name: count, dtype: int64"
      ]
     },
     "execution_count": 10,
     "metadata": {},
     "output_type": "execute_result"
    }
   ],
   "source": [
    "flight_data['Seat comfort'] = flight_data['Seat comfort'].replace(0, pd.NA)\n",
    "median_value = flight_data['Seat comfort'].median()\n",
    "median_value = int(median_value)\n",
    "flight_data['Seat comfort'] = flight_data['Seat comfort'].fillna(median_value)\n",
    "flight_data[\"Seat comfort\"].value_counts(dropna = False)"
   ]
  },
  {
   "cell_type": "code",
   "execution_count": 11,
   "id": "5b2a6d37",
   "metadata": {},
   "outputs": [
    {
     "data": {
      "text/plain": [
       "Inflight entertainment\n",
       "4    36809\n",
       "5    31544\n",
       "3    23884\n",
       "2    21968\n",
       "1    15675\n",
       "Name: count, dtype: int64"
      ]
     },
     "execution_count": 11,
     "metadata": {},
     "output_type": "execute_result"
    }
   ],
   "source": [
    "flight_data['Inflight entertainment'] = flight_data['Inflight entertainment'].replace(0, pd.NA)\n",
    "median_value = flight_data['Inflight entertainment'].median()\n",
    "median_value = int(median_value)\n",
    "flight_data['Inflight entertainment'] = flight_data['Inflight entertainment'].fillna(median_value)\n",
    "flight_data[\"Inflight entertainment\"].value_counts(dropna = False)"
   ]
  },
  {
   "cell_type": "code",
   "execution_count": 12,
   "id": "fcbcb82d",
   "metadata": {},
   "outputs": [
    {
     "data": {
      "text/plain": [
       "On-board service\n",
       "4    38708\n",
       "5    29492\n",
       "3    28542\n",
       "2    18351\n",
       "1    14787\n",
       "Name: count, dtype: int64"
      ]
     },
     "execution_count": 12,
     "metadata": {},
     "output_type": "execute_result"
    }
   ],
   "source": [
    "flight_data['On-board service'] = flight_data['On-board service'].replace(0, pd.NA)\n",
    "median_value = flight_data['On-board service'].median()\n",
    "median_value = int(median_value)\n",
    "flight_data['On-board service'] = flight_data['On-board service'].fillna(median_value)\n",
    "flight_data[\"On-board service\"].value_counts(dropna = False)"
   ]
  },
  {
   "cell_type": "code",
   "execution_count": 13,
   "id": "77cee8b2",
   "metadata": {},
   "outputs": [
    {
     "data": {
      "text/plain": [
       "Leg room service\n",
       "4    36484\n",
       "5    30905\n",
       "3    25056\n",
       "2    24540\n",
       "1    12895\n",
       "Name: count, dtype: int64"
      ]
     },
     "execution_count": 13,
     "metadata": {},
     "output_type": "execute_result"
    }
   ],
   "source": [
    "flight_data['Leg room service'] = flight_data['Leg room service'].replace(0, pd.NA)\n",
    "median_value = flight_data['Leg room service'].median()\n",
    "median_value = int(median_value)\n",
    "flight_data['Leg room service'] = flight_data['Leg room service'].fillna(median_value)\n",
    "flight_data[\"Leg room service\"].value_counts(dropna = False)"
   ]
  },
  {
   "cell_type": "code",
   "execution_count": 14,
   "id": "c7ba3acd",
   "metadata": {},
   "outputs": [
    {
     "data": {
      "text/plain": [
       "Baggage handling\n",
       "4    46761\n",
       "5    33878\n",
       "3    25851\n",
       "2    14362\n",
       "1     9028\n",
       "Name: count, dtype: int64"
      ]
     },
     "execution_count": 14,
     "metadata": {},
     "output_type": "execute_result"
    }
   ],
   "source": [
    "flight_data['Baggage handling'] = flight_data['Baggage handling'].replace(0, pd.NA)\n",
    "median_value = flight_data['Baggage handling'].median()\n",
    "median_value = int(median_value)\n",
    "flight_data['Baggage handling'] = flight_data['Baggage handling'].fillna(median_value)\n",
    "flight_data[\"Baggage handling\"].value_counts(dropna = False)"
   ]
  },
  {
   "cell_type": "code",
   "execution_count": 15,
   "id": "d4673972",
   "metadata": {},
   "outputs": [
    {
     "data": {
      "text/plain": [
       "Checkin service\n",
       "4    36333\n",
       "3    35454\n",
       "5    25883\n",
       "1    16108\n",
       "2    16102\n",
       "Name: count, dtype: int64"
      ]
     },
     "execution_count": 15,
     "metadata": {},
     "output_type": "execute_result"
    }
   ],
   "source": [
    "flight_data['Checkin service'] = flight_data['Checkin service'].replace(0, pd.NA)\n",
    "median_value = flight_data['Checkin service'].median()\n",
    "median_value = int(median_value)\n",
    "flight_data['Checkin service'] = flight_data['Checkin service'].fillna(median_value)\n",
    "flight_data[\"Checkin service\"].value_counts(dropna = False)"
   ]
  },
  {
   "cell_type": "code",
   "execution_count": 16,
   "id": "dcfbe2bc",
   "metadata": {},
   "outputs": [
    {
     "data": {
      "text/plain": [
       "Inflight service\n",
       "4    47328\n",
       "5    34066\n",
       "3    25316\n",
       "2    14308\n",
       "1     8862\n",
       "Name: count, dtype: int64"
      ]
     },
     "execution_count": 16,
     "metadata": {},
     "output_type": "execute_result"
    }
   ],
   "source": [
    "flight_data['Inflight service'] = flight_data['Inflight service'].replace(0, pd.NA)\n",
    "median_value = flight_data['Inflight service'].median()\n",
    "median_value = int(median_value)\n",
    "flight_data['Inflight service'] = flight_data['Inflight service'].fillna(median_value)\n",
    "flight_data[\"Inflight service\"].value_counts(dropna = False)"
   ]
  },
  {
   "cell_type": "code",
   "execution_count": 17,
   "id": "e65bbed2",
   "metadata": {},
   "outputs": [
    {
     "data": {
      "text/plain": [
       "Cleanliness\n",
       "4    33969\n",
       "3    30653\n",
       "5    28416\n",
       "2    20113\n",
       "1    16729\n",
       "Name: count, dtype: int64"
      ]
     },
     "execution_count": 17,
     "metadata": {},
     "output_type": "execute_result"
    }
   ],
   "source": [
    "\n",
    "flight_data['Cleanliness'] = flight_data['Cleanliness'].replace(0, pd.NA)\n",
    "median_value = flight_data['Cleanliness'].median()\n",
    "median_value = int(median_value)\n",
    "flight_data['Cleanliness'] = flight_data['Cleanliness'].fillna(median_value)\n",
    "flight_data[\"Cleanliness\"].value_counts(dropna = False)"
   ]
  },
  {
   "cell_type": "code",
   "execution_count": 18,
   "id": "4791528a",
   "metadata": {},
   "outputs": [
    {
     "data": {
      "text/plain": [
       "count    129880.000000\n",
       "mean         14.713713\n",
       "std          38.071126\n",
       "min           0.000000\n",
       "25%           0.000000\n",
       "50%           0.000000\n",
       "75%          12.000000\n",
       "max        1592.000000\n",
       "Name: Departure Delay in Minutes, dtype: float64"
      ]
     },
     "execution_count": 18,
     "metadata": {},
     "output_type": "execute_result"
    }
   ],
   "source": [
    "flight_data[\"Departure Delay in Minutes\"].describe(include = 'all')"
   ]
  },
  {
   "cell_type": "code",
   "execution_count": 19,
   "id": "cccfed48",
   "metadata": {},
   "outputs": [
    {
     "data": {
      "text/plain": [
       "count    129880.000000\n",
       "mean         15.045465\n",
       "std          38.416353\n",
       "min           0.000000\n",
       "25%           0.000000\n",
       "50%           0.000000\n",
       "75%          13.000000\n",
       "max        1584.000000\n",
       "Name: Arrival Delay in Minutes, dtype: float64"
      ]
     },
     "execution_count": 19,
     "metadata": {},
     "output_type": "execute_result"
    }
   ],
   "source": [
    "\n",
    "median_value = flight_data['Arrival Delay in Minutes'].median()\n",
    "median_value = int(median_value)\n",
    "flight_data['Arrival Delay in Minutes'] = flight_data['Arrival Delay in Minutes'].fillna(median_value)\n",
    "flight_data[\"Arrival Delay in Minutes\"].describe(include = 'all')"
   ]
  },
  {
   "cell_type": "code",
   "execution_count": 20,
   "id": "144926a1",
   "metadata": {},
   "outputs": [],
   "source": [
    "flight_data = pd.get_dummies(flight_data, columns=['Gender'])\n",
    "flight_data = pd.get_dummies(flight_data, columns=['Customer Type'])\n",
    "flight_data = pd.get_dummies(flight_data, columns=['Type of Travel'])\n",
    "flight_data = pd.get_dummies(flight_data, columns=['Class'])"
   ]
  },
  {
   "cell_type": "code",
   "execution_count": 21,
   "id": "4d17e03c",
   "metadata": {},
   "outputs": [
    {
     "name": "stdout",
     "output_type": "stream",
     "text": [
      "Missing values in the DataFrame:\n",
      "id                                   0\n",
      "satisfaction_v2                      0\n",
      "Age                                  0\n",
      "Flight Distance                      0\n",
      "Inflight wifi service                0\n",
      "Departure/Arrival time convenient    0\n",
      "Ease of Online booking               0\n",
      "Gate location                        0\n",
      "Food and drink                       0\n",
      "Online boarding                      0\n",
      "Seat comfort                         0\n",
      "Inflight entertainment               0\n",
      "On-board service                     0\n",
      "Leg room service                     0\n",
      "Baggage handling                     0\n",
      "Checkin service                      0\n",
      "Inflight service                     0\n",
      "Cleanliness                          0\n",
      "Departure Delay in Minutes           0\n",
      "Arrival Delay in Minutes             0\n",
      "Gender_Female                        0\n",
      "Gender_Male                          0\n",
      "Customer Type_Loyal Customer         0\n",
      "Customer Type_disloyal Customer      0\n",
      "Type of Travel_Business travel       0\n",
      "Type of Travel_Personal Travel       0\n",
      "Class_Business                       0\n",
      "Class_Eco                            0\n",
      "Class_Eco Plus                       0\n",
      "dtype: int64\n"
     ]
    }
   ],
   "source": [
    "missing_values = flight_data.isna().sum()\n",
    "\n",
    "print(\"Missing values in the DataFrame:\")\n",
    "print(missing_values)"
   ]
  },
  {
   "cell_type": "code",
   "execution_count": 22,
   "id": "1e04ab9d-6b4f-4eac-bd76-cf26c004c78d",
   "metadata": {},
   "outputs": [],
   "source": [
    "# Drop id\n",
    "# Drop a column (e.g., column 'B')\n",
    "flight_data = flight_data.drop(columns=['id'])"
   ]
  },
  {
   "cell_type": "code",
   "execution_count": 23,
   "id": "4c9d379f",
   "metadata": {},
   "outputs": [
    {
     "name": "stderr",
     "output_type": "stream",
     "text": [
      "/Users/irenediaz-perez/anaconda3/lib/python3.11/site-packages/sklearn/linear_model/_logistic.py:460: ConvergenceWarning: lbfgs failed to converge (status=1):\n",
      "STOP: TOTAL NO. of ITERATIONS REACHED LIMIT.\n",
      "\n",
      "Increase the number of iterations (max_iter) or scale the data as shown in:\n",
      "    https://scikit-learn.org/stable/modules/preprocessing.html\n",
      "Please also refer to the documentation for alternative solver options:\n",
      "    https://scikit-learn.org/stable/modules/linear_model.html#logistic-regression\n",
      "  n_iter_i = _check_optimize_result(\n"
     ]
    },
    {
     "name": "stdout",
     "output_type": "stream",
     "text": [
      "Accuracy: 0.8290113951339698\n",
      "                         precision    recall  f1-score   support\n",
      "\n",
      "neutral or dissatisfied       0.88      0.81      0.84     18268\n",
      "              satisfied       0.78      0.85      0.81     14202\n",
      "\n",
      "               accuracy                           0.83     32470\n",
      "              macro avg       0.83      0.83      0.83     32470\n",
      "           weighted avg       0.83      0.83      0.83     32470\n",
      "\n"
     ]
    }
   ],
   "source": [
    "# Creating a logistic model with all features \n",
    "from sklearn.model_selection import train_test_split\n",
    "from sklearn.linear_model import LogisticRegression\n",
    "from sklearn.metrics import accuracy_score, classification_report\n",
    "\n",
    "\n",
    "# Step 4: Split the dataset into training and testing sets\n",
    "X = flight_data.drop('satisfaction_v2', axis=1) # Features\n",
    "y = flight_data['satisfaction_v2'] # Target variable\n",
    "X_train, X_test, y_train, y_test = train_test_split(X, y,  random_state=None)\n",
    "\n",
    "# Step 5: Create a logistic regression model\n",
    "model = LogisticRegression()\n",
    "\n",
    "# Step 6: Train the model on the training data\n",
    "result = model.fit(X_train, y_train)\n",
    "\n",
    "# Step 7: Evaluate the model's performance on the testing data\n",
    "y_pred = model.predict(X_test)\n",
    "\n",
    "# Calculate accuracy\n",
    "accuracy = accuracy_score(y_test, y_pred)\n",
    "print(\"Accuracy:\", accuracy)\n",
    "\n",
    "# Get classification report\n",
    "print(classification_report(y_test, y_pred))"
   ]
  },
  {
   "cell_type": "code",
   "execution_count": 24,
   "id": "14799c6d",
   "metadata": {},
   "outputs": [
    {
     "name": "stdout",
     "output_type": "stream",
     "text": [
      "Coefficients: [[-3.52661242e-02  7.92301822e-05  7.21464432e-01 -5.82557248e-01\n",
      "   2.19850535e-01 -4.45507662e-01 -3.94259189e-01  8.56809334e-01\n",
      "   2.38063382e-02  3.14888704e-01  2.00752705e-01  1.40207980e-01\n",
      "  -1.89523575e-01 -3.65840381e-02 -2.30192562e-01 -6.67003703e-02\n",
      "   1.20038674e-02 -1.70858079e-02 -1.97390836e-01 -1.38180915e-01\n",
      "  -1.03165272e-03 -3.34540099e-01  3.33258608e-01 -6.68830360e-01\n",
      "   5.06531544e-01 -7.41572428e-01 -1.00530867e-01]]\n",
      "Intercept: [-0.33557827]\n",
      "Model Parameters: {'C': 1.0, 'class_weight': None, 'dual': False, 'fit_intercept': True, 'intercept_scaling': 1, 'l1_ratio': None, 'max_iter': 100, 'multi_class': 'auto', 'n_jobs': None, 'penalty': 'l2', 'random_state': None, 'solver': 'lbfgs', 'tol': 0.0001, 'verbose': 0, 'warm_start': False}\n"
     ]
    }
   ],
   "source": [
    "# 1. Coefficients\n",
    "coefficients = model.coef_\n",
    "print(\"Coefficients:\", coefficients)\n",
    "\n",
    "# 2. Intercept\n",
    "intercept = model.intercept_\n",
    "print(\"Intercept:\", intercept)\n",
    "\n",
    "# 3. Model Parameters\n",
    "params = model.get_params()\n",
    "print(\"Model Parameters:\", params)"
   ]
  },
  {
   "cell_type": "code",
   "execution_count": 25,
   "id": "c91597aa",
   "metadata": {},
   "outputs": [
    {
     "name": "stdout",
     "output_type": "stream",
     "text": [
      "                              Feature  Coefficient  Abs_Coefficient\n",
      "0                                 Age    -0.035266         0.035266\n",
      "1                     Flight Distance     0.000079         0.000079\n",
      "2               Inflight wifi service     0.721464         0.721464\n",
      "3   Departure/Arrival time convenient    -0.582557         0.582557\n",
      "4              Ease of Online booking     0.219851         0.219851\n",
      "5                       Gate location    -0.445508         0.445508\n",
      "6                      Food and drink    -0.394259         0.394259\n",
      "7                     Online boarding     0.856809         0.856809\n",
      "8                        Seat comfort     0.023806         0.023806\n",
      "9              Inflight entertainment     0.314889         0.314889\n",
      "10                   On-board service     0.200753         0.200753\n",
      "11                   Leg room service     0.140208         0.140208\n",
      "12                   Baggage handling    -0.189524         0.189524\n",
      "13                    Checkin service    -0.036584         0.036584\n",
      "14                   Inflight service    -0.230193         0.230193\n",
      "15                        Cleanliness    -0.066700         0.066700\n",
      "16         Departure Delay in Minutes     0.012004         0.012004\n",
      "17           Arrival Delay in Minutes    -0.017086         0.017086\n",
      "18                      Gender_Female    -0.197391         0.197391\n",
      "19                        Gender_Male    -0.138181         0.138181\n",
      "20       Customer Type_Loyal Customer    -0.001032         0.001032\n",
      "21    Customer Type_disloyal Customer    -0.334540         0.334540\n",
      "22     Type of Travel_Business travel     0.333259         0.333259\n",
      "23     Type of Travel_Personal Travel    -0.668830         0.668830\n",
      "24                     Class_Business     0.506532         0.506532\n",
      "25                          Class_Eco    -0.741572         0.741572\n",
      "26                     Class_Eco Plus    -0.100531         0.100531\n"
     ]
    }
   ],
   "source": [
    "import numpy as np\n",
    "# Get coefficient estimates\n",
    "coefficients = model.coef_[0]\n",
    "\n",
    "# Get feature names\n",
    "feature_names = X_train.columns\n",
    "\n",
    "# Create a DataFrame to display coefficients\n",
    "coef_df = pd.DataFrame({'Feature': feature_names, 'Coefficient': coefficients})\n",
    "\n",
    "# Sort the DataFrame by absolute coefficient values\n",
    "coef_df['Abs_Coefficient'] = np.abs(coef_df['Coefficient'])\n",
    "\n",
    "# Display the DataFrame\n",
    "print(coef_df)"
   ]
  },
  {
   "cell_type": "code",
   "execution_count": 26,
   "id": "f5f48229",
   "metadata": {},
   "outputs": [
    {
     "name": "stdout",
     "output_type": "stream",
     "text": [
      "Online boarding: 0.1660090414796556\n",
      "Inflight wifi service: 0.10903774271423286\n",
      "Class_Business: 0.08714612014563505\n",
      "Type of Travel_Personal Travel: 0.06933276175947203\n",
      "Inflight entertainment: 0.05805755149928446\n",
      "Seat comfort: 0.04701792181888543\n",
      "Type of Travel_Business travel: 0.045438709920230524\n",
      "Flight Distance: 0.03379684171925244\n",
      "Age: 0.032497311749668356\n",
      "Leg room service: 0.03194085549268833\n",
      "Customer Type_Loyal Customer: 0.030061964559378342\n",
      "Ease of Online booking: 0.02920440487204246\n",
      "On-board service: 0.028788466547300485\n",
      "Class_Eco: 0.028692798212457685\n",
      "Checkin service: 0.027641341794687593\n",
      "Inflight service: 0.02562394831262443\n",
      "Baggage handling: 0.025516605589257155\n",
      "Cleanliness: 0.024748851280158694\n",
      "Customer Type_disloyal Customer: 0.023889595066096087\n",
      "Gate location: 0.015898966558804142\n",
      "Arrival Delay in Minutes: 0.013380836685966825\n",
      "Departure/Arrival time convenient: 0.013135931009521267\n",
      "Food and drink: 0.01176686311126314\n",
      "Departure Delay in Minutes: 0.011565450758944572\n",
      "Gender_Female: 0.00372560602982072\n",
      "Gender_Male: 0.0035114658659571025\n",
      "Class_Eco Plus: 0.0025720454467142023\n"
     ]
    }
   ],
   "source": [
    "# Giving features a score to decide what to include in our model\n",
    "from sklearn.ensemble import RandomForestClassifier\n",
    "\n",
    "# Train a random forest classifier\n",
    "rf_model = RandomForestClassifier(n_estimators=100, random_state=42)\n",
    "rf_model.fit(X_train, y_train)\n",
    "\n",
    "# Get feature importances\n",
    "feature_importances = rf_model.feature_importances_\n",
    "\n",
    "# Sort feature importances in descending order\n",
    "indices = feature_importances.argsort()[::-1]\n",
    "\n",
    "# Print feature importance scores\n",
    "for i in range(len(indices)):\n",
    "    print(f\"{X.columns[indices[i]]}: {feature_importances[indices[i]]}\")\n"
   ]
  },
  {
   "cell_type": "code",
   "execution_count": 27,
   "id": "9189f847",
   "metadata": {},
   "outputs": [
    {
     "data": {
      "text/plain": [
       "0.7305435786880197"
      ]
     },
     "execution_count": 27,
     "metadata": {},
     "output_type": "execute_result"
    }
   ],
   "source": [
    "from sklearn.model_selection import cross_val_score\n",
    "from sklearn.linear_model import LogisticRegression  \n",
    "\n",
    "\n",
    "model = LogisticRegression(max_iter=10000)  # Increase max_iter\n",
    "\n",
    "# Select features with importance scores above a threshold\n",
    "threshold = 0.03\n",
    "selected_features = X.columns[feature_importances > threshold]\n",
    "X_selected = X[selected_features]\n",
    "\n",
    "# Train model using selected features\n",
    "model.fit(X_selected, y)\n",
    "\n",
    "# Evaluate model performance using cross-validation\n",
    "cv_scores = cross_val_score(model, X_selected, y, cv=5) # Choose appropriate number of folds\n",
    "mean_cv_score = np.mean(cv_scores)\n",
    "mean_cv_score # the score barely went up"
   ]
  },
  {
   "cell_type": "code",
   "execution_count": 28,
   "id": "55f3fe89",
   "metadata": {},
   "outputs": [
    {
     "name": "stdout",
     "output_type": "stream",
     "text": [
      "Accuracy: 0.9429627348321528\n",
      "                         precision    recall  f1-score   support\n",
      "\n",
      "neutral or dissatisfied       0.95      0.95      0.95     18318\n",
      "              satisfied       0.93      0.94      0.93     14152\n",
      "\n",
      "               accuracy                           0.94     32470\n",
      "              macro avg       0.94      0.94      0.94     32470\n",
      "           weighted avg       0.94      0.94      0.94     32470\n",
      "\n"
     ]
    }
   ],
   "source": [
    "from sklearn.model_selection import train_test_split\n",
    "from sklearn.tree import DecisionTreeClassifier\n",
    "from sklearn.metrics import accuracy_score, classification_report\n",
    "\n",
    "\n",
    "X = flight_data.drop('satisfaction_v2', axis=1) # Using all features\n",
    "y = flight_data['satisfaction_v2'] # Target variable\n",
    "X_train, X_test, y_train, y_test = train_test_split(X, y, random_state=42)\n",
    "\n",
    "\n",
    "dt_model = DecisionTreeClassifier(random_state=42)\n",
    "dt_model.fit(X_train, y_train)\n",
    "\n",
    "\n",
    "y_pred = dt_model.predict(X_test)\n",
    "\n",
    "# Calculate accuracy\n",
    "accuracy = accuracy_score(y_test, y_pred)\n",
    "print(\"Accuracy:\", accuracy)\n",
    "\n",
    "# Get classification report\n",
    "print(classification_report(y_test, y_pred)) \n",
    "\n",
    "# Very good score"
   ]
  },
  {
   "cell_type": "code",
   "execution_count": 29,
   "id": "1aa46cf1",
   "metadata": {
    "tags": []
   },
   "outputs": [
    {
     "ename": "ModuleNotFoundError",
     "evalue": "No module named 'graphviz'",
     "output_type": "error",
     "traceback": [
      "\u001b[0;31m---------------------------------------------------------------------------\u001b[0m",
      "\u001b[0;31mModuleNotFoundError\u001b[0m                       Traceback (most recent call last)",
      "Cell \u001b[0;32mIn[29], line 3\u001b[0m\n\u001b[1;32m      1\u001b[0m \u001b[38;5;28;01mimport\u001b[39;00m \u001b[38;5;21;01mmatplotlib\u001b[39;00m\u001b[38;5;21;01m.\u001b[39;00m\u001b[38;5;21;01mpyplot\u001b[39;00m \u001b[38;5;28;01mas\u001b[39;00m \u001b[38;5;21;01mplt\u001b[39;00m\n\u001b[1;32m      2\u001b[0m \u001b[38;5;28;01mfrom\u001b[39;00m \u001b[38;5;21;01msklearn\u001b[39;00m\u001b[38;5;21;01m.\u001b[39;00m\u001b[38;5;21;01mtree\u001b[39;00m \u001b[38;5;28;01mimport\u001b[39;00m export_graphviz\n\u001b[0;32m----> 3\u001b[0m \u001b[38;5;28;01mimport\u001b[39;00m \u001b[38;5;21;01mgraphviz\u001b[39;00m\n\u001b[1;32m      5\u001b[0m \u001b[38;5;66;03m# Function to plot decision tree\u001b[39;00m\n\u001b[1;32m      6\u001b[0m \u001b[38;5;28;01mdef\u001b[39;00m \u001b[38;5;21mplot_tree\u001b[39m(classifier, feature_names):\n",
      "\u001b[0;31mModuleNotFoundError\u001b[0m: No module named 'graphviz'"
     ]
    }
   ],
   "source": [
    "import matplotlib.pyplot as plt\n",
    "from sklearn.tree import export_graphviz\n",
    "import graphviz\n",
    "\n",
    "# Function to plot decision tree\n",
    "def plot_tree(classifier, feature_names):\n",
    "    dot_data = export_graphviz(\n",
    "        classifier, out_file=None, \n",
    "        feature_names=feature_names,\n",
    "        class_names=True, \n",
    "        filled=True, rounded=True, \n",
    "        special_characters=True\n",
    "    )\n",
    "    graph = graphviz.Source(dot_data) \n",
    "    return graph\n",
    "\n",
    "\n",
    "graph = plot_tree(dt_model, X.columns)\n",
    "graph.view()  \n",
    "\n",
    "\n",
    "graph\n"
   ]
  },
  {
   "cell_type": "code",
   "execution_count": null,
   "id": "074618a6",
   "metadata": {},
   "outputs": [],
   "source": [
    "from sklearn.model_selection import cross_val_score\n",
    "from sklearn.tree import DecisionTreeClassifier\n",
    "\n",
    "# Using cross validation to shed off some of the features\n",
    "threshold = 0.03\n",
    "selected_features = X.columns[feature_importances > threshold]\n",
    "X_selected = X[selected_features]\n",
    "\n",
    "# Create decision tree classifier\n",
    "dt_model = DecisionTreeClassifier(random_state=42)\n",
    "\n",
    "# Perform cross-validation on the selected features\n",
    "cv_scores = cross_val_score(dt_model, X_selected, y, cv=5) \n",
    "\n",
    "# Calculate mean cross-validation score\n",
    "mean_cv_score = cv_scores.mean()\n",
    "\n",
    "print(\"Mean Cross-Validation Score:\", mean_cv_score)\n"
   ]
  },
  {
   "cell_type": "code",
   "execution_count": null,
   "id": "e291a105",
   "metadata": {},
   "outputs": [],
   "source": [
    "# Lower score need to look at number of folds and threshold\n",
    "import pandas as pd\n",
    "import seaborn as sns\n",
    "import matplotlib.pyplot as plt\n",
    "\n",
    "# Remove non-numeric columns or encode categorical variables\n",
    "numeric_data = flight_data.select_dtypes(include=['number'])\n",
    "\n",
    "# Calculate the correlation matrix\n",
    "corr_matrix = numeric_data.corr()\n",
    "\n",
    "# Visualize the correlation matrix using a heatmap\n",
    "plt.figure(figsize=(12, 10))\n",
    "sns.heatmap(corr_matrix, annot=True, cmap='coolwarm', fmt=\".2f\", linewidths=0.5)\n",
    "plt.title('Correlation Matrix Heatmap')\n",
    "plt.show()\n",
    "\n",
    "threshold = 0.7\n",
    "\n",
    "# Identify and remove highly correlated features\n",
    "highly_correlated = set()\n",
    "for i in range(len(corr_matrix.columns)):\n",
    "    for j in range(i):\n",
    "        if abs(corr_matrix.iloc[i, j]) > threshold:\n",
    "            colname_i = corr_matrix.columns[i]\n",
    "            colname_j = corr_matrix.columns[j]\n",
    "            if colname_i not in highly_correlated:\n",
    "                highly_correlated.add(colname_i)\n",
    "            if colname_j not in highly_correlated:\n",
    "                highly_correlated.add(colname_j)\n",
    "\n",
    "# Print highly correlated features and decide which ones to remove\n",
    "print(\"Highly Correlated Features:\", highly_correlated)\n",
    "\n",
    "\n"
   ]
  },
  {
   "cell_type": "code",
   "execution_count": null,
   "id": "b5543c46",
   "metadata": {},
   "outputs": [],
   "source": [
    "\n"
   ]
  },
  {
   "cell_type": "code",
   "execution_count": null,
   "id": "280e6a11",
   "metadata": {},
   "outputs": [],
   "source": [
    "import matplotlib.pyplot as plt\n",
    "# Grouping by 'online boarding' and 'satisfaction', and counting the occurrences\n",
    "counts = flight_data.groupby(['Online boarding', 'satisfaction_v2']).size().unstack(fill_value=0)\n",
    "\n",
    "# Plotting the bar chart with side-by-side bars\n",
    "counts.plot(kind='bar', width=0.4)\n",
    "\n",
    "# Adding labels and title\n",
    "plt.title('Counts of Online Boarding Ratings by Satisfaction')\n",
    "plt.xlabel('Online Boarding Rating')\n",
    "plt.ylabel('Count')\n",
    "plt.xticks(rotation=0)\n",
    "\n",
    "# Displaying the plot\n",
    "plt.legend(title='Satisfaction')\n",
    "plt.show()"
   ]
  },
  {
   "cell_type": "code",
   "execution_count": null,
   "id": "aa0ff232",
   "metadata": {},
   "outputs": [],
   "source": []
  },
  {
   "cell_type": "code",
   "execution_count": null,
   "id": "d0830979-94c6-434a-b734-8cd07564fe2a",
   "metadata": {},
   "outputs": [],
   "source": [
    "counts = flight_data.groupby(['Inflight wifi service', 'satisfaction_v2']).size().unstack(fill_value=0)\n",
    "\n",
    "# Plotting the bar chart with side-by-side bars\n",
    "counts.plot(kind='bar', width=0.4)\n",
    "\n",
    "# Adding labels and title\n",
    "plt.title('Satisfaction and Inflight Wifi Service')\n",
    "plt.xlabel('Inflight Wifi Service Rating')\n",
    "plt.ylabel('Count')\n",
    "plt.xticks(rotation=0)\n",
    "\n",
    "# Displaying the plot\n",
    "plt.legend(title='Satisfaction')\n",
    "plt.show()"
   ]
  },
  {
   "cell_type": "code",
   "execution_count": null,
   "id": "4df1bcce-b905-4888-a734-a224a1bf633b",
   "metadata": {},
   "outputs": [],
   "source": [
    "counts = flight_data.groupby(['Class_Business', 'satisfaction_v2']).size().unstack(fill_value=0)\n",
    "\n",
    "# Plotting the bar chart with side-by-side bars\n",
    "counts.plot(kind='bar', width=0.4)\n",
    "\n",
    "# Adding labels and title\n",
    "plt.title('Satisfaction and Business Class')\n",
    "plt.xlabel('Business Class?')\n",
    "plt.ylabel('Count')\n",
    "plt.xticks(rotation=0)\n",
    "\n",
    "# Displaying the plot\n",
    "plt.legend(title='Satisfaction')\n",
    "plt.show()"
   ]
  },
  {
   "cell_type": "code",
   "execution_count": null,
   "id": "179129d6-8c61-4b45-90b5-54903d6571b3",
   "metadata": {},
   "outputs": [],
   "source": [
    "counts = flight_data.groupby(['Class_Eco', 'satisfaction_v2']).size().unstack(fill_value=0)\n",
    "\n",
    "# Plotting the bar chart with side-by-side bars\n",
    "counts.plot(kind='bar', width=0.4)\n",
    "\n",
    "# Adding labels and title\n",
    "plt.title('Satisfaction and Economy Class')\n",
    "plt.xlabel('Economy Class?')\n",
    "plt.ylabel('Count')\n",
    "plt.xticks(rotation=0)\n",
    "\n",
    "# Displaying the plot\n",
    "plt.legend(title='Satisfaction')\n",
    "plt.show()"
   ]
  },
  {
   "cell_type": "code",
   "execution_count": null,
   "id": "c0ca3dea-d43e-4f1c-9556-56be6d150b6b",
   "metadata": {},
   "outputs": [],
   "source": [
    "counts = flight_data.groupby(['Class_Eco Plus', 'satisfaction_v2']).size().unstack(fill_value=0)\n",
    "\n",
    "# Plotting the bar chart with side-by-side bars\n",
    "counts.plot(kind='bar', width=0.4)\n",
    "\n",
    "# Adding labels and title\n",
    "plt.title('Satisfaction and Economy Plus Class')\n",
    "plt.xlabel('Economy Plus Class?')\n",
    "plt.ylabel('Count')\n",
    "plt.xticks(rotation=0)\n",
    "\n",
    "# Displaying the plot\n",
    "plt.legend(title='Satisfaction')\n",
    "plt.show()"
   ]
  },
  {
   "cell_type": "code",
   "execution_count": null,
   "id": "df96324d-fe0e-4be1-b812-22a779d894d1",
   "metadata": {},
   "outputs": [],
   "source": [
    "counts = flight_data.groupby(['Type of Travel_Personal Travel', 'satisfaction_v2']).size().unstack(fill_value=0)\n",
    "\n",
    "# Plotting the bar chart with side-by-side bars\n",
    "counts.plot(kind='bar', width=0.4)\n",
    "\n",
    "# Adding labels and title\n",
    "plt.title('Satisfaction and Personal Travel')\n",
    "plt.xlabel('Personal Travel?')\n",
    "plt.ylabel('Count')\n",
    "plt.xticks(rotation=0)\n",
    "\n",
    "# Displaying the plot\n",
    "plt.legend(title='Satisfaction')\n",
    "plt.show()"
   ]
  },
  {
   "cell_type": "code",
   "execution_count": null,
   "id": "4ed66ae3-8412-4ece-a2cc-85d7e1d22a0b",
   "metadata": {},
   "outputs": [],
   "source": [
    "counts = flight_data.groupby(['Type of Travel_Business travel', 'satisfaction_v2']).size().unstack(fill_value=0)\n",
    "\n",
    "# Plotting the bar chart with side-by-side bars\n",
    "counts.plot(kind='bar', width=0.4)\n",
    "\n",
    "# Adding labels and title\n",
    "plt.title('Satisfaction and Business Travel')\n",
    "plt.xlabel('Business Travel?')\n",
    "plt.ylabel('Count')\n",
    "plt.xticks(rotation=0)\n",
    "\n",
    "# Displaying the plot\n",
    "plt.legend(title='Satisfaction')\n",
    "plt.show()"
   ]
  },
  {
   "cell_type": "code",
   "execution_count": null,
   "id": "1176b77f-032a-4a5b-b160-3a23e0f0f3df",
   "metadata": {},
   "outputs": [],
   "source": [
    "counts = flight_data.groupby(['Inflight entertainment', 'satisfaction_v2']).size().unstack(fill_value=0)\n",
    "\n",
    "# Plotting the bar chart with side-by-side bars\n",
    "counts.plot(kind='bar', width=0.4)\n",
    "\n",
    "# Adding labels and title\n",
    "plt.title('Satisfaction and Inflight Intertainment')\n",
    "plt.xlabel('Inflight Entertainment')\n",
    "plt.ylabel('Count')\n",
    "plt.xticks(rotation=0)\n",
    "\n",
    "# Displaying the plot\n",
    "plt.legend(title='Satisfaction')\n",
    "plt.show()"
   ]
  },
  {
   "cell_type": "code",
   "execution_count": null,
   "id": "33be352b-b4ab-4127-b16a-13a9d2c0cb14",
   "metadata": {},
   "outputs": [],
   "source": [
    "counts = flight_data.groupby(['Seat comfort', 'satisfaction_v2']).size().unstack(fill_value=0)\n",
    "\n",
    "# Plotting the bar chart with side-by-side bars\n",
    "counts.plot(kind='bar', width=0.4)\n",
    "\n",
    "# Adding labels and title\n",
    "plt.title('Satisfaction and Seat Comfort')\n",
    "plt.xlabel('Seat Comfort')\n",
    "plt.ylabel('Count')\n",
    "plt.xticks(rotation=0)\n",
    "\n",
    "# Displaying the plot\n",
    "plt.legend(title='Satisfaction')\n",
    "plt.show()"
   ]
  },
  {
   "cell_type": "code",
   "execution_count": null,
   "id": "e29f5e64-c198-4f31-80db-58d4f08d18cb",
   "metadata": {},
   "outputs": [],
   "source": [
    "counts = flight_data.groupby(['Customer Type_Loyal Customer', 'satisfaction_v2']).size().unstack(fill_value=0)\n",
    "\n",
    "# Plotting the bar chart with side-by-side bars\n",
    "counts.plot(kind='bar', width=0.4)\n",
    "\n",
    "# Adding labels and title\n",
    "plt.title('Satisfaction and Customer Loyalty')\n",
    "plt.xlabel('Loyal?')\n",
    "plt.ylabel('Count')\n",
    "plt.xticks(rotation=0)\n",
    "\n",
    "# Displaying the plot\n",
    "plt.legend(title='Satisfaction')\n",
    "plt.show()"
   ]
  },
  {
   "cell_type": "code",
   "execution_count": null,
   "id": "335642da-646c-4551-82f0-b7193202d853",
   "metadata": {},
   "outputs": [],
   "source": [
    "# Plotting histograms\n",
    "flight_data.hist(column='Flight Distance', by='satisfaction_v2', alpha=0.5, figsize=(10, 5))\n",
    "\n",
    "# Adding labels and title\n",
    "plt.suptitle('Distribution of Flight Distance by Satisfaction')\n",
    "plt.xlabel('Flight Distance')\n",
    "plt.ylabel('Frequency')\n",
    "\n",
    "\n",
    "# Show plot\n",
    "plt.show()"
   ]
  },
  {
   "cell_type": "code",
   "execution_count": null,
   "id": "c3dae9f7-8006-4778-af96-ee4cec6ca8c7",
   "metadata": {},
   "outputs": [],
   "source": [
    "# Plotting histograms\n",
    "flight_data.hist(column='Age', by='satisfaction_v2', alpha=0.5, figsize=(10, 5))\n",
    "\n",
    "# Adding labels and title\n",
    "plt.suptitle('Distribution of Age by Satisfaction')\n",
    "plt.xlabel('Age')\n",
    "plt.ylabel('Frequency')\n",
    "\n",
    "\n",
    "# Show plot\n",
    "plt.show()"
   ]
  },
  {
   "cell_type": "code",
   "execution_count": null,
   "id": "a98a12f0-2055-4919-86b2-3217519a9092",
   "metadata": {},
   "outputs": [],
   "source": [
    "counts = flight_data.groupby(['Leg room service', 'satisfaction_v2']).size().unstack(fill_value=0)\n",
    "\n",
    "# Plotting the bar chart with side-by-side bars\n",
    "counts.plot(kind='bar', width=0.4)\n",
    "\n",
    "# Adding labels and title\n",
    "plt.title('Satisfaction and Leg Room')\n",
    "plt.xlabel('Leg Room')\n",
    "plt.ylabel('Count')\n",
    "plt.xticks(rotation=0)\n",
    "\n",
    "# Displaying the plot\n",
    "plt.legend(title='Satisfaction')\n",
    "plt.show()"
   ]
  },
  {
   "cell_type": "code",
   "execution_count": null,
   "id": "0f5b3872-2523-4c22-9523-d3b10d9fcce8",
   "metadata": {},
   "outputs": [],
   "source": [
    "counts = flight_data.groupby(['On-board service', 'satisfaction_v2']).size().unstack(fill_value=0)\n",
    "\n",
    "# Plotting the bar chart with side-by-side bars\n",
    "counts.plot(kind='bar', width=0.4)\n",
    "\n",
    "# Adding labels and title\n",
    "plt.title('Satisfaction and On-Board Service')\n",
    "plt.xlabel('On-Board Service')\n",
    "plt.ylabel('Count')\n",
    "plt.xticks(rotation=0)\n",
    "\n",
    "# Displaying the plot\n",
    "plt.legend(title='Satisfaction')\n",
    "plt.show()"
   ]
  },
  {
   "cell_type": "code",
   "execution_count": null,
   "id": "660f9a3a-1fb6-49d7-a68c-6a90c779ed31",
   "metadata": {},
   "outputs": [],
   "source": [
    "counts = flight_data.groupby(['Ease of Online booking', 'satisfaction_v2']).size().unstack(fill_value=0)\n",
    "\n",
    "# Plotting the bar chart with side-by-side bars\n",
    "counts.plot(kind='bar', width=0.4)\n",
    "\n",
    "# Adding labels and title\n",
    "plt.title('Satisfaction and Ease of Online Booking')\n",
    "plt.xlabel('Ease of Online Booking')\n",
    "plt.ylabel('Count')\n",
    "plt.xticks(rotation=0)\n",
    "\n",
    "# Displaying the plot\n",
    "plt.legend(title='Satisfaction')\n",
    "plt.show()"
   ]
  },
  {
   "cell_type": "code",
   "execution_count": null,
   "id": "dad5eebf-5727-4f8e-8add-7d9ddc5437c1",
   "metadata": {},
   "outputs": [],
   "source": [
    "counts = flight_data.groupby(['Cleanliness', 'satisfaction_v2']).size().unstack(fill_value=0)\n",
    "\n",
    "# Plotting the bar chart with side-by-side bars\n",
    "counts.plot(kind='bar', width=0.4)\n",
    "\n",
    "# Adding labels and title\n",
    "plt.title('Satisfaction and Cleanliness')\n",
    "plt.xlabel('Cleanliness')\n",
    "plt.ylabel('Count')\n",
    "plt.xticks(rotation=0)\n",
    "\n",
    "# Displaying the plot\n",
    "plt.legend(title='Satisfaction')\n",
    "plt.show()"
   ]
  },
  {
   "cell_type": "code",
   "execution_count": null,
   "id": "83cf0c12-255b-4424-97c2-dd0a961c287c",
   "metadata": {},
   "outputs": [],
   "source": [
    "counts = flight_data.groupby(['Inflight service', 'satisfaction_v2']).size().unstack(fill_value=0)\n",
    "\n",
    "# Plotting the bar chart with side-by-side bars\n",
    "counts.plot(kind='bar', width=0.4)\n",
    "\n",
    "# Adding labels and title\n",
    "plt.title('Satisfaction and Inflight service')\n",
    "plt.xlabel('Inflight service')\n",
    "plt.ylabel('Count')\n",
    "plt.xticks(rotation=0)\n",
    "\n",
    "# Displaying the plot\n",
    "plt.legend(title='Satisfaction')\n",
    "plt.show()"
   ]
  },
  {
   "cell_type": "code",
   "execution_count": null,
   "id": "eb660817-8d7f-4012-9508-286582c70323",
   "metadata": {},
   "outputs": [],
   "source": [
    "counts = flight_data.groupby(['Baggage handling', 'satisfaction_v2']).size().unstack(fill_value=0)\n",
    "\n",
    "# Plotting the bar chart with side-by-side bars\n",
    "counts.plot(kind='bar', width=0.4)\n",
    "\n",
    "# Adding labels and title\n",
    "plt.title('Satisfaction and Baggage handling')\n",
    "plt.xlabel('Baggage handling')\n",
    "plt.ylabel('Count')\n",
    "plt.xticks(rotation=0)\n",
    "\n",
    "# Displaying the plot\n",
    "plt.legend(title='Satisfaction')\n",
    "plt.show()"
   ]
  },
  {
   "cell_type": "code",
   "execution_count": null,
   "id": "65213f63-659d-4818-a247-812b263cf76b",
   "metadata": {},
   "outputs": [],
   "source": [
    "counts = flight_data.groupby(['Gate location', 'satisfaction_v2']).size().unstack(fill_value=0)\n",
    "\n",
    "# Plotting the bar chart with side-by-side bars\n",
    "counts.plot(kind='bar', width=0.4)\n",
    "\n",
    "# Adding labels and title\n",
    "plt.title('Satisfaction and Gate location')\n",
    "plt.xlabel('Gate location')\n",
    "plt.ylabel('Count')\n",
    "plt.xticks(rotation=0)\n",
    "\n",
    "# Displaying the plot\n",
    "plt.legend(title='Satisfaction')\n",
    "plt.show()"
   ]
  },
  {
   "cell_type": "code",
   "execution_count": null,
   "id": "7e2d9447-7a13-441c-9a51-527774d1a05a",
   "metadata": {},
   "outputs": [],
   "source": [
    "# Plotting histograms\n",
    "flight_data.hist(column='Arrival Delay in Minutes', by='satisfaction_v2', alpha=0.5, figsize=(10, 5))\n",
    "\n",
    "# Adding labels and title\n",
    "plt.suptitle('Distribution of Arrival Delay in Minutes by Satisfaction')\n",
    "plt.xlabel('Arrival Delay in Minutes')\n",
    "plt.ylabel('Frequency')\n",
    "\n",
    "\n",
    "# Show plot\n",
    "plt.show()"
   ]
  },
  {
   "cell_type": "code",
   "execution_count": null,
   "id": "031d5c23-3342-47f4-9449-2b4c50fd5400",
   "metadata": {},
   "outputs": [],
   "source": [
    "counts = flight_data.groupby(['Departure/Arrival time convenient', 'satisfaction_v2']).size().unstack(fill_value=0)\n",
    "\n",
    "# Plotting the bar chart with side-by-side bars\n",
    "counts.plot(kind='bar', width=0.4)\n",
    "\n",
    "# Adding labels and title\n",
    "plt.title('Satisfaction and Departure/Arrival time convenient')\n",
    "plt.xlabel('Departure/Arrival time convenient')\n",
    "plt.ylabel('Count')\n",
    "plt.xticks(rotation=0)\n",
    "\n",
    "# Displaying the plot\n",
    "plt.legend(title='Satisfaction')\n",
    "plt.show()"
   ]
  },
  {
   "cell_type": "code",
   "execution_count": null,
   "id": "9a245e3a-8bf5-43e6-93e4-1556caa5e717",
   "metadata": {},
   "outputs": [],
   "source": [
    "counts = flight_data.groupby(['Food and drink', 'satisfaction_v2']).size().unstack(fill_value=0)\n",
    "\n",
    "# Plotting the bar chart with side-by-side bars\n",
    "counts.plot(kind='bar', width=0.4)\n",
    "\n",
    "# Adding labels and title\n",
    "plt.title('Satisfaction and Food and drink')\n",
    "plt.xlabel('Food and drink')\n",
    "plt.ylabel('Count')\n",
    "plt.xticks(rotation=0)\n",
    "\n",
    "# Displaying the plot\n",
    "plt.legend(title='Satisfaction')\n",
    "plt.show()"
   ]
  },
  {
   "cell_type": "code",
   "execution_count": null,
   "id": "f9f91409-5122-48a5-95d4-52b0f4b2a9b2",
   "metadata": {
    "tags": []
   },
   "outputs": [],
   "source": [
    "counts = flight_data.groupby(['Gender_Male', 'satisfaction_v2']).size().unstack(fill_value=0)\n",
    "\n",
    "# Plotting the bar chart with side-by-side bars\n",
    "counts.plot(kind='bar', width=0.4)\n",
    "\n",
    "# Adding labels and title\n",
    "plt.title('Satisfaction and Gender')\n",
    "plt.xlabel('Male?')\n",
    "plt.ylabel('Count')\n",
    "plt.xticks(rotation=0)\n",
    "\n",
    "# Displaying the plot\n",
    "plt.legend(title='Satisfaction')\n",
    "plt.show()"
   ]
  }
 ],
 "metadata": {
  "kernelspec": {
   "display_name": "Python 3 (ipykernel)",
   "language": "python",
   "name": "python3"
  },
  "language_info": {
   "codemirror_mode": {
    "name": "ipython",
    "version": 3
   },
   "file_extension": ".py",
   "mimetype": "text/x-python",
   "name": "python",
   "nbconvert_exporter": "python",
   "pygments_lexer": "ipython3",
   "version": "3.11.5"
  }
 },
 "nbformat": 4,
 "nbformat_minor": 5
}
