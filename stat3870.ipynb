{
 "cells": [
  {
   "cell_type": "code",
   "execution_count": 1,
   "id": "d832ceec-f717-4bd4-a890-32fe26e259f7",
   "metadata": {},
   "outputs": [
    {
     "name": "stderr",
     "output_type": "stream",
     "text": [
      "C:\\Users\\abbyv\\AppData\\Local\\Temp\\ipykernel_4268\\4080736814.py:1: DeprecationWarning: \n",
      "Pyarrow will become a required dependency of pandas in the next major release of pandas (pandas 3.0),\n",
      "(to allow more performant data types, such as the Arrow string type, and better interoperability with other libraries)\n",
      "but was not found to be installed on your system.\n",
      "If this would cause problems for you,\n",
      "please provide us feedback at https://github.com/pandas-dev/pandas/issues/54466\n",
      "        \n",
      "  import pandas as pd\n"
     ]
    }
   ],
   "source": [
    "import pandas as pd"
   ]
  },
  {
   "cell_type": "code",
   "execution_count": 2,
   "id": "b9e21811-740b-46a8-9f57-7545bc9efc1a",
   "metadata": {},
   "outputs": [
    {
     "data": {
      "text/html": [
       "<div>\n",
       "<style scoped>\n",
       "    .dataframe tbody tr th:only-of-type {\n",
       "        vertical-align: middle;\n",
       "    }\n",
       "\n",
       "    .dataframe tbody tr th {\n",
       "        vertical-align: top;\n",
       "    }\n",
       "\n",
       "    .dataframe thead th {\n",
       "        text-align: right;\n",
       "    }\n",
       "</style>\n",
       "<table border=\"1\" class=\"dataframe\">\n",
       "  <thead>\n",
       "    <tr style=\"text-align: right;\">\n",
       "      <th></th>\n",
       "      <th>id</th>\n",
       "      <th>satisfaction_v2</th>\n",
       "      <th>Gender</th>\n",
       "      <th>Customer Type</th>\n",
       "      <th>Age</th>\n",
       "      <th>Type of Travel</th>\n",
       "      <th>Class</th>\n",
       "      <th>Flight Distance</th>\n",
       "      <th>Inflight wifi service</th>\n",
       "      <th>Departure/Arrival time convenient</th>\n",
       "      <th>...</th>\n",
       "      <th>Seat comfort</th>\n",
       "      <th>Inflight entertainment</th>\n",
       "      <th>On-board service</th>\n",
       "      <th>Leg room service</th>\n",
       "      <th>Baggage handling</th>\n",
       "      <th>Checkin service</th>\n",
       "      <th>Inflight service</th>\n",
       "      <th>Cleanliness</th>\n",
       "      <th>Departure Delay in Minutes</th>\n",
       "      <th>Arrival Delay in Minutes</th>\n",
       "    </tr>\n",
       "  </thead>\n",
       "  <tbody>\n",
       "    <tr>\n",
       "      <th>0</th>\n",
       "      <td>117135</td>\n",
       "      <td>satisfied</td>\n",
       "      <td>Male</td>\n",
       "      <td>disloyal Customer</td>\n",
       "      <td>56</td>\n",
       "      <td>Personal Travel</td>\n",
       "      <td>Eco</td>\n",
       "      <td>369</td>\n",
       "      <td>0</td>\n",
       "      <td>2</td>\n",
       "      <td>...</td>\n",
       "      <td>3</td>\n",
       "      <td>3</td>\n",
       "      <td>1</td>\n",
       "      <td>5</td>\n",
       "      <td>3</td>\n",
       "      <td>3</td>\n",
       "      <td>4</td>\n",
       "      <td>3</td>\n",
       "      <td>0</td>\n",
       "      <td>0.0</td>\n",
       "    </tr>\n",
       "    <tr>\n",
       "      <th>1</th>\n",
       "      <td>72091</td>\n",
       "      <td>satisfied</td>\n",
       "      <td>Male</td>\n",
       "      <td>disloyal Customer</td>\n",
       "      <td>49</td>\n",
       "      <td>Personal Travel</td>\n",
       "      <td>Eco</td>\n",
       "      <td>2486</td>\n",
       "      <td>0</td>\n",
       "      <td>2</td>\n",
       "      <td>...</td>\n",
       "      <td>3</td>\n",
       "      <td>2</td>\n",
       "      <td>1</td>\n",
       "      <td>1</td>\n",
       "      <td>4</td>\n",
       "      <td>4</td>\n",
       "      <td>3</td>\n",
       "      <td>2</td>\n",
       "      <td>0</td>\n",
       "      <td>0.0</td>\n",
       "    </tr>\n",
       "    <tr>\n",
       "      <th>2</th>\n",
       "      <td>29663</td>\n",
       "      <td>satisfied</td>\n",
       "      <td>Male</td>\n",
       "      <td>disloyal Customer</td>\n",
       "      <td>55</td>\n",
       "      <td>Personal Travel</td>\n",
       "      <td>Eco</td>\n",
       "      <td>1448</td>\n",
       "      <td>0</td>\n",
       "      <td>3</td>\n",
       "      <td>...</td>\n",
       "      <td>3</td>\n",
       "      <td>3</td>\n",
       "      <td>3</td>\n",
       "      <td>5</td>\n",
       "      <td>3</td>\n",
       "      <td>2</td>\n",
       "      <td>3</td>\n",
       "      <td>3</td>\n",
       "      <td>0</td>\n",
       "      <td>0.0</td>\n",
       "    </tr>\n",
       "    <tr>\n",
       "      <th>3</th>\n",
       "      <td>81849</td>\n",
       "      <td>satisfied</td>\n",
       "      <td>Female</td>\n",
       "      <td>disloyal Customer</td>\n",
       "      <td>36</td>\n",
       "      <td>Personal Travel</td>\n",
       "      <td>Eco</td>\n",
       "      <td>1501</td>\n",
       "      <td>0</td>\n",
       "      <td>4</td>\n",
       "      <td>...</td>\n",
       "      <td>4</td>\n",
       "      <td>4</td>\n",
       "      <td>5</td>\n",
       "      <td>4</td>\n",
       "      <td>5</td>\n",
       "      <td>5</td>\n",
       "      <td>5</td>\n",
       "      <td>4</td>\n",
       "      <td>0</td>\n",
       "      <td>0.0</td>\n",
       "    </tr>\n",
       "    <tr>\n",
       "      <th>4</th>\n",
       "      <td>83693</td>\n",
       "      <td>satisfied</td>\n",
       "      <td>Male</td>\n",
       "      <td>disloyal Customer</td>\n",
       "      <td>55</td>\n",
       "      <td>Personal Travel</td>\n",
       "      <td>Eco</td>\n",
       "      <td>577</td>\n",
       "      <td>0</td>\n",
       "      <td>5</td>\n",
       "      <td>...</td>\n",
       "      <td>3</td>\n",
       "      <td>3</td>\n",
       "      <td>3</td>\n",
       "      <td>4</td>\n",
       "      <td>5</td>\n",
       "      <td>3</td>\n",
       "      <td>4</td>\n",
       "      <td>3</td>\n",
       "      <td>0</td>\n",
       "      <td>0.0</td>\n",
       "    </tr>\n",
       "  </tbody>\n",
       "</table>\n",
       "<p>5 rows × 24 columns</p>\n",
       "</div>"
      ],
      "text/plain": [
       "       id satisfaction_v2  Gender      Customer Type  Age   Type of Travel  \\\n",
       "0  117135       satisfied    Male  disloyal Customer   56  Personal Travel   \n",
       "1   72091       satisfied    Male  disloyal Customer   49  Personal Travel   \n",
       "2   29663       satisfied    Male  disloyal Customer   55  Personal Travel   \n",
       "3   81849       satisfied  Female  disloyal Customer   36  Personal Travel   \n",
       "4   83693       satisfied    Male  disloyal Customer   55  Personal Travel   \n",
       "\n",
       "  Class  Flight Distance  Inflight wifi service  \\\n",
       "0   Eco              369                      0   \n",
       "1   Eco             2486                      0   \n",
       "2   Eco             1448                      0   \n",
       "3   Eco             1501                      0   \n",
       "4   Eco              577                      0   \n",
       "\n",
       "   Departure/Arrival time convenient  ...  Seat comfort  \\\n",
       "0                                  2  ...             3   \n",
       "1                                  2  ...             3   \n",
       "2                                  3  ...             3   \n",
       "3                                  4  ...             4   \n",
       "4                                  5  ...             3   \n",
       "\n",
       "   Inflight entertainment  On-board service  Leg room service  \\\n",
       "0                       3                 1                 5   \n",
       "1                       2                 1                 1   \n",
       "2                       3                 3                 5   \n",
       "3                       4                 5                 4   \n",
       "4                       3                 3                 4   \n",
       "\n",
       "   Baggage handling  Checkin service  Inflight service  Cleanliness  \\\n",
       "0                 3                3                 4            3   \n",
       "1                 4                4                 3            2   \n",
       "2                 3                2                 3            3   \n",
       "3                 5                5                 5            4   \n",
       "4                 5                3                 4            3   \n",
       "\n",
       "   Departure Delay in Minutes  Arrival Delay in Minutes  \n",
       "0                           0                       0.0  \n",
       "1                           0                       0.0  \n",
       "2                           0                       0.0  \n",
       "3                           0                       0.0  \n",
       "4                           0                       0.0  \n",
       "\n",
       "[5 rows x 24 columns]"
      ]
     },
     "execution_count": 2,
     "metadata": {},
     "output_type": "execute_result"
    }
   ],
   "source": [
    "sat = pd.read_csv(\"satisfaction_2015.csv\")\n",
    "pd.set_option('future.no_silent_downcasting', True)\n",
    "sat.head()"
   ]
  },
  {
   "cell_type": "code",
   "execution_count": 3,
   "id": "f899b78e-5719-4f1c-a7c8-92debddf736f",
   "metadata": {},
   "outputs": [
    {
     "data": {
      "text/plain": [
       "satisfaction_v2\n",
       "neutral or dissatisfied    73452\n",
       "satisfied                  56428\n",
       "Name: count, dtype: int64"
      ]
     },
     "execution_count": 3,
     "metadata": {},
     "output_type": "execute_result"
    }
   ],
   "source": [
    "# checking columns for n/a's\n",
    "sat[\"satisfaction_v2\"].value_counts(dropna = False)"
   ]
  },
  {
   "cell_type": "code",
   "execution_count": 4,
   "id": "c7738adc-b1df-4505-a4dd-d46388ec1bbe",
   "metadata": {},
   "outputs": [
    {
     "data": {
      "text/plain": [
       "Gender\n",
       "Female    65899\n",
       "Male      63981\n",
       "Name: count, dtype: int64"
      ]
     },
     "execution_count": 4,
     "metadata": {},
     "output_type": "execute_result"
    }
   ],
   "source": [
    "sat[\"Gender\"].value_counts(dropna = False)"
   ]
  },
  {
   "cell_type": "code",
   "execution_count": 5,
   "id": "6e99667d-7441-435c-a930-7df2a23ebab3",
   "metadata": {},
   "outputs": [
    {
     "data": {
      "text/plain": [
       "Customer Type\n",
       "Loyal Customer       106100\n",
       "disloyal Customer     23780\n",
       "Name: count, dtype: int64"
      ]
     },
     "execution_count": 5,
     "metadata": {},
     "output_type": "execute_result"
    }
   ],
   "source": [
    "sat[\"Customer Type\"].value_counts(dropna = False)"
   ]
  },
  {
   "cell_type": "code",
   "execution_count": 6,
   "id": "bc4563f5-5538-491d-a419-33e202d7259e",
   "metadata": {},
   "outputs": [
    {
     "data": {
      "text/plain": [
       "count    129880.000000\n",
       "mean         39.427957\n",
       "std          15.119360\n",
       "min           7.000000\n",
       "25%          27.000000\n",
       "50%          40.000000\n",
       "75%          51.000000\n",
       "max          85.000000\n",
       "Name: Age, dtype: float64"
      ]
     },
     "execution_count": 6,
     "metadata": {},
     "output_type": "execute_result"
    }
   ],
   "source": [
    "sat[\"Age\"].describe(include = 'all')"
   ]
  },
  {
   "cell_type": "code",
   "execution_count": 7,
   "id": "acdf2211-38ea-4ef3-afd2-c293871d9b3f",
   "metadata": {},
   "outputs": [
    {
     "data": {
      "text/plain": [
       "Type of Travel\n",
       "Business travel    89693\n",
       "Personal Travel    40187\n",
       "Name: count, dtype: int64"
      ]
     },
     "execution_count": 7,
     "metadata": {},
     "output_type": "execute_result"
    }
   ],
   "source": [
    "sat[\"Type of Travel\"].value_counts(dropna = False)"
   ]
  },
  {
   "cell_type": "code",
   "execution_count": 8,
   "id": "b59f8ec5-cf21-47b7-9e8c-dbd60d205b2d",
   "metadata": {},
   "outputs": [
    {
     "data": {
      "text/plain": [
       "Class\n",
       "Business    62160\n",
       "Eco         58309\n",
       "Eco Plus     9411\n",
       "Name: count, dtype: int64"
      ]
     },
     "execution_count": 8,
     "metadata": {},
     "output_type": "execute_result"
    }
   ],
   "source": [
    "sat[\"Class\"].value_counts(dropna = False)"
   ]
  },
  {
   "cell_type": "code",
   "execution_count": 9,
   "id": "0db69f66-8dc6-4a28-a3e8-761ba6d455d6",
   "metadata": {},
   "outputs": [
    {
     "data": {
      "text/plain": [
       "count    129880.000000\n",
       "mean       1190.316392\n",
       "std         997.452477\n",
       "min          31.000000\n",
       "25%         414.000000\n",
       "50%         844.000000\n",
       "75%        1744.000000\n",
       "max        4983.000000\n",
       "Name: Flight Distance, dtype: float64"
      ]
     },
     "execution_count": 9,
     "metadata": {},
     "output_type": "execute_result"
    }
   ],
   "source": [
    "sat[\"Flight Distance\"].describe(include = 'all')"
   ]
  },
  {
   "cell_type": "code",
   "execution_count": 10,
   "id": "26d00eed-bbba-40ee-a756-833b7afdcf3e",
   "metadata": {},
   "outputs": [
    {
     "data": {
      "text/plain": [
       "Inflight wifi service\n",
       "3    36101\n",
       "2    32320\n",
       "4    24775\n",
       "1    22328\n",
       "5    14356\n",
       "Name: count, dtype: int64"
      ]
     },
     "execution_count": 10,
     "metadata": {},
     "output_type": "execute_result"
    }
   ],
   "source": [
    "sat['Inflight wifi service'] = sat['Inflight wifi service'].replace(0, pd.NA)\n",
    "median_value = sat['Inflight wifi service'].median()\n",
    "median_value = int(median_value)\n",
    "sat['Inflight wifi service'] = sat['Inflight wifi service'].fillna(median_value)\n",
    "sat[\"Inflight wifi service\"].value_counts(dropna = False)"
   ]
  },
  {
   "cell_type": "code",
   "execution_count": 11,
   "id": "e53c1703-984f-45ad-9339-c3feb4c6da70",
   "metadata": {},
   "outputs": [
    {
     "data": {
      "text/plain": [
       "Departure/Arrival time convenient\n",
       "4    31880\n",
       "3    29059\n",
       "5    27998\n",
       "2    21534\n",
       "1    19409\n",
       "Name: count, dtype: int64"
      ]
     },
     "execution_count": 11,
     "metadata": {},
     "output_type": "execute_result"
    }
   ],
   "source": [
    "sat['Departure/Arrival time convenient'] = sat['Departure/Arrival time convenient'].replace(0, pd.NA)\n",
    "median_value = sat['Departure/Arrival time convenient'].median()\n",
    "median_value = int(median_value)\n",
    "sat['Departure/Arrival time convenient'] = sat['Departure/Arrival time convenient'].fillna(median_value)\n",
    "sat[\"Departure/Arrival time convenient\"].value_counts(dropna = False)"
   ]
  },
  {
   "cell_type": "code",
   "execution_count": 12,
   "id": "e7b8f036-b1aa-4db5-80b6-75ec74bb6564",
   "metadata": {},
   "outputs": [
    {
     "data": {
      "text/plain": [
       "Ease of Online booking\n",
       "3    36075\n",
       "2    30051\n",
       "4    24444\n",
       "1    21886\n",
       "5    17424\n",
       "Name: count, dtype: int64"
      ]
     },
     "execution_count": 12,
     "metadata": {},
     "output_type": "execute_result"
    }
   ],
   "source": [
    "sat['Ease of Online booking'] = sat['Ease of Online booking'].replace(0, pd.NA)\n",
    "median_value = sat['Ease of Online booking'].median()\n",
    "median_value = int(median_value)\n",
    "sat['Ease of Online booking'] = sat['Ease of Online booking'].fillna(median_value)\n",
    "sat[\"Ease of Online booking\"].value_counts(dropna = False)"
   ]
  },
  {
   "cell_type": "code",
   "execution_count": 13,
   "id": "0ae3a404-bd70-4912-bb8d-da3b7fecdae0",
   "metadata": {},
   "outputs": [
    {
     "data": {
      "text/plain": [
       "Gate location\n",
       "3    35718\n",
       "4    30466\n",
       "2    24296\n",
       "1    21991\n",
       "5    17409\n",
       "Name: count, dtype: int64"
      ]
     },
     "execution_count": 13,
     "metadata": {},
     "output_type": "execute_result"
    }
   ],
   "source": [
    "sat['Gate location'] = sat['Gate location'].replace(0, pd.NA)\n",
    "median_value = sat['Gate location'].median()\n",
    "median_value = int(median_value)\n",
    "sat['Gate location'] = sat['Gate location'].fillna(median_value)\n",
    "sat[\"Gate location\"].value_counts(dropna = False)"
   ]
  },
  {
   "cell_type": "code",
   "execution_count": 14,
   "id": "800114d4-0545-4331-9b02-245ffa3e3a77",
   "metadata": {},
   "outputs": [
    {
     "data": {
      "text/plain": [
       "Food and drink\n",
       "4    30563\n",
       "5    27957\n",
       "3    27926\n",
       "2    27383\n",
       "1    16051\n",
       "Name: count, dtype: int64"
      ]
     },
     "execution_count": 14,
     "metadata": {},
     "output_type": "execute_result"
    }
   ],
   "source": [
    "sat['Food and drink'] = sat['Food and drink'].replace(0, pd.NA)\n",
    "median_value = sat['Food and drink'].median()\n",
    "median_value = int(median_value)\n",
    "sat['Food and drink'] = sat['Food and drink'].fillna(median_value)\n",
    "sat[\"Food and drink\"].value_counts(dropna = False)"
   ]
  },
  {
   "cell_type": "code",
   "execution_count": 15,
   "id": "a8142b81-691a-43a2-9ff0-1b96073cbbc8",
   "metadata": {},
   "outputs": [
    {
     "data": {
      "text/plain": [
       "Online boarding\n",
       "4    41548\n",
       "3    27117\n",
       "5    26020\n",
       "2    21934\n",
       "1    13261\n",
       "Name: count, dtype: int64"
      ]
     },
     "execution_count": 15,
     "metadata": {},
     "output_type": "execute_result"
    }
   ],
   "source": [
    "sat['Online boarding'] = sat['Online boarding'].replace(0, pd.NA)\n",
    "median_value = sat['Online boarding'].median()\n",
    "median_value = int(median_value)\n",
    "sat['Online boarding'] = sat['Online boarding'].fillna(median_value)\n",
    "sat[\"Online boarding\"].value_counts(dropna = False)"
   ]
  },
  {
   "cell_type": "code",
   "execution_count": 16,
   "id": "78e54600-9a0a-4f56-9436-ec44fb5112c1",
   "metadata": {},
   "outputs": [
    {
     "data": {
      "text/plain": [
       "Seat comfort\n",
       "4    39757\n",
       "5    33158\n",
       "3    23328\n",
       "2    18529\n",
       "1    15108\n",
       "Name: count, dtype: int64"
      ]
     },
     "execution_count": 16,
     "metadata": {},
     "output_type": "execute_result"
    }
   ],
   "source": [
    "sat['Seat comfort'] = sat['Seat comfort'].replace(0, pd.NA)\n",
    "median_value = sat['Seat comfort'].median()\n",
    "median_value = int(median_value)\n",
    "sat['Seat comfort'] = sat['Seat comfort'].fillna(median_value)\n",
    "sat[\"Seat comfort\"].value_counts(dropna = False)"
   ]
  },
  {
   "cell_type": "code",
   "execution_count": 17,
   "id": "c6e83fae-4ead-4879-8e45-4a4650559b69",
   "metadata": {},
   "outputs": [
    {
     "data": {
      "text/plain": [
       "Inflight entertainment\n",
       "4    36809\n",
       "5    31544\n",
       "3    23884\n",
       "2    21968\n",
       "1    15675\n",
       "Name: count, dtype: int64"
      ]
     },
     "execution_count": 17,
     "metadata": {},
     "output_type": "execute_result"
    }
   ],
   "source": [
    "sat['Inflight entertainment'] = sat['Inflight entertainment'].replace(0, pd.NA)\n",
    "median_value = sat['Inflight entertainment'].median()\n",
    "median_value = int(median_value)\n",
    "sat['Inflight entertainment'] = sat['Inflight entertainment'].fillna(median_value)\n",
    "sat[\"Inflight entertainment\"].value_counts(dropna = False)"
   ]
  },
  {
   "cell_type": "code",
   "execution_count": 18,
   "id": "66088b3f-ee83-49d9-9a95-694594f80afa",
   "metadata": {},
   "outputs": [
    {
     "data": {
      "text/plain": [
       "On-board service\n",
       "4    38708\n",
       "5    29492\n",
       "3    28542\n",
       "2    18351\n",
       "1    14787\n",
       "Name: count, dtype: int64"
      ]
     },
     "execution_count": 18,
     "metadata": {},
     "output_type": "execute_result"
    }
   ],
   "source": [
    "sat['On-board service'] = sat['On-board service'].replace(0, pd.NA)\n",
    "median_value = sat['On-board service'].median()\n",
    "median_value = int(median_value)\n",
    "sat['On-board service'] = sat['On-board service'].fillna(median_value)\n",
    "sat[\"On-board service\"].value_counts(dropna = False)"
   ]
  },
  {
   "cell_type": "code",
   "execution_count": 19,
   "id": "d514cc8e-fbc9-4c37-86c6-fb981e265b51",
   "metadata": {},
   "outputs": [
    {
     "data": {
      "text/plain": [
       "Leg room service\n",
       "4    36484\n",
       "5    30905\n",
       "3    25056\n",
       "2    24540\n",
       "1    12895\n",
       "Name: count, dtype: int64"
      ]
     },
     "execution_count": 19,
     "metadata": {},
     "output_type": "execute_result"
    }
   ],
   "source": [
    "sat['Leg room service'] = sat['Leg room service'].replace(0, pd.NA)\n",
    "median_value = sat['Leg room service'].median()\n",
    "median_value = int(median_value)\n",
    "sat['Leg room service'] = sat['Leg room service'].fillna(median_value)\n",
    "sat[\"Leg room service\"].value_counts(dropna = False)"
   ]
  },
  {
   "cell_type": "code",
   "execution_count": 20,
   "id": "27718c89-fd5e-45c7-b6f7-b413613e3374",
   "metadata": {},
   "outputs": [
    {
     "data": {
      "text/plain": [
       "Baggage handling\n",
       "4    46761\n",
       "5    33878\n",
       "3    25851\n",
       "2    14362\n",
       "1     9028\n",
       "Name: count, dtype: int64"
      ]
     },
     "execution_count": 20,
     "metadata": {},
     "output_type": "execute_result"
    }
   ],
   "source": [
    "sat['Baggage handling'] = sat['Baggage handling'].replace(0, pd.NA)\n",
    "median_value = sat['Baggage handling'].median()\n",
    "median_value = int(median_value)\n",
    "sat['Baggage handling'] = sat['Baggage handling'].fillna(median_value)\n",
    "sat[\"Baggage handling\"].value_counts(dropna = False)"
   ]
  },
  {
   "cell_type": "code",
   "execution_count": 21,
   "id": "073afae5-e319-4319-a865-a7da0356ef80",
   "metadata": {},
   "outputs": [
    {
     "data": {
      "text/plain": [
       "Checkin service\n",
       "4    36333\n",
       "3    35454\n",
       "5    25883\n",
       "1    16108\n",
       "2    16102\n",
       "Name: count, dtype: int64"
      ]
     },
     "execution_count": 21,
     "metadata": {},
     "output_type": "execute_result"
    }
   ],
   "source": [
    "sat['Checkin service'] = sat['Checkin service'].replace(0, pd.NA)\n",
    "median_value = sat['Checkin service'].median()\n",
    "median_value = int(median_value)\n",
    "sat['Checkin service'] = sat['Checkin service'].fillna(median_value)\n",
    "sat[\"Checkin service\"].value_counts(dropna = False)"
   ]
  },
  {
   "cell_type": "code",
   "execution_count": 22,
   "id": "e44d9c22-7e00-4835-b80e-e2d7a18da4d4",
   "metadata": {},
   "outputs": [
    {
     "data": {
      "text/plain": [
       "Inflight service\n",
       "4    47328\n",
       "5    34066\n",
       "3    25316\n",
       "2    14308\n",
       "1     8862\n",
       "Name: count, dtype: int64"
      ]
     },
     "execution_count": 22,
     "metadata": {},
     "output_type": "execute_result"
    }
   ],
   "source": [
    "sat['Inflight service'] = sat['Inflight service'].replace(0, pd.NA)\n",
    "median_value = sat['Inflight service'].median()\n",
    "median_value = int(median_value)\n",
    "sat['Inflight service'] = sat['Inflight service'].fillna(median_value)\n",
    "sat[\"Inflight service\"].value_counts(dropna = False)"
   ]
  },
  {
   "cell_type": "code",
   "execution_count": 23,
   "id": "280d44f6-7851-4277-98d6-e2dee74f08c1",
   "metadata": {},
   "outputs": [
    {
     "data": {
      "text/plain": [
       "Cleanliness\n",
       "4    33969\n",
       "3    30653\n",
       "5    28416\n",
       "2    20113\n",
       "1    16729\n",
       "Name: count, dtype: int64"
      ]
     },
     "execution_count": 23,
     "metadata": {},
     "output_type": "execute_result"
    }
   ],
   "source": [
    "sat['Cleanliness'] = sat['Cleanliness'].replace(0, pd.NA)\n",
    "median_value = sat['Cleanliness'].median()\n",
    "median_value = int(median_value)\n",
    "sat['Cleanliness'] = sat['Cleanliness'].fillna(median_value)\n",
    "sat[\"Cleanliness\"].value_counts(dropna = False)"
   ]
  },
  {
   "cell_type": "code",
   "execution_count": 24,
   "id": "b7fba718-6e5a-4dac-a3da-04c46d85f47f",
   "metadata": {},
   "outputs": [
    {
     "data": {
      "text/plain": [
       "count    129880.000000\n",
       "mean         14.713713\n",
       "std          38.071126\n",
       "min           0.000000\n",
       "25%           0.000000\n",
       "50%           0.000000\n",
       "75%          12.000000\n",
       "max        1592.000000\n",
       "Name: Departure Delay in Minutes, dtype: float64"
      ]
     },
     "execution_count": 24,
     "metadata": {},
     "output_type": "execute_result"
    }
   ],
   "source": [
    "sat[\"Departure Delay in Minutes\"].describe(include = 'all')"
   ]
  },
  {
   "cell_type": "code",
   "execution_count": 25,
   "id": "aff815e2-cf2a-48b9-ba05-e63345ed59f5",
   "metadata": {},
   "outputs": [
    {
     "data": {
      "text/plain": [
       "count    129880.000000\n",
       "mean         15.045465\n",
       "std          38.416353\n",
       "min           0.000000\n",
       "25%           0.000000\n",
       "50%           0.000000\n",
       "75%          13.000000\n",
       "max        1584.000000\n",
       "Name: Arrival Delay in Minutes, dtype: float64"
      ]
     },
     "execution_count": 25,
     "metadata": {},
     "output_type": "execute_result"
    }
   ],
   "source": [
    "median_value = sat['Arrival Delay in Minutes'].median()\n",
    "median_value = int(median_value)\n",
    "sat['Arrival Delay in Minutes'] = sat['Arrival Delay in Minutes'].fillna(median_value)\n",
    "sat[\"Arrival Delay in Minutes\"].describe(include = 'all')"
   ]
  },
  {
   "cell_type": "code",
   "execution_count": 26,
   "id": "78e34c51-6a0a-49da-a3af-bc49530cae21",
   "metadata": {},
   "outputs": [
    {
     "data": {
      "text/html": [
       "<div>\n",
       "<style scoped>\n",
       "    .dataframe tbody tr th:only-of-type {\n",
       "        vertical-align: middle;\n",
       "    }\n",
       "\n",
       "    .dataframe tbody tr th {\n",
       "        vertical-align: top;\n",
       "    }\n",
       "\n",
       "    .dataframe thead th {\n",
       "        text-align: right;\n",
       "    }\n",
       "</style>\n",
       "<table border=\"1\" class=\"dataframe\">\n",
       "  <thead>\n",
       "    <tr style=\"text-align: right;\">\n",
       "      <th></th>\n",
       "      <th>id</th>\n",
       "      <th>satisfaction_v2</th>\n",
       "      <th>Gender</th>\n",
       "      <th>Customer Type</th>\n",
       "      <th>Age</th>\n",
       "      <th>Type of Travel</th>\n",
       "      <th>Class</th>\n",
       "      <th>Flight Distance</th>\n",
       "      <th>Inflight wifi service</th>\n",
       "      <th>Departure/Arrival time convenient</th>\n",
       "      <th>...</th>\n",
       "      <th>Seat comfort</th>\n",
       "      <th>Inflight entertainment</th>\n",
       "      <th>On-board service</th>\n",
       "      <th>Leg room service</th>\n",
       "      <th>Baggage handling</th>\n",
       "      <th>Checkin service</th>\n",
       "      <th>Inflight service</th>\n",
       "      <th>Cleanliness</th>\n",
       "      <th>Departure Delay in Minutes</th>\n",
       "      <th>Arrival Delay in Minutes</th>\n",
       "    </tr>\n",
       "  </thead>\n",
       "  <tbody>\n",
       "    <tr>\n",
       "      <th>0</th>\n",
       "      <td>117135</td>\n",
       "      <td>satisfied</td>\n",
       "      <td>Male</td>\n",
       "      <td>disloyal Customer</td>\n",
       "      <td>56</td>\n",
       "      <td>Personal Travel</td>\n",
       "      <td>Eco</td>\n",
       "      <td>369</td>\n",
       "      <td>3</td>\n",
       "      <td>2</td>\n",
       "      <td>...</td>\n",
       "      <td>3</td>\n",
       "      <td>3</td>\n",
       "      <td>1</td>\n",
       "      <td>5</td>\n",
       "      <td>3</td>\n",
       "      <td>3</td>\n",
       "      <td>4</td>\n",
       "      <td>3</td>\n",
       "      <td>0</td>\n",
       "      <td>0.0</td>\n",
       "    </tr>\n",
       "    <tr>\n",
       "      <th>1</th>\n",
       "      <td>72091</td>\n",
       "      <td>satisfied</td>\n",
       "      <td>Male</td>\n",
       "      <td>disloyal Customer</td>\n",
       "      <td>49</td>\n",
       "      <td>Personal Travel</td>\n",
       "      <td>Eco</td>\n",
       "      <td>2486</td>\n",
       "      <td>3</td>\n",
       "      <td>2</td>\n",
       "      <td>...</td>\n",
       "      <td>3</td>\n",
       "      <td>2</td>\n",
       "      <td>1</td>\n",
       "      <td>1</td>\n",
       "      <td>4</td>\n",
       "      <td>4</td>\n",
       "      <td>3</td>\n",
       "      <td>2</td>\n",
       "      <td>0</td>\n",
       "      <td>0.0</td>\n",
       "    </tr>\n",
       "    <tr>\n",
       "      <th>2</th>\n",
       "      <td>29663</td>\n",
       "      <td>satisfied</td>\n",
       "      <td>Male</td>\n",
       "      <td>disloyal Customer</td>\n",
       "      <td>55</td>\n",
       "      <td>Personal Travel</td>\n",
       "      <td>Eco</td>\n",
       "      <td>1448</td>\n",
       "      <td>3</td>\n",
       "      <td>3</td>\n",
       "      <td>...</td>\n",
       "      <td>3</td>\n",
       "      <td>3</td>\n",
       "      <td>3</td>\n",
       "      <td>5</td>\n",
       "      <td>3</td>\n",
       "      <td>2</td>\n",
       "      <td>3</td>\n",
       "      <td>3</td>\n",
       "      <td>0</td>\n",
       "      <td>0.0</td>\n",
       "    </tr>\n",
       "    <tr>\n",
       "      <th>3</th>\n",
       "      <td>81849</td>\n",
       "      <td>satisfied</td>\n",
       "      <td>Female</td>\n",
       "      <td>disloyal Customer</td>\n",
       "      <td>36</td>\n",
       "      <td>Personal Travel</td>\n",
       "      <td>Eco</td>\n",
       "      <td>1501</td>\n",
       "      <td>3</td>\n",
       "      <td>4</td>\n",
       "      <td>...</td>\n",
       "      <td>4</td>\n",
       "      <td>4</td>\n",
       "      <td>5</td>\n",
       "      <td>4</td>\n",
       "      <td>5</td>\n",
       "      <td>5</td>\n",
       "      <td>5</td>\n",
       "      <td>4</td>\n",
       "      <td>0</td>\n",
       "      <td>0.0</td>\n",
       "    </tr>\n",
       "    <tr>\n",
       "      <th>4</th>\n",
       "      <td>83693</td>\n",
       "      <td>satisfied</td>\n",
       "      <td>Male</td>\n",
       "      <td>disloyal Customer</td>\n",
       "      <td>55</td>\n",
       "      <td>Personal Travel</td>\n",
       "      <td>Eco</td>\n",
       "      <td>577</td>\n",
       "      <td>3</td>\n",
       "      <td>5</td>\n",
       "      <td>...</td>\n",
       "      <td>3</td>\n",
       "      <td>3</td>\n",
       "      <td>3</td>\n",
       "      <td>4</td>\n",
       "      <td>5</td>\n",
       "      <td>3</td>\n",
       "      <td>4</td>\n",
       "      <td>3</td>\n",
       "      <td>0</td>\n",
       "      <td>0.0</td>\n",
       "    </tr>\n",
       "  </tbody>\n",
       "</table>\n",
       "<p>5 rows × 24 columns</p>\n",
       "</div>"
      ],
      "text/plain": [
       "       id satisfaction_v2  Gender      Customer Type  Age   Type of Travel  \\\n",
       "0  117135       satisfied    Male  disloyal Customer   56  Personal Travel   \n",
       "1   72091       satisfied    Male  disloyal Customer   49  Personal Travel   \n",
       "2   29663       satisfied    Male  disloyal Customer   55  Personal Travel   \n",
       "3   81849       satisfied  Female  disloyal Customer   36  Personal Travel   \n",
       "4   83693       satisfied    Male  disloyal Customer   55  Personal Travel   \n",
       "\n",
       "  Class  Flight Distance Inflight wifi service  \\\n",
       "0   Eco              369                     3   \n",
       "1   Eco             2486                     3   \n",
       "2   Eco             1448                     3   \n",
       "3   Eco             1501                     3   \n",
       "4   Eco              577                     3   \n",
       "\n",
       "  Departure/Arrival time convenient  ... Seat comfort Inflight entertainment  \\\n",
       "0                                 2  ...            3                      3   \n",
       "1                                 2  ...            3                      2   \n",
       "2                                 3  ...            3                      3   \n",
       "3                                 4  ...            4                      4   \n",
       "4                                 5  ...            3                      3   \n",
       "\n",
       "  On-board service Leg room service Baggage handling Checkin service  \\\n",
       "0                1                5                3               3   \n",
       "1                1                1                4               4   \n",
       "2                3                5                3               2   \n",
       "3                5                4                5               5   \n",
       "4                3                4                5               3   \n",
       "\n",
       "  Inflight service Cleanliness  Departure Delay in Minutes  \\\n",
       "0                4           3                           0   \n",
       "1                3           2                           0   \n",
       "2                3           3                           0   \n",
       "3                5           4                           0   \n",
       "4                4           3                           0   \n",
       "\n",
       "  Arrival Delay in Minutes  \n",
       "0                      0.0  \n",
       "1                      0.0  \n",
       "2                      0.0  \n",
       "3                      0.0  \n",
       "4                      0.0  \n",
       "\n",
       "[5 rows x 24 columns]"
      ]
     },
     "execution_count": 26,
     "metadata": {},
     "output_type": "execute_result"
    }
   ],
   "source": [
    "sat.head()"
   ]
  },
  {
   "cell_type": "code",
   "execution_count": 27,
   "id": "2cd2512f-f45d-4d5f-875f-2bbe5d402b00",
   "metadata": {},
   "outputs": [],
   "source": [
    "sat = pd.get_dummies(sat, columns=['Gender'])\n",
    "sat = pd.get_dummies(sat, columns=['Customer Type'])\n",
    "sat = pd.get_dummies(sat, columns=['Type of Travel'])\n",
    "sat = pd.get_dummies(sat, columns=['Class'])"
   ]
  },
  {
   "cell_type": "code",
   "execution_count": 28,
   "id": "007e842c-6e89-49c0-8853-2480ea279f44",
   "metadata": {},
   "outputs": [
    {
     "name": "stdout",
     "output_type": "stream",
     "text": [
      "Missing values in the DataFrame:\n",
      "id                                   0\n",
      "satisfaction_v2                      0\n",
      "Age                                  0\n",
      "Flight Distance                      0\n",
      "Inflight wifi service                0\n",
      "Departure/Arrival time convenient    0\n",
      "Ease of Online booking               0\n",
      "Gate location                        0\n",
      "Food and drink                       0\n",
      "Online boarding                      0\n",
      "Seat comfort                         0\n",
      "Inflight entertainment               0\n",
      "On-board service                     0\n",
      "Leg room service                     0\n",
      "Baggage handling                     0\n",
      "Checkin service                      0\n",
      "Inflight service                     0\n",
      "Cleanliness                          0\n",
      "Departure Delay in Minutes           0\n",
      "Arrival Delay in Minutes             0\n",
      "Gender_Female                        0\n",
      "Gender_Male                          0\n",
      "Customer Type_Loyal Customer         0\n",
      "Customer Type_disloyal Customer      0\n",
      "Type of Travel_Business travel       0\n",
      "Type of Travel_Personal Travel       0\n",
      "Class_Business                       0\n",
      "Class_Eco                            0\n",
      "Class_Eco Plus                       0\n",
      "dtype: int64\n"
     ]
    }
   ],
   "source": [
    "missing_values = sat.isna().sum()\n",
    "\n",
    "print(\"Missing values in the DataFrame:\")\n",
    "print(missing_values)"
   ]
  },
  {
   "cell_type": "code",
   "execution_count": 45,
   "id": "5f28154b-a1e1-4b03-a881-c9fd3be31acf",
   "metadata": {},
   "outputs": [
    {
     "name": "stderr",
     "output_type": "stream",
     "text": [
      "C:\\Users\\abbyv\\AppData\\Local\\Programs\\Python\\Python312\\Lib\\site-packages\\sklearn\\linear_model\\_logistic.py:469: ConvergenceWarning: lbfgs failed to converge (status=1):\n",
      "STOP: TOTAL NO. of ITERATIONS REACHED LIMIT.\n",
      "\n",
      "Increase the number of iterations (max_iter) or scale the data as shown in:\n",
      "    https://scikit-learn.org/stable/modules/preprocessing.html\n",
      "Please also refer to the documentation for alternative solver options:\n",
      "    https://scikit-learn.org/stable/modules/linear_model.html#logistic-regression\n",
      "  n_iter_i = _check_optimize_result(\n"
     ]
    },
    {
     "name": "stdout",
     "output_type": "stream",
     "text": [
      "Accuracy: 0.7343085925469665\n",
      "                         precision    recall  f1-score   support\n",
      "\n",
      "neutral or dissatisfied       0.81      0.70      0.75     18458\n",
      "              satisfied       0.66      0.78      0.72     14012\n",
      "\n",
      "               accuracy                           0.73     32470\n",
      "              macro avg       0.74      0.74      0.73     32470\n",
      "           weighted avg       0.75      0.73      0.74     32470\n",
      "\n"
     ]
    }
   ],
   "source": [
    "# Creating a logistic model\n",
    "from sklearn.model_selection import train_test_split\n",
    "from sklearn.linear_model import LogisticRegression\n",
    "from sklearn.metrics import accuracy_score, classification_report\n",
    "\n",
    "\n",
    "# Step 4: Split the dataset into training and testing sets\n",
    "X = sat.drop('satisfaction_v2', axis=1) # Features\n",
    "y = sat['satisfaction_v2'] # Target variable\n",
    "X_train, X_test, y_train, y_test = train_test_split(X, y,  random_state=None)\n",
    "\n",
    "# Step 5: Create a logistic regression model\n",
    "model = LogisticRegression()\n",
    "\n",
    "# Step 6: Train the model on the training data\n",
    "result = model.fit(X_train, y_train)\n",
    "\n",
    "# Step 7: Evaluate the model's performance on the testing data\n",
    "y_pred = model.predict(X_test)\n",
    "\n",
    "# Calculate accuracy\n",
    "accuracy = accuracy_score(y_test, y_pred)\n",
    "print(\"Accuracy:\", accuracy)\n",
    "\n",
    "# Get classification report\n",
    "print(classification_report(y_test, y_pred))\n",
    "\n",
    "\n"
   ]
  },
  {
   "cell_type": "code",
   "execution_count": 40,
   "id": "9dd537c7-c2e3-407c-ba23-db63df15eb97",
   "metadata": {},
   "outputs": [
    {
     "name": "stdout",
     "output_type": "stream",
     "text": [
      "Coefficients: [[-1.60843626e-05 -4.01353168e-02  2.26562467e-04  1.88664097e-01\n",
      "  -2.11645816e-01  4.76730951e-02 -1.63817427e-01  1.18064376e-03\n",
      "   3.04219694e-01  1.17339833e-01  1.64200628e-01  9.79002066e-02\n",
      "   9.28691295e-02  3.26205883e-03  3.39639607e-02 -1.84569004e-03\n",
      "   8.55831055e-02 -2.18771026e-02  1.23472029e-02 -3.20116711e-02\n",
      "  -2.37715193e-02  1.70047276e-04 -5.59532376e-02  9.77880191e-02\n",
      "  -1.53571210e-01  1.29951418e-01 -1.65083969e-01 -2.06506401e-02]]\n",
      "Intercept: [-0.05578326]\n",
      "Model Parameters: {'C': 1.0, 'class_weight': None, 'dual': False, 'fit_intercept': True, 'intercept_scaling': 1, 'l1_ratio': None, 'max_iter': 100, 'multi_class': 'auto', 'n_jobs': None, 'penalty': 'l2', 'random_state': None, 'solver': 'lbfgs', 'tol': 0.0001, 'verbose': 0, 'warm_start': False}\n"
     ]
    }
   ],
   "source": [
    "# 1. Coefficients\n",
    "coefficients = model.coef_\n",
    "print(\"Coefficients:\", coefficients)\n",
    "\n",
    "# 2. Intercept\n",
    "intercept = model.intercept_\n",
    "print(\"Intercept:\", intercept)\n",
    "\n",
    "# 3. Model Parameters\n",
    "params = model.get_params()\n",
    "print(\"Model Parameters:\", params)"
   ]
  },
  {
   "cell_type": "code",
   "execution_count": 41,
   "id": "9c715824-6e39-4ecd-82ba-a4ce2147b174",
   "metadata": {},
   "outputs": [
    {
     "name": "stdout",
     "output_type": "stream",
     "text": [
      "                              Feature  Coefficient  Abs_Coefficient\n",
      "0                                  id    -0.000016         0.000016\n",
      "1                                 Age    -0.040135         0.040135\n",
      "2                     Flight Distance     0.000227         0.000227\n",
      "3               Inflight wifi service     0.188664         0.188664\n",
      "4   Departure/Arrival time convenient    -0.211646         0.211646\n",
      "5              Ease of Online booking     0.047673         0.047673\n",
      "6                       Gate location    -0.163817         0.163817\n",
      "7                      Food and drink     0.001181         0.001181\n",
      "8                     Online boarding     0.304220         0.304220\n",
      "9                        Seat comfort     0.117340         0.117340\n",
      "10             Inflight entertainment     0.164201         0.164201\n",
      "11                   On-board service     0.097900         0.097900\n",
      "12                   Leg room service     0.092869         0.092869\n",
      "13                   Baggage handling     0.003262         0.003262\n",
      "14                    Checkin service     0.033964         0.033964\n",
      "15                   Inflight service    -0.001846         0.001846\n",
      "16                        Cleanliness     0.085583         0.085583\n",
      "17         Departure Delay in Minutes    -0.021877         0.021877\n",
      "18           Arrival Delay in Minutes     0.012347         0.012347\n",
      "19                      Gender_Female    -0.032012         0.032012\n",
      "20                        Gender_Male    -0.023772         0.023772\n",
      "21       Customer Type_Loyal Customer     0.000170         0.000170\n",
      "22    Customer Type_disloyal Customer    -0.055953         0.055953\n",
      "23     Type of Travel_Business travel     0.097788         0.097788\n",
      "24     Type of Travel_Personal Travel    -0.153571         0.153571\n",
      "25                     Class_Business     0.129951         0.129951\n",
      "26                          Class_Eco    -0.165084         0.165084\n",
      "27                     Class_Eco Plus    -0.020651         0.020651\n"
     ]
    }
   ],
   "source": [
    "import numpy as np\n",
    "# Get coefficient estimates\n",
    "coefficients = model.coef_[0]\n",
    "\n",
    "# Get feature names\n",
    "feature_names = X_train.columns\n",
    "\n",
    "# Create a DataFrame to display coefficients\n",
    "coef_df = pd.DataFrame({'Feature': feature_names, 'Coefficient': coefficients})\n",
    "\n",
    "# Sort the DataFrame by absolute coefficient values\n",
    "coef_df['Abs_Coefficient'] = np.abs(coef_df['Coefficient'])\n",
    "\n",
    "# Display the DataFrame\n",
    "print(coef_df)"
   ]
  }
 ],
 "metadata": {
  "kernelspec": {
   "display_name": "Python 3 (ipykernel)",
   "language": "python",
   "name": "python3"
  },
  "language_info": {
   "codemirror_mode": {
    "name": "ipython",
    "version": 3
   },
   "file_extension": ".py",
   "mimetype": "text/x-python",
   "name": "python",
   "nbconvert_exporter": "python",
   "pygments_lexer": "ipython3",
   "version": "3.12.0"
  }
 },
 "nbformat": 4,
 "nbformat_minor": 5
}
