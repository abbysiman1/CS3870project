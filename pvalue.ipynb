{
 "cells": [
  {
   "cell_type": "code",
   "execution_count": 1,
   "id": "73afa75e-93f4-4171-8946-a3cb8ef03c07",
   "metadata": {},
   "outputs": [
    {
     "name": "stderr",
     "output_type": "stream",
     "text": [
      "C:\\Users\\abbyv\\AppData\\Local\\Temp\\ipykernel_43816\\1916589747.py:2: DeprecationWarning: \n",
      "Pyarrow will become a required dependency of pandas in the next major release of pandas (pandas 3.0),\n",
      "(to allow more performant data types, such as the Arrow string type, and better interoperability with other libraries)\n",
      "but was not found to be installed on your system.\n",
      "If this would cause problems for you,\n",
      "please provide us feedback at https://github.com/pandas-dev/pandas/issues/54466\n",
      "        \n",
      "  import pandas as pd\n"
     ]
    }
   ],
   "source": [
    "import numpy as np\n",
    "import pandas as pd\n",
    "\n",
    "import matplotlib.pyplot as plt\n",
    "\n",
    "import seaborn as sns\n"
   ]
  },
  {
   "cell_type": "code",
   "execution_count": 2,
   "id": "1c1d06b0-5acd-45d9-81f8-0e7c7a78fc77",
   "metadata": {},
   "outputs": [
    {
     "data": {
      "text/html": [
       "<div>\n",
       "<style scoped>\n",
       "    .dataframe tbody tr th:only-of-type {\n",
       "        vertical-align: middle;\n",
       "    }\n",
       "\n",
       "    .dataframe tbody tr th {\n",
       "        vertical-align: top;\n",
       "    }\n",
       "\n",
       "    .dataframe thead th {\n",
       "        text-align: right;\n",
       "    }\n",
       "</style>\n",
       "<table border=\"1\" class=\"dataframe\">\n",
       "  <thead>\n",
       "    <tr style=\"text-align: right;\">\n",
       "      <th></th>\n",
       "      <th>id</th>\n",
       "      <th>satisfaction_v2</th>\n",
       "      <th>Gender</th>\n",
       "      <th>Customer Type</th>\n",
       "      <th>Age</th>\n",
       "      <th>Type of Travel</th>\n",
       "      <th>Class</th>\n",
       "      <th>Flight Distance</th>\n",
       "      <th>Inflight wifi service</th>\n",
       "      <th>Departure/Arrival time convenient</th>\n",
       "      <th>...</th>\n",
       "      <th>Seat comfort</th>\n",
       "      <th>Inflight entertainment</th>\n",
       "      <th>On-board service</th>\n",
       "      <th>Leg room service</th>\n",
       "      <th>Baggage handling</th>\n",
       "      <th>Checkin service</th>\n",
       "      <th>Inflight service</th>\n",
       "      <th>Cleanliness</th>\n",
       "      <th>Departure Delay in Minutes</th>\n",
       "      <th>Arrival Delay in Minutes</th>\n",
       "    </tr>\n",
       "  </thead>\n",
       "  <tbody>\n",
       "    <tr>\n",
       "      <th>0</th>\n",
       "      <td>117135</td>\n",
       "      <td>satisfied</td>\n",
       "      <td>Male</td>\n",
       "      <td>disloyal Customer</td>\n",
       "      <td>56</td>\n",
       "      <td>Personal Travel</td>\n",
       "      <td>Eco</td>\n",
       "      <td>369</td>\n",
       "      <td>0</td>\n",
       "      <td>2</td>\n",
       "      <td>...</td>\n",
       "      <td>3</td>\n",
       "      <td>3</td>\n",
       "      <td>1</td>\n",
       "      <td>5</td>\n",
       "      <td>3</td>\n",
       "      <td>3</td>\n",
       "      <td>4</td>\n",
       "      <td>3</td>\n",
       "      <td>0</td>\n",
       "      <td>0.0</td>\n",
       "    </tr>\n",
       "    <tr>\n",
       "      <th>1</th>\n",
       "      <td>72091</td>\n",
       "      <td>satisfied</td>\n",
       "      <td>Male</td>\n",
       "      <td>disloyal Customer</td>\n",
       "      <td>49</td>\n",
       "      <td>Personal Travel</td>\n",
       "      <td>Eco</td>\n",
       "      <td>2486</td>\n",
       "      <td>0</td>\n",
       "      <td>2</td>\n",
       "      <td>...</td>\n",
       "      <td>3</td>\n",
       "      <td>2</td>\n",
       "      <td>1</td>\n",
       "      <td>1</td>\n",
       "      <td>4</td>\n",
       "      <td>4</td>\n",
       "      <td>3</td>\n",
       "      <td>2</td>\n",
       "      <td>0</td>\n",
       "      <td>0.0</td>\n",
       "    </tr>\n",
       "    <tr>\n",
       "      <th>2</th>\n",
       "      <td>29663</td>\n",
       "      <td>satisfied</td>\n",
       "      <td>Male</td>\n",
       "      <td>disloyal Customer</td>\n",
       "      <td>55</td>\n",
       "      <td>Personal Travel</td>\n",
       "      <td>Eco</td>\n",
       "      <td>1448</td>\n",
       "      <td>0</td>\n",
       "      <td>3</td>\n",
       "      <td>...</td>\n",
       "      <td>3</td>\n",
       "      <td>3</td>\n",
       "      <td>3</td>\n",
       "      <td>5</td>\n",
       "      <td>3</td>\n",
       "      <td>2</td>\n",
       "      <td>3</td>\n",
       "      <td>3</td>\n",
       "      <td>0</td>\n",
       "      <td>0.0</td>\n",
       "    </tr>\n",
       "    <tr>\n",
       "      <th>3</th>\n",
       "      <td>81849</td>\n",
       "      <td>satisfied</td>\n",
       "      <td>Female</td>\n",
       "      <td>disloyal Customer</td>\n",
       "      <td>36</td>\n",
       "      <td>Personal Travel</td>\n",
       "      <td>Eco</td>\n",
       "      <td>1501</td>\n",
       "      <td>0</td>\n",
       "      <td>4</td>\n",
       "      <td>...</td>\n",
       "      <td>4</td>\n",
       "      <td>4</td>\n",
       "      <td>5</td>\n",
       "      <td>4</td>\n",
       "      <td>5</td>\n",
       "      <td>5</td>\n",
       "      <td>5</td>\n",
       "      <td>4</td>\n",
       "      <td>0</td>\n",
       "      <td>0.0</td>\n",
       "    </tr>\n",
       "    <tr>\n",
       "      <th>4</th>\n",
       "      <td>83693</td>\n",
       "      <td>satisfied</td>\n",
       "      <td>Male</td>\n",
       "      <td>disloyal Customer</td>\n",
       "      <td>55</td>\n",
       "      <td>Personal Travel</td>\n",
       "      <td>Eco</td>\n",
       "      <td>577</td>\n",
       "      <td>0</td>\n",
       "      <td>5</td>\n",
       "      <td>...</td>\n",
       "      <td>3</td>\n",
       "      <td>3</td>\n",
       "      <td>3</td>\n",
       "      <td>4</td>\n",
       "      <td>5</td>\n",
       "      <td>3</td>\n",
       "      <td>4</td>\n",
       "      <td>3</td>\n",
       "      <td>0</td>\n",
       "      <td>0.0</td>\n",
       "    </tr>\n",
       "  </tbody>\n",
       "</table>\n",
       "<p>5 rows × 24 columns</p>\n",
       "</div>"
      ],
      "text/plain": [
       "       id satisfaction_v2  Gender      Customer Type  Age   Type of Travel  \\\n",
       "0  117135       satisfied    Male  disloyal Customer   56  Personal Travel   \n",
       "1   72091       satisfied    Male  disloyal Customer   49  Personal Travel   \n",
       "2   29663       satisfied    Male  disloyal Customer   55  Personal Travel   \n",
       "3   81849       satisfied  Female  disloyal Customer   36  Personal Travel   \n",
       "4   83693       satisfied    Male  disloyal Customer   55  Personal Travel   \n",
       "\n",
       "  Class  Flight Distance  Inflight wifi service  \\\n",
       "0   Eco              369                      0   \n",
       "1   Eco             2486                      0   \n",
       "2   Eco             1448                      0   \n",
       "3   Eco             1501                      0   \n",
       "4   Eco              577                      0   \n",
       "\n",
       "   Departure/Arrival time convenient  ...  Seat comfort  \\\n",
       "0                                  2  ...             3   \n",
       "1                                  2  ...             3   \n",
       "2                                  3  ...             3   \n",
       "3                                  4  ...             4   \n",
       "4                                  5  ...             3   \n",
       "\n",
       "   Inflight entertainment  On-board service  Leg room service  \\\n",
       "0                       3                 1                 5   \n",
       "1                       2                 1                 1   \n",
       "2                       3                 3                 5   \n",
       "3                       4                 5                 4   \n",
       "4                       3                 3                 4   \n",
       "\n",
       "   Baggage handling  Checkin service  Inflight service  Cleanliness  \\\n",
       "0                 3                3                 4            3   \n",
       "1                 4                4                 3            2   \n",
       "2                 3                2                 3            3   \n",
       "3                 5                5                 5            4   \n",
       "4                 5                3                 4            3   \n",
       "\n",
       "   Departure Delay in Minutes  Arrival Delay in Minutes  \n",
       "0                           0                       0.0  \n",
       "1                           0                       0.0  \n",
       "2                           0                       0.0  \n",
       "3                           0                       0.0  \n",
       "4                           0                       0.0  \n",
       "\n",
       "[5 rows x 24 columns]"
      ]
     },
     "execution_count": 2,
     "metadata": {},
     "output_type": "execute_result"
    }
   ],
   "source": [
    "flight_data  = pd.read_csv('satisfaction_2015.csv')\n",
    "flight_data.head()"
   ]
  },
  {
   "cell_type": "code",
   "execution_count": 3,
   "id": "1b833cbe-dd10-4588-8dcf-82f58c09e578",
   "metadata": {},
   "outputs": [
    {
     "name": "stderr",
     "output_type": "stream",
     "text": [
      "C:\\Users\\abbyv\\AppData\\Local\\Temp\\ipykernel_43816\\77218919.py:2: FutureWarning: Downcasting behavior in `replace` is deprecated and will be removed in a future version. To retain the old behavior, explicitly call `result.infer_objects(copy=False)`. To opt-in to the future behavior, set `pd.set_option('future.no_silent_downcasting', True)`\n",
      "  flight_data['satisfaction_v2'] = flight_data['satisfaction_v2'].replace({'satisfied': 1, 'neutral or dissatisfied': 0})\n"
     ]
    },
    {
     "data": {
      "text/plain": [
       "satisfaction_v2\n",
       "0    73452\n",
       "1    56428\n",
       "Name: count, dtype: int64"
      ]
     },
     "execution_count": 3,
     "metadata": {},
     "output_type": "execute_result"
    }
   ],
   "source": [
    "# Checking for N/As\n",
    "flight_data['satisfaction_v2'] = flight_data['satisfaction_v2'].replace({'satisfied': 1, 'neutral or dissatisfied': 0})\n",
    "\n",
    "flight_data[\"satisfaction_v2\"].value_counts(dropna = False)"
   ]
  },
  {
   "cell_type": "code",
   "execution_count": 4,
   "id": "2d46dfc8-a11f-4aff-9378-14f2e1c4f594",
   "metadata": {},
   "outputs": [
    {
     "data": {
      "text/plain": [
       "Gender\n",
       "Female    65899\n",
       "Male      63981\n",
       "Name: count, dtype: int64"
      ]
     },
     "execution_count": 4,
     "metadata": {},
     "output_type": "execute_result"
    }
   ],
   "source": [
    "flight_data[\"Gender\"].value_counts(dropna = False)"
   ]
  },
  {
   "cell_type": "code",
   "execution_count": 5,
   "id": "423e5f0f-70e5-4f7b-b624-e64d6f126f6b",
   "metadata": {},
   "outputs": [
    {
     "data": {
      "text/plain": [
       "Customer Type\n",
       "Loyal Customer       106100\n",
       "disloyal Customer     23780\n",
       "Name: count, dtype: int64"
      ]
     },
     "execution_count": 5,
     "metadata": {},
     "output_type": "execute_result"
    }
   ],
   "source": [
    "flight_data[\"Customer Type\"].value_counts(dropna = False)"
   ]
  },
  {
   "cell_type": "code",
   "execution_count": 6,
   "id": "e57d7918-48cd-4ebf-a30a-aa4f967cc091",
   "metadata": {},
   "outputs": [
    {
     "data": {
      "text/plain": [
       "count    129880.000000\n",
       "mean         39.427957\n",
       "std          15.119360\n",
       "min           7.000000\n",
       "25%          27.000000\n",
       "50%          40.000000\n",
       "75%          51.000000\n",
       "max          85.000000\n",
       "Name: Age, dtype: float64"
      ]
     },
     "execution_count": 6,
     "metadata": {},
     "output_type": "execute_result"
    }
   ],
   "source": [
    "flight_data[\"Age\"].describe(include = 'all')"
   ]
  },
  {
   "cell_type": "code",
   "execution_count": 7,
   "id": "33de2911-bca3-4d9c-9673-52be3092604a",
   "metadata": {},
   "outputs": [
    {
     "data": {
      "text/plain": [
       "Type of Travel\n",
       "Business travel    89693\n",
       "Personal Travel    40187\n",
       "Name: count, dtype: int64"
      ]
     },
     "execution_count": 7,
     "metadata": {},
     "output_type": "execute_result"
    }
   ],
   "source": [
    "flight_data[\"Type of Travel\"].value_counts(dropna = False)"
   ]
  },
  {
   "cell_type": "code",
   "execution_count": 8,
   "id": "f71afdf2-2e54-4594-ae95-d25837edad9f",
   "metadata": {},
   "outputs": [
    {
     "data": {
      "text/plain": [
       "Class\n",
       "Business    62160\n",
       "Eco         58309\n",
       "Eco Plus     9411\n",
       "Name: count, dtype: int64"
      ]
     },
     "execution_count": 8,
     "metadata": {},
     "output_type": "execute_result"
    }
   ],
   "source": [
    "flight_data[\"Class\"].value_counts(dropna = False)"
   ]
  },
  {
   "cell_type": "code",
   "execution_count": 9,
   "id": "611e788d-2aa3-4207-a62e-0aae36f12615",
   "metadata": {},
   "outputs": [
    {
     "data": {
      "text/plain": [
       "count    129880.000000\n",
       "mean       1190.316392\n",
       "std         997.452477\n",
       "min          31.000000\n",
       "25%         414.000000\n",
       "50%         844.000000\n",
       "75%        1744.000000\n",
       "max        4983.000000\n",
       "Name: Flight Distance, dtype: float64"
      ]
     },
     "execution_count": 9,
     "metadata": {},
     "output_type": "execute_result"
    }
   ],
   "source": [
    "# looking at statistics of flight distance\n",
    "flight_data[\"Flight Distance\"].describe(include = 'all')"
   ]
  },
  {
   "cell_type": "code",
   "execution_count": 10,
   "id": "acd550b0-c08d-4fe6-bf3e-1fce43ee463f",
   "metadata": {},
   "outputs": [
    {
     "name": "stderr",
     "output_type": "stream",
     "text": [
      "C:\\Users\\abbyv\\AppData\\Local\\Temp\\ipykernel_43816\\4227783932.py:4: FutureWarning: Downcasting object dtype arrays on .fillna, .ffill, .bfill is deprecated and will change in a future version. Call result.infer_objects(copy=False) instead. To opt-in to the future behavior, set `pd.set_option('future.no_silent_downcasting', True)`\n",
      "  flight_data['Inflight wifi service'] = flight_data['Inflight wifi service'].fillna(median_value)\n"
     ]
    },
    {
     "data": {
      "text/plain": [
       "Inflight wifi service\n",
       "3    36101\n",
       "2    32320\n",
       "4    24775\n",
       "1    22328\n",
       "5    14356\n",
       "Name: count, dtype: int64"
      ]
     },
     "execution_count": 10,
     "metadata": {},
     "output_type": "execute_result"
    }
   ],
   "source": [
    "flight_data['Inflight wifi service'] = flight_data['Inflight wifi service'].replace(0, pd.NA)\n",
    "median_value = flight_data['Inflight wifi service'].median()\n",
    "median_value = int(median_value)\n",
    "flight_data['Inflight wifi service'] = flight_data['Inflight wifi service'].fillna(median_value)\n",
    "flight_data[\"Inflight wifi service\"].value_counts(dropna = False)"
   ]
  },
  {
   "cell_type": "code",
   "execution_count": 11,
   "id": "6aa793a6-06dd-4c8a-b648-000a5921557a",
   "metadata": {},
   "outputs": [
    {
     "name": "stderr",
     "output_type": "stream",
     "text": [
      "C:\\Users\\abbyv\\AppData\\Local\\Temp\\ipykernel_43816\\2650361895.py:4: FutureWarning: Downcasting object dtype arrays on .fillna, .ffill, .bfill is deprecated and will change in a future version. Call result.infer_objects(copy=False) instead. To opt-in to the future behavior, set `pd.set_option('future.no_silent_downcasting', True)`\n",
      "  flight_data['Departure/Arrival time convenient'] = flight_data['Departure/Arrival time convenient'].fillna(median_value)\n"
     ]
    },
    {
     "data": {
      "text/plain": [
       "Departure/Arrival time convenient\n",
       "4    31880\n",
       "3    29059\n",
       "5    27998\n",
       "2    21534\n",
       "1    19409\n",
       "Name: count, dtype: int64"
      ]
     },
     "execution_count": 11,
     "metadata": {},
     "output_type": "execute_result"
    }
   ],
   "source": [
    "flight_data['Departure/Arrival time convenient'] = flight_data['Departure/Arrival time convenient'].replace(0, pd.NA)\n",
    "median_value = flight_data['Departure/Arrival time convenient'].median()\n",
    "median_value = int(median_value)\n",
    "flight_data['Departure/Arrival time convenient'] = flight_data['Departure/Arrival time convenient'].fillna(median_value)\n",
    "flight_data[\"Departure/Arrival time convenient\"].value_counts(dropna = False)"
   ]
  },
  {
   "cell_type": "code",
   "execution_count": 12,
   "id": "68ccc4df-e5a7-49e1-8959-387ef121db09",
   "metadata": {},
   "outputs": [
    {
     "name": "stderr",
     "output_type": "stream",
     "text": [
      "C:\\Users\\abbyv\\AppData\\Local\\Temp\\ipykernel_43816\\2824141802.py:4: FutureWarning: Downcasting object dtype arrays on .fillna, .ffill, .bfill is deprecated and will change in a future version. Call result.infer_objects(copy=False) instead. To opt-in to the future behavior, set `pd.set_option('future.no_silent_downcasting', True)`\n",
      "  flight_data['Ease of Online booking'] = flight_data['Ease of Online booking'].fillna(median_value)\n"
     ]
    },
    {
     "data": {
      "text/plain": [
       "Ease of Online booking\n",
       "3    36075\n",
       "2    30051\n",
       "4    24444\n",
       "1    21886\n",
       "5    17424\n",
       "Name: count, dtype: int64"
      ]
     },
     "execution_count": 12,
     "metadata": {},
     "output_type": "execute_result"
    }
   ],
   "source": [
    "flight_data['Ease of Online booking'] = flight_data['Ease of Online booking'].replace(0, pd.NA)\n",
    "median_value = flight_data['Ease of Online booking'].median()\n",
    "median_value = int(median_value)\n",
    "flight_data['Ease of Online booking'] = flight_data['Ease of Online booking'].fillna(median_value)\n",
    "flight_data[\"Ease of Online booking\"].value_counts(dropna = False)"
   ]
  },
  {
   "cell_type": "code",
   "execution_count": 13,
   "id": "927f6395-eb11-466f-8436-cf7e0be265b2",
   "metadata": {},
   "outputs": [
    {
     "name": "stderr",
     "output_type": "stream",
     "text": [
      "C:\\Users\\abbyv\\AppData\\Local\\Temp\\ipykernel_43816\\1038885405.py:4: FutureWarning: Downcasting object dtype arrays on .fillna, .ffill, .bfill is deprecated and will change in a future version. Call result.infer_objects(copy=False) instead. To opt-in to the future behavior, set `pd.set_option('future.no_silent_downcasting', True)`\n",
      "  flight_data['Gate location'] = flight_data['Gate location'].fillna(median_value)\n"
     ]
    },
    {
     "data": {
      "text/plain": [
       "Gate location\n",
       "3    35718\n",
       "4    30466\n",
       "2    24296\n",
       "1    21991\n",
       "5    17409\n",
       "Name: count, dtype: int64"
      ]
     },
     "execution_count": 13,
     "metadata": {},
     "output_type": "execute_result"
    }
   ],
   "source": [
    "flight_data['Gate location'] = flight_data['Gate location'].replace(0, pd.NA)\n",
    "median_value = flight_data['Gate location'].median()\n",
    "median_value = int(median_value)\n",
    "flight_data['Gate location'] = flight_data['Gate location'].fillna(median_value)\n",
    "flight_data[\"Gate location\"].value_counts(dropna = False)"
   ]
  },
  {
   "cell_type": "code",
   "execution_count": 14,
   "id": "d54902e6-fe0a-484b-8355-2deac20cf693",
   "metadata": {},
   "outputs": [
    {
     "name": "stderr",
     "output_type": "stream",
     "text": [
      "C:\\Users\\abbyv\\AppData\\Local\\Temp\\ipykernel_43816\\2723114479.py:4: FutureWarning: Downcasting object dtype arrays on .fillna, .ffill, .bfill is deprecated and will change in a future version. Call result.infer_objects(copy=False) instead. To opt-in to the future behavior, set `pd.set_option('future.no_silent_downcasting', True)`\n",
      "  flight_data['Food and drink'] = flight_data['Food and drink'].fillna(median_value)\n"
     ]
    },
    {
     "data": {
      "text/plain": [
       "Food and drink\n",
       "4    30563\n",
       "5    27957\n",
       "3    27926\n",
       "2    27383\n",
       "1    16051\n",
       "Name: count, dtype: int64"
      ]
     },
     "execution_count": 14,
     "metadata": {},
     "output_type": "execute_result"
    }
   ],
   "source": [
    "flight_data['Food and drink'] = flight_data['Food and drink'].replace(0, pd.NA)\n",
    "median_value = flight_data['Food and drink'].median()\n",
    "median_value = int(median_value)\n",
    "flight_data['Food and drink'] = flight_data['Food and drink'].fillna(median_value)\n",
    "flight_data[\"Food and drink\"].value_counts(dropna = False)"
   ]
  },
  {
   "cell_type": "code",
   "execution_count": 15,
   "id": "2e89abbe-e920-421d-8556-516189020dd2",
   "metadata": {},
   "outputs": [
    {
     "name": "stderr",
     "output_type": "stream",
     "text": [
      "C:\\Users\\abbyv\\AppData\\Local\\Temp\\ipykernel_43816\\951410620.py:4: FutureWarning: Downcasting object dtype arrays on .fillna, .ffill, .bfill is deprecated and will change in a future version. Call result.infer_objects(copy=False) instead. To opt-in to the future behavior, set `pd.set_option('future.no_silent_downcasting', True)`\n",
      "  flight_data['Online boarding'] = flight_data['Online boarding'].fillna(median_value)\n"
     ]
    },
    {
     "data": {
      "text/plain": [
       "Online boarding\n",
       "4    41548\n",
       "3    27117\n",
       "5    26020\n",
       "2    21934\n",
       "1    13261\n",
       "Name: count, dtype: int64"
      ]
     },
     "execution_count": 15,
     "metadata": {},
     "output_type": "execute_result"
    }
   ],
   "source": [
    "flight_data['Online boarding'] = flight_data['Online boarding'].replace(0, pd.NA)\n",
    "median_value = flight_data['Online boarding'].median()\n",
    "median_value = int(median_value)\n",
    "flight_data['Online boarding'] = flight_data['Online boarding'].fillna(median_value)\n",
    "flight_data[\"Online boarding\"].value_counts(dropna = False)"
   ]
  },
  {
   "cell_type": "code",
   "execution_count": 16,
   "id": "823f2dfb-fb2b-4c5e-8232-cd5ded1e58c6",
   "metadata": {},
   "outputs": [
    {
     "name": "stderr",
     "output_type": "stream",
     "text": [
      "C:\\Users\\abbyv\\AppData\\Local\\Temp\\ipykernel_43816\\1376870952.py:4: FutureWarning: Downcasting object dtype arrays on .fillna, .ffill, .bfill is deprecated and will change in a future version. Call result.infer_objects(copy=False) instead. To opt-in to the future behavior, set `pd.set_option('future.no_silent_downcasting', True)`\n",
      "  flight_data['Seat comfort'] = flight_data['Seat comfort'].fillna(median_value)\n"
     ]
    },
    {
     "data": {
      "text/plain": [
       "Seat comfort\n",
       "4    39757\n",
       "5    33158\n",
       "3    23328\n",
       "2    18529\n",
       "1    15108\n",
       "Name: count, dtype: int64"
      ]
     },
     "execution_count": 16,
     "metadata": {},
     "output_type": "execute_result"
    }
   ],
   "source": [
    "flight_data['Seat comfort'] = flight_data['Seat comfort'].replace(0, pd.NA)\n",
    "median_value = flight_data['Seat comfort'].median()\n",
    "median_value = int(median_value)\n",
    "flight_data['Seat comfort'] = flight_data['Seat comfort'].fillna(median_value)\n",
    "flight_data[\"Seat comfort\"].value_counts(dropna = False)"
   ]
  },
  {
   "cell_type": "code",
   "execution_count": 17,
   "id": "d378c623-eedd-4c9f-8568-da6af8c7415a",
   "metadata": {},
   "outputs": [
    {
     "name": "stderr",
     "output_type": "stream",
     "text": [
      "C:\\Users\\abbyv\\AppData\\Local\\Temp\\ipykernel_43816\\2060052512.py:4: FutureWarning: Downcasting object dtype arrays on .fillna, .ffill, .bfill is deprecated and will change in a future version. Call result.infer_objects(copy=False) instead. To opt-in to the future behavior, set `pd.set_option('future.no_silent_downcasting', True)`\n",
      "  flight_data['Inflight entertainment'] = flight_data['Inflight entertainment'].fillna(median_value)\n"
     ]
    },
    {
     "data": {
      "text/plain": [
       "Inflight entertainment\n",
       "4    36809\n",
       "5    31544\n",
       "3    23884\n",
       "2    21968\n",
       "1    15675\n",
       "Name: count, dtype: int64"
      ]
     },
     "execution_count": 17,
     "metadata": {},
     "output_type": "execute_result"
    }
   ],
   "source": [
    "flight_data['Inflight entertainment'] = flight_data['Inflight entertainment'].replace(0, pd.NA)\n",
    "median_value = flight_data['Inflight entertainment'].median()\n",
    "median_value = int(median_value)\n",
    "flight_data['Inflight entertainment'] = flight_data['Inflight entertainment'].fillna(median_value)\n",
    "flight_data[\"Inflight entertainment\"].value_counts(dropna = False)"
   ]
  },
  {
   "cell_type": "code",
   "execution_count": 18,
   "id": "1e8af1bf-c52f-4726-a037-00fa6592f814",
   "metadata": {},
   "outputs": [
    {
     "name": "stderr",
     "output_type": "stream",
     "text": [
      "C:\\Users\\abbyv\\AppData\\Local\\Temp\\ipykernel_43816\\2030289521.py:4: FutureWarning: Downcasting object dtype arrays on .fillna, .ffill, .bfill is deprecated and will change in a future version. Call result.infer_objects(copy=False) instead. To opt-in to the future behavior, set `pd.set_option('future.no_silent_downcasting', True)`\n",
      "  flight_data['On-board service'] = flight_data['On-board service'].fillna(median_value)\n"
     ]
    },
    {
     "data": {
      "text/plain": [
       "On-board service\n",
       "4    38708\n",
       "5    29492\n",
       "3    28542\n",
       "2    18351\n",
       "1    14787\n",
       "Name: count, dtype: int64"
      ]
     },
     "execution_count": 18,
     "metadata": {},
     "output_type": "execute_result"
    }
   ],
   "source": [
    "flight_data['On-board service'] = flight_data['On-board service'].replace(0, pd.NA)\n",
    "median_value = flight_data['On-board service'].median()\n",
    "median_value = int(median_value)\n",
    "flight_data['On-board service'] = flight_data['On-board service'].fillna(median_value)\n",
    "flight_data[\"On-board service\"].value_counts(dropna = False)"
   ]
  },
  {
   "cell_type": "code",
   "execution_count": 19,
   "id": "fa272caf-042e-43b8-bf43-290e622a85f8",
   "metadata": {},
   "outputs": [
    {
     "name": "stderr",
     "output_type": "stream",
     "text": [
      "C:\\Users\\abbyv\\AppData\\Local\\Temp\\ipykernel_43816\\3859440011.py:4: FutureWarning: Downcasting object dtype arrays on .fillna, .ffill, .bfill is deprecated and will change in a future version. Call result.infer_objects(copy=False) instead. To opt-in to the future behavior, set `pd.set_option('future.no_silent_downcasting', True)`\n",
      "  flight_data['Leg room service'] = flight_data['Leg room service'].fillna(median_value)\n"
     ]
    },
    {
     "data": {
      "text/plain": [
       "Leg room service\n",
       "4    36484\n",
       "5    30905\n",
       "3    25056\n",
       "2    24540\n",
       "1    12895\n",
       "Name: count, dtype: int64"
      ]
     },
     "execution_count": 19,
     "metadata": {},
     "output_type": "execute_result"
    }
   ],
   "source": [
    "flight_data['Leg room service'] = flight_data['Leg room service'].replace(0, pd.NA)\n",
    "median_value = flight_data['Leg room service'].median()\n",
    "median_value = int(median_value)\n",
    "flight_data['Leg room service'] = flight_data['Leg room service'].fillna(median_value)\n",
    "flight_data[\"Leg room service\"].value_counts(dropna = False)"
   ]
  },
  {
   "cell_type": "code",
   "execution_count": 20,
   "id": "963f8c07-f641-443d-bec3-139c0fc03fb4",
   "metadata": {},
   "outputs": [
    {
     "data": {
      "text/plain": [
       "Baggage handling\n",
       "4    46761\n",
       "5    33878\n",
       "3    25851\n",
       "2    14362\n",
       "1     9028\n",
       "Name: count, dtype: int64"
      ]
     },
     "execution_count": 20,
     "metadata": {},
     "output_type": "execute_result"
    }
   ],
   "source": [
    "flight_data['Baggage handling'] = flight_data['Baggage handling'].replace(0, pd.NA)\n",
    "median_value = flight_data['Baggage handling'].median()\n",
    "median_value = int(median_value)\n",
    "flight_data['Baggage handling'] = flight_data['Baggage handling'].fillna(median_value)\n",
    "flight_data[\"Baggage handling\"].value_counts(dropna = False)"
   ]
  },
  {
   "cell_type": "code",
   "execution_count": 21,
   "id": "d6942e06-8ea9-4719-afdb-bd2a03345a00",
   "metadata": {},
   "outputs": [
    {
     "name": "stderr",
     "output_type": "stream",
     "text": [
      "C:\\Users\\abbyv\\AppData\\Local\\Temp\\ipykernel_43816\\1600059456.py:4: FutureWarning: Downcasting object dtype arrays on .fillna, .ffill, .bfill is deprecated and will change in a future version. Call result.infer_objects(copy=False) instead. To opt-in to the future behavior, set `pd.set_option('future.no_silent_downcasting', True)`\n",
      "  flight_data['Checkin service'] = flight_data['Checkin service'].fillna(median_value)\n"
     ]
    },
    {
     "data": {
      "text/plain": [
       "Checkin service\n",
       "4    36333\n",
       "3    35454\n",
       "5    25883\n",
       "1    16108\n",
       "2    16102\n",
       "Name: count, dtype: int64"
      ]
     },
     "execution_count": 21,
     "metadata": {},
     "output_type": "execute_result"
    }
   ],
   "source": [
    "flight_data['Checkin service'] = flight_data['Checkin service'].replace(0, pd.NA)\n",
    "median_value = flight_data['Checkin service'].median()\n",
    "median_value = int(median_value)\n",
    "flight_data['Checkin service'] = flight_data['Checkin service'].fillna(median_value)\n",
    "flight_data[\"Checkin service\"].value_counts(dropna = False)"
   ]
  },
  {
   "cell_type": "code",
   "execution_count": 22,
   "id": "9aac4dbf-52ae-49e0-9624-010ceafbc7e2",
   "metadata": {},
   "outputs": [
    {
     "name": "stderr",
     "output_type": "stream",
     "text": [
      "C:\\Users\\abbyv\\AppData\\Local\\Temp\\ipykernel_43816\\1170186296.py:4: FutureWarning: Downcasting object dtype arrays on .fillna, .ffill, .bfill is deprecated and will change in a future version. Call result.infer_objects(copy=False) instead. To opt-in to the future behavior, set `pd.set_option('future.no_silent_downcasting', True)`\n",
      "  flight_data['Inflight service'] = flight_data['Inflight service'].fillna(median_value)\n"
     ]
    },
    {
     "data": {
      "text/plain": [
       "Inflight service\n",
       "4    47328\n",
       "5    34066\n",
       "3    25316\n",
       "2    14308\n",
       "1     8862\n",
       "Name: count, dtype: int64"
      ]
     },
     "execution_count": 22,
     "metadata": {},
     "output_type": "execute_result"
    }
   ],
   "source": [
    "flight_data['Inflight service'] = flight_data['Inflight service'].replace(0, pd.NA)\n",
    "median_value = flight_data['Inflight service'].median()\n",
    "median_value = int(median_value)\n",
    "flight_data['Inflight service'] = flight_data['Inflight service'].fillna(median_value)\n",
    "flight_data[\"Inflight service\"].value_counts(dropna = False)"
   ]
  },
  {
   "cell_type": "code",
   "execution_count": 23,
   "id": "1ac7c0b1-c849-42b0-a2cc-48957f6b28dd",
   "metadata": {},
   "outputs": [
    {
     "name": "stderr",
     "output_type": "stream",
     "text": [
      "C:\\Users\\abbyv\\AppData\\Local\\Temp\\ipykernel_43816\\253896427.py:4: FutureWarning: Downcasting object dtype arrays on .fillna, .ffill, .bfill is deprecated and will change in a future version. Call result.infer_objects(copy=False) instead. To opt-in to the future behavior, set `pd.set_option('future.no_silent_downcasting', True)`\n",
      "  flight_data['Cleanliness'] = flight_data['Cleanliness'].fillna(median_value)\n"
     ]
    },
    {
     "data": {
      "text/plain": [
       "Cleanliness\n",
       "4    33969\n",
       "3    30653\n",
       "5    28416\n",
       "2    20113\n",
       "1    16729\n",
       "Name: count, dtype: int64"
      ]
     },
     "execution_count": 23,
     "metadata": {},
     "output_type": "execute_result"
    }
   ],
   "source": [
    "\n",
    "flight_data['Cleanliness'] = flight_data['Cleanliness'].replace(0, pd.NA)\n",
    "median_value = flight_data['Cleanliness'].median()\n",
    "median_value = int(median_value)\n",
    "flight_data['Cleanliness'] = flight_data['Cleanliness'].fillna(median_value)\n",
    "flight_data[\"Cleanliness\"].value_counts(dropna = False)"
   ]
  },
  {
   "cell_type": "code",
   "execution_count": 24,
   "id": "9e9521d1-5d29-4083-b9ca-60430f0902bc",
   "metadata": {},
   "outputs": [
    {
     "data": {
      "text/plain": [
       "count    129880.000000\n",
       "mean         14.713713\n",
       "std          38.071126\n",
       "min           0.000000\n",
       "25%           0.000000\n",
       "50%           0.000000\n",
       "75%          12.000000\n",
       "max        1592.000000\n",
       "Name: Departure Delay in Minutes, dtype: float64"
      ]
     },
     "execution_count": 24,
     "metadata": {},
     "output_type": "execute_result"
    }
   ],
   "source": [
    "flight_data[\"Departure Delay in Minutes\"].describe(include = 'all')"
   ]
  },
  {
   "cell_type": "code",
   "execution_count": 25,
   "id": "78db01eb-20dd-484f-87d4-66f28f823868",
   "metadata": {},
   "outputs": [
    {
     "data": {
      "text/plain": [
       "count    129880.000000\n",
       "mean         15.045465\n",
       "std          38.416353\n",
       "min           0.000000\n",
       "25%           0.000000\n",
       "50%           0.000000\n",
       "75%          13.000000\n",
       "max        1584.000000\n",
       "Name: Arrival Delay in Minutes, dtype: float64"
      ]
     },
     "execution_count": 25,
     "metadata": {},
     "output_type": "execute_result"
    }
   ],
   "source": [
    "\n",
    "median_value = flight_data['Arrival Delay in Minutes'].median()\n",
    "median_value = int(median_value)\n",
    "flight_data['Arrival Delay in Minutes'] = flight_data['Arrival Delay in Minutes'].fillna(median_value)\n",
    "flight_data[\"Arrival Delay in Minutes\"].describe(include = 'all')"
   ]
  },
  {
   "cell_type": "code",
   "execution_count": 26,
   "id": "0124d56e-db4e-4263-82a2-a925bbae02bd",
   "metadata": {},
   "outputs": [],
   "source": [
    "flight_data = pd.get_dummies(flight_data, columns=['Gender'])\n",
    "flight_data = pd.get_dummies(flight_data, columns=['Customer Type'])\n",
    "flight_data = pd.get_dummies(flight_data, columns=['Type of Travel'])\n",
    "flight_data = pd.get_dummies(flight_data, columns=['Class'])"
   ]
  },
  {
   "cell_type": "code",
   "execution_count": 27,
   "id": "c3a629d1-1fdd-4c8b-81d8-217c7099577f",
   "metadata": {},
   "outputs": [
    {
     "name": "stdout",
     "output_type": "stream",
     "text": [
      "Missing values in the DataFrame:\n",
      "id                                   0\n",
      "satisfaction_v2                      0\n",
      "Age                                  0\n",
      "Flight Distance                      0\n",
      "Inflight wifi service                0\n",
      "Departure/Arrival time convenient    0\n",
      "Ease of Online booking               0\n",
      "Gate location                        0\n",
      "Food and drink                       0\n",
      "Online boarding                      0\n",
      "Seat comfort                         0\n",
      "Inflight entertainment               0\n",
      "On-board service                     0\n",
      "Leg room service                     0\n",
      "Baggage handling                     0\n",
      "Checkin service                      0\n",
      "Inflight service                     0\n",
      "Cleanliness                          0\n",
      "Departure Delay in Minutes           0\n",
      "Arrival Delay in Minutes             0\n",
      "Gender_Female                        0\n",
      "Gender_Male                          0\n",
      "Customer Type_Loyal Customer         0\n",
      "Customer Type_disloyal Customer      0\n",
      "Type of Travel_Business travel       0\n",
      "Type of Travel_Personal Travel       0\n",
      "Class_Business                       0\n",
      "Class_Eco                            0\n",
      "Class_Eco Plus                       0\n",
      "dtype: int64\n"
     ]
    }
   ],
   "source": [
    "missing_values = flight_data.isna().sum()\n",
    "\n",
    "print(\"Missing values in the DataFrame:\")\n",
    "print(missing_values)"
   ]
  },
  {
   "cell_type": "code",
   "execution_count": 28,
   "id": "99af3480-aaeb-444e-9799-400948f7ab96",
   "metadata": {},
   "outputs": [],
   "source": [
    "# Drop id\n",
    "# Drop a column (e.g., column 'B')\n",
    "flight_data = flight_data.drop(columns=['id'])"
   ]
  },
  {
   "cell_type": "code",
   "execution_count": 37,
   "id": "c6759f1f-a5dc-45ee-90af-33d6cb6003a7",
   "metadata": {},
   "outputs": [],
   "source": [
    "flight_data['Gender_Female'] = flight_data['Gender_Female'].astype(int)\n",
    "flight_data['Gender_Male'] = flight_data['Gender_Male'].astype(int)\n",
    "flight_data['Customer Type_Loyal Customer'] = flight_data['Customer Type_Loyal Customer'].astype(int)\n",
    "flight_data['Customer Type_disloyal Customer'] = flight_data['Customer Type_disloyal Customer'].astype(int)\n",
    "flight_data['Type of Travel_Business travel'] = flight_data['Type of Travel_Business travel'].astype(int)\n",
    "flight_data['Type of Travel_Personal Travel'] = flight_data['Type of Travel_Personal Travel'].astype(int)\n",
    "flight_data['Class_Business'] = flight_data['Class_Business'].astype(int)\n",
    "flight_data['Class_Eco'] = flight_data['Class_Eco'].astype(int)\n",
    "flight_data['Class_Eco Plus'] = flight_data['Class_Eco Plus'].astype(int)"
   ]
  },
  {
   "cell_type": "code",
   "execution_count": 47,
   "id": "95d3b90c-8748-4d90-bd94-fca4f1ca0c1b",
   "metadata": {},
   "outputs": [
    {
     "name": "stdout",
     "output_type": "stream",
     "text": [
      "Accuracy: 0.8163227594702802\n",
      "              precision    recall  f1-score   support\n",
      "\n",
      "           0       0.84      0.83      0.84     18318\n",
      "           1       0.78      0.80      0.79     14152\n",
      "\n",
      "    accuracy                           0.82     32470\n",
      "   macro avg       0.81      0.81      0.81     32470\n",
      "weighted avg       0.82      0.82      0.82     32470\n",
      "\n"
     ]
    },
    {
     "name": "stderr",
     "output_type": "stream",
     "text": [
      "C:\\Users\\abbyv\\AppData\\Local\\Programs\\Python\\Python312\\Lib\\site-packages\\sklearn\\linear_model\\_logistic.py:469: ConvergenceWarning: lbfgs failed to converge (status=1):\n",
      "STOP: TOTAL NO. of ITERATIONS REACHED LIMIT.\n",
      "\n",
      "Increase the number of iterations (max_iter) or scale the data as shown in:\n",
      "    https://scikit-learn.org/stable/modules/preprocessing.html\n",
      "Please also refer to the documentation for alternative solver options:\n",
      "    https://scikit-learn.org/stable/modules/linear_model.html#logistic-regression\n",
      "  n_iter_i = _check_optimize_result(\n"
     ]
    }
   ],
   "source": [
    "# Creating a logistic model with all features \n",
    "from sklearn.model_selection import train_test_split\n",
    "from sklearn.linear_model import LogisticRegression\n",
    "from sklearn.metrics import accuracy_score, classification_report\n",
    "\n",
    "\n",
    "# Step 4: Split the dataset into training and testing sets\n",
    "X = flight_data.drop('satisfaction_v2', axis=1) # Features\n",
    "y = flight_data['satisfaction_v2'] # Target variable\n",
    "X_train, X_test, y_train, y_test = train_test_split(X, y,  random_state=42)\n",
    "\n",
    "# Step 5: Create a logistic regression model\n",
    "model = LogisticRegression()\n",
    "\n",
    "# Step 6: Train the model on the training data\n",
    "result = model.fit(X_train, y_train)\n",
    "\n",
    "# Step 7: Evaluate the model's performance on the testing data\n",
    "y_pred = model.predict(X_test)\n",
    "\n",
    "# Calculate accuracy\n",
    "accuracy = accuracy_score(y_test, y_pred)\n",
    "print(\"Accuracy:\", accuracy)\n",
    "\n",
    "# Get classification report\n",
    "print(classification_report(y_test, y_pred))"
   ]
  },
  {
   "cell_type": "code",
   "execution_count": 48,
   "id": "38d6dc77-ae66-4149-822f-673889afbc9e",
   "metadata": {},
   "outputs": [
    {
     "name": "stdout",
     "output_type": "stream",
     "text": [
      "                              Feature  Coefficient  Odds ratios  \\\n",
      "0                                 Age    -0.021343     0.978883   \n",
      "1                     Flight Distance     0.000338     1.000338   \n",
      "2               Inflight wifi service     0.594826     1.812716   \n",
      "3   Departure/Arrival time convenient    -0.693849     0.499649   \n",
      "4              Ease of Online booking     0.127645     1.136150   \n",
      "5                       Gate location    -0.534274     0.586095   \n",
      "6                      Food and drink    -0.292267     0.746569   \n",
      "7                     Online boarding     0.820303     2.271189   \n",
      "8                        Seat comfort     0.093042     1.097507   \n",
      "9              Inflight entertainment     0.321322     1.378949   \n",
      "10                   On-board service     0.158370     1.171599   \n",
      "11                   Leg room service     0.120680     1.128263   \n",
      "12                   Baggage handling    -0.210263     0.810371   \n",
      "13                    Checkin service    -0.071552     0.930948   \n",
      "14                   Inflight service    -0.234653     0.790845   \n",
      "15                        Cleanliness    -0.012047     0.988025   \n",
      "16         Departure Delay in Minutes    -0.000615     0.999385   \n",
      "17           Arrival Delay in Minutes    -0.004318     0.995691   \n",
      "18                      Gender_Female    -0.166619     0.846522   \n",
      "19                        Gender_Male    -0.119550     0.887319   \n",
      "20       Customer Type_Loyal Customer    -0.009995     0.990055   \n",
      "21    Customer Type_disloyal Customer    -0.276174     0.758681   \n",
      "22     Type of Travel_Business travel     0.305865     1.357800   \n",
      "23     Type of Travel_Personal Travel    -0.592034     0.553201   \n",
      "24                     Class_Business     0.451606     1.570833   \n",
      "25                          Class_Eco    -0.649656     0.522225   \n",
      "26                     Class_Eco Plus    -0.088118     0.915652   \n",
      "\n",
      "    Abs_Coefficient  \n",
      "0          0.021343  \n",
      "1          0.000338  \n",
      "2          0.594826  \n",
      "3          0.693849  \n",
      "4          0.127645  \n",
      "5          0.534274  \n",
      "6          0.292267  \n",
      "7          0.820303  \n",
      "8          0.093042  \n",
      "9          0.321322  \n",
      "10         0.158370  \n",
      "11         0.120680  \n",
      "12         0.210263  \n",
      "13         0.071552  \n",
      "14         0.234653  \n",
      "15         0.012047  \n",
      "16         0.000615  \n",
      "17         0.004318  \n",
      "18         0.166619  \n",
      "19         0.119550  \n",
      "20         0.009995  \n",
      "21         0.276174  \n",
      "22         0.305865  \n",
      "23         0.592034  \n",
      "24         0.451606  \n",
      "25         0.649656  \n",
      "26         0.088118  \n"
     ]
    }
   ],
   "source": [
    "import numpy as np\n",
    "# Get coefficient estimates\n",
    "coefficients = model.coef_[0]\n",
    "\n",
    "# Get feature names\n",
    "feature_names = X_train.columns\n",
    "\n",
    "# Create a DataFrame to display coefficients\n",
    "coef_df = pd.DataFrame({'Feature': feature_names, 'Coefficient': coefficients})\n",
    "coef_df['Odds ratios'] = np.exp(coef_df['Coefficient'])\n",
    "\n",
    "# Sort the DataFrame by absolute coefficient values\n",
    "coef_df['Abs_Coefficient'] = np.abs(coef_df['Coefficient'])\n",
    "\n",
    "\n",
    "\n",
    "# Display the DataFrame\n",
    "print(coef_df)"
   ]
  },
  {
   "cell_type": "code",
   "execution_count": 42,
   "id": "dc6fd2f4-b5bf-4d6c-b449-4f9eecfae44b",
   "metadata": {},
   "outputs": [
    {
     "name": "stdout",
     "output_type": "stream",
     "text": [
      "Optimization terminated successfully.\n",
      "         Current function value: 0.272455\n",
      "         Iterations 8\n",
      "const                                          NaN\n",
      "Age                                   2.468756e-15\n",
      "Flight Distance                       2.010721e-01\n",
      "Inflight wifi service                 0.000000e+00\n",
      "Departure/Arrival time convenient    1.983921e-113\n",
      "Ease of Online booking                2.859481e-44\n",
      "Gate location                         4.990280e-61\n",
      "Food and drink                        5.742104e-04\n",
      "Online boarding                       0.000000e+00\n",
      "Seat comfort                          6.922431e-01\n",
      "Inflight entertainment                2.354704e-03\n",
      "On-board service                     3.662942e-164\n",
      "Leg room service                     7.387696e-172\n",
      "Baggage handling                      7.058730e-22\n",
      "Checkin service                      3.928446e-258\n",
      "Inflight service                      2.299663e-24\n",
      "Cleanliness                           1.872833e-63\n",
      "Departure Delay in Minutes            3.090325e-05\n",
      "Arrival Delay in Minutes              2.797070e-18\n",
      "Gender_Female                         9.999976e-01\n",
      "Gender_Male                           9.999976e-01\n",
      "Customer Type_Loyal Customer          9.999988e-01\n",
      "Customer Type_disloyal Customer       9.999953e-01\n",
      "Type of Travel_Business travel                 NaN\n",
      "Type of Travel_Personal Travel                 NaN\n",
      "Class_Business                        9.999971e-01\n",
      "Class_Eco                             9.999935e-01\n",
      "Class_Eco Plus                        9.999927e-01\n",
      "dtype: float64\n"
     ]
    }
   ],
   "source": [
    "import statsmodels.api as sm\n",
    "\n",
    "# Step 4: Split the dataset into training and testing sets\n",
    "X = flight_data.drop('satisfaction_v2', axis=1) # Features\n",
    "y = flight_data['satisfaction_v2'] # Target variable\n",
    "X_train, X_test, y_train, y_test = train_test_split(X, y, random_state=42) # Specify a fixed random state\n",
    "\n",
    "# Step 5: Create a logistic regression model using statsmodels\n",
    "X_train_sm = sm.add_constant(X_train) # Add constant term for intercept\n",
    "logit_model = sm.Logit(y_train, X_train_sm)\n",
    "result = logit_model.fit()\n",
    "\n",
    "# Get summary of the model\n",
    "summary = result.summary()\n",
    "\n",
    "# Extract p-values from the summary\n",
    "p_values = result.pvalues\n",
    "\n",
    "# Print p-values\n",
    "print(p_values)"
   ]
  },
  {
   "cell_type": "code",
   "execution_count": 46,
   "id": "be679628-5d47-43b1-835e-1973b1e3b311",
   "metadata": {},
   "outputs": [
    {
     "name": "stdout",
     "output_type": "stream",
     "text": [
      "                                   Coefficient        P-value\n",
      "const                                -4.028275            NaN\n",
      "Age                                  -0.006400   2.468756e-15\n",
      "Flight Distance                       0.000016   2.010721e-01\n",
      "Inflight wifi service                 0.819227   0.000000e+00\n",
      "Departure/Arrival time convenient    -0.275765  1.983921e-113\n",
      "Ease of Online booking                0.203183   2.859481e-44\n",
      "Gate location                        -0.190227   4.990280e-61\n",
      "Food and drink                       -0.042067   5.742104e-04\n",
      "Online boarding                       0.919392   0.000000e+00\n",
      "Seat comfort                          0.005117   6.922431e-01\n",
      "Inflight entertainment                0.049706   2.354704e-03\n",
      "On-board service                      0.321156  3.662942e-164\n",
      "Leg room service                      0.279309  7.387696e-172\n",
      "Baggage handling                      0.125280   7.058730e-22\n",
      "Checkin service                       0.334701  3.928446e-258\n",
      "Inflight service                      0.140302   2.299663e-24\n",
      "Cleanliness                           0.228918   1.872833e-63\n",
      "Departure Delay in Minutes            0.004411   3.090325e-05\n",
      "Arrival Delay in Minutes             -0.009152   2.797070e-18\n",
      "Gender_Female                        -2.034510   9.999976e-01\n",
      "Gender_Male                          -1.993768   9.999976e-01\n",
      "Customer Type_Loyal Customer         -0.829622   9.999988e-01\n",
      "Customer Type_disloyal Customer      -3.198655   9.999953e-01\n",
      "Type of Travel_Business travel       -0.514688            NaN\n",
      "Type of Travel_Personal Travel       -3.513587            NaN\n",
      "Class_Business                       -0.697413   9.999971e-01\n",
      "Class_Eco                            -1.568497   9.999935e-01\n",
      "Class_Eco Plus                       -1.762366   9.999927e-01\n"
     ]
    }
   ],
   "source": [
    "# Combine coefficients and p-values into a DataFrame\n",
    "coefficients = result.params\n",
    "p_values = result.pvalues\n",
    "coefficients_table = pd.DataFrame({'Coefficient': coefficients, 'P-value': p_values})\n",
    "\n",
    "# Print the coefficients and p-values table\n",
    "print(coefficients_table)"
   ]
  },
  {
   "cell_type": "code",
   "execution_count": 52,
   "id": "0e159477-f769-4bfb-a9eb-5c11ebc04a9e",
   "metadata": {},
   "outputs": [
    {
     "name": "stdout",
     "output_type": "stream",
     "text": [
      "Optimization terminated successfully.\n",
      "         Current function value: 0.328574\n",
      "         Iterations 7\n",
      "const                              0.000000e+00\n",
      "Age                                8.561223e-34\n",
      "Flight Distance                    1.370450e-78\n",
      "Inflight wifi service              0.000000e+00\n",
      "Online boarding                    0.000000e+00\n",
      "Seat comfort                       5.441127e-11\n",
      "Inflight entertainment             0.000000e+00\n",
      "Type of Travel_Personal Travel     0.000000e+00\n",
      "Class_Business                    2.232245e-204\n",
      "Class_Eco                          6.010006e-04\n",
      "dtype: float64\n"
     ]
    }
   ],
   "source": [
    "\n",
    "# Step 4: Split the dataset into training and testing sets\n",
    "X = flight_data.drop(['satisfaction_v2', 'Departure/Arrival time convenient', 'Ease of Online booking', 'Gate location', 'Food and drink', 'On-board service', 'Leg room service', 'Baggage handling', 'Checkin service', 'Inflight service', 'Cleanliness', 'Departure Delay in Minutes', 'Arrival Delay in Minutes', 'Gender_Female', 'Gender_Male', 'Customer Type_Loyal Customer', 'Customer Type_disloyal Customer', 'Type of Travel_Business travel', 'Class_Eco Plus' ], axis=1) # Features\n",
    "y = flight_data['satisfaction_v2'] # Target variable\n",
    "X_train, X_test, y_train, y_test = train_test_split(X, y, random_state=42) # Specify a fixed random state\n",
    "\n",
    "# Step 5: Create a logistic regression model using statsmodels\n",
    "X_train_sm = sm.add_constant(X_train) # Add constant term for intercept\n",
    "logit_model = sm.Logit(y_train, X_train_sm)\n",
    "result = logit_model.fit()\n",
    "\n",
    "# Get summary of the model\n",
    "summary = result.summary()\n",
    "\n",
    "# Extract p-values from the summary\n",
    "p_values = result.pvalues\n",
    "\n",
    "# Print p-values\n",
    "print(p_values)"
   ]
  },
  {
   "cell_type": "code",
   "execution_count": 53,
   "id": "0d98a16c-681a-48e7-8603-27fa0729d6ad",
   "metadata": {},
   "outputs": [
    {
     "name": "stdout",
     "output_type": "stream",
     "text": [
      "                                Coefficient        P-value\n",
      "const                             -8.339407   0.000000e+00\n",
      "Age                                0.008538   8.561223e-34\n",
      "Flight Distance                    0.000207   1.370450e-78\n",
      "Inflight wifi service              0.634292   0.000000e+00\n",
      "Online boarding                    1.051057   0.000000e+00\n",
      "Seat comfort                      -0.068277   5.441127e-11\n",
      "Inflight entertainment             0.576500   0.000000e+00\n",
      "Type of Travel_Personal Travel    -1.813904   0.000000e+00\n",
      "Class_Business                     1.327228  2.232245e-204\n",
      "Class_Eco                         -0.144979   6.010006e-04\n"
     ]
    }
   ],
   "source": [
    "# Combine coefficients and p-values into a DataFrame\n",
    "coefficients = result.params\n",
    "p_values = result.pvalues\n",
    "coefficients_table = pd.DataFrame({'Coefficient': coefficients, 'P-value': p_values})\n",
    "\n",
    "# Print the coefficients and p-values table\n",
    "print(coefficients_table)"
   ]
  }
 ],
 "metadata": {
  "kernelspec": {
   "display_name": "Python 3 (ipykernel)",
   "language": "python",
   "name": "python3"
  },
  "language_info": {
   "codemirror_mode": {
    "name": "ipython",
    "version": 3
   },
   "file_extension": ".py",
   "mimetype": "text/x-python",
   "name": "python",
   "nbconvert_exporter": "python",
   "pygments_lexer": "ipython3",
   "version": "3.12.0"
  }
 },
 "nbformat": 4,
 "nbformat_minor": 5
}
