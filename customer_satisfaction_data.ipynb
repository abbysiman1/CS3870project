{
 "cells": [
  {
   "cell_type": "code",
   "execution_count": 1,
   "id": "4536a716",
   "metadata": {},
   "outputs": [],
   "source": [
    "import numpy as np\n",
    "import pandas as pd\n",
    "\n",
    "import matplotlib.pyplot as plt\n",
    "\n",
    "import seaborn as sns\n"
   ]
  },
  {
   "cell_type": "code",
   "execution_count": 2,
   "id": "24ff1dd4",
   "metadata": {},
   "outputs": [],
   "source": [
    "flight_data  = pd.read_csv('satisfaction_2015.csv')"
   ]
  },
  {
   "cell_type": "code",
   "execution_count": 3,
   "id": "a25774e1",
   "metadata": {},
   "outputs": [
    {
     "data": {
      "text/html": [
       "<div>\n",
       "<style scoped>\n",
       "    .dataframe tbody tr th:only-of-type {\n",
       "        vertical-align: middle;\n",
       "    }\n",
       "\n",
       "    .dataframe tbody tr th {\n",
       "        vertical-align: top;\n",
       "    }\n",
       "\n",
       "    .dataframe thead th {\n",
       "        text-align: right;\n",
       "    }\n",
       "</style>\n",
       "<table border=\"1\" class=\"dataframe\">\n",
       "  <thead>\n",
       "    <tr style=\"text-align: right;\">\n",
       "      <th></th>\n",
       "      <th>id</th>\n",
       "      <th>satisfaction_v2</th>\n",
       "      <th>Gender</th>\n",
       "      <th>Customer Type</th>\n",
       "      <th>Age</th>\n",
       "      <th>Type of Travel</th>\n",
       "      <th>Class</th>\n",
       "      <th>Flight Distance</th>\n",
       "      <th>Inflight wifi service</th>\n",
       "      <th>Departure/Arrival time convenient</th>\n",
       "      <th>...</th>\n",
       "      <th>Seat comfort</th>\n",
       "      <th>Inflight entertainment</th>\n",
       "      <th>On-board service</th>\n",
       "      <th>Leg room service</th>\n",
       "      <th>Baggage handling</th>\n",
       "      <th>Checkin service</th>\n",
       "      <th>Inflight service</th>\n",
       "      <th>Cleanliness</th>\n",
       "      <th>Departure Delay in Minutes</th>\n",
       "      <th>Arrival Delay in Minutes</th>\n",
       "    </tr>\n",
       "  </thead>\n",
       "  <tbody>\n",
       "    <tr>\n",
       "      <th>0</th>\n",
       "      <td>117135</td>\n",
       "      <td>satisfied</td>\n",
       "      <td>Male</td>\n",
       "      <td>disloyal Customer</td>\n",
       "      <td>56</td>\n",
       "      <td>Personal Travel</td>\n",
       "      <td>Eco</td>\n",
       "      <td>369</td>\n",
       "      <td>0</td>\n",
       "      <td>2</td>\n",
       "      <td>...</td>\n",
       "      <td>3</td>\n",
       "      <td>3</td>\n",
       "      <td>1</td>\n",
       "      <td>5</td>\n",
       "      <td>3</td>\n",
       "      <td>3</td>\n",
       "      <td>4</td>\n",
       "      <td>3</td>\n",
       "      <td>0</td>\n",
       "      <td>0.0</td>\n",
       "    </tr>\n",
       "    <tr>\n",
       "      <th>1</th>\n",
       "      <td>72091</td>\n",
       "      <td>satisfied</td>\n",
       "      <td>Male</td>\n",
       "      <td>disloyal Customer</td>\n",
       "      <td>49</td>\n",
       "      <td>Personal Travel</td>\n",
       "      <td>Eco</td>\n",
       "      <td>2486</td>\n",
       "      <td>0</td>\n",
       "      <td>2</td>\n",
       "      <td>...</td>\n",
       "      <td>3</td>\n",
       "      <td>2</td>\n",
       "      <td>1</td>\n",
       "      <td>1</td>\n",
       "      <td>4</td>\n",
       "      <td>4</td>\n",
       "      <td>3</td>\n",
       "      <td>2</td>\n",
       "      <td>0</td>\n",
       "      <td>0.0</td>\n",
       "    </tr>\n",
       "    <tr>\n",
       "      <th>2</th>\n",
       "      <td>29663</td>\n",
       "      <td>satisfied</td>\n",
       "      <td>Male</td>\n",
       "      <td>disloyal Customer</td>\n",
       "      <td>55</td>\n",
       "      <td>Personal Travel</td>\n",
       "      <td>Eco</td>\n",
       "      <td>1448</td>\n",
       "      <td>0</td>\n",
       "      <td>3</td>\n",
       "      <td>...</td>\n",
       "      <td>3</td>\n",
       "      <td>3</td>\n",
       "      <td>3</td>\n",
       "      <td>5</td>\n",
       "      <td>3</td>\n",
       "      <td>2</td>\n",
       "      <td>3</td>\n",
       "      <td>3</td>\n",
       "      <td>0</td>\n",
       "      <td>0.0</td>\n",
       "    </tr>\n",
       "    <tr>\n",
       "      <th>3</th>\n",
       "      <td>81849</td>\n",
       "      <td>satisfied</td>\n",
       "      <td>Female</td>\n",
       "      <td>disloyal Customer</td>\n",
       "      <td>36</td>\n",
       "      <td>Personal Travel</td>\n",
       "      <td>Eco</td>\n",
       "      <td>1501</td>\n",
       "      <td>0</td>\n",
       "      <td>4</td>\n",
       "      <td>...</td>\n",
       "      <td>4</td>\n",
       "      <td>4</td>\n",
       "      <td>5</td>\n",
       "      <td>4</td>\n",
       "      <td>5</td>\n",
       "      <td>5</td>\n",
       "      <td>5</td>\n",
       "      <td>4</td>\n",
       "      <td>0</td>\n",
       "      <td>0.0</td>\n",
       "    </tr>\n",
       "    <tr>\n",
       "      <th>4</th>\n",
       "      <td>83693</td>\n",
       "      <td>satisfied</td>\n",
       "      <td>Male</td>\n",
       "      <td>disloyal Customer</td>\n",
       "      <td>55</td>\n",
       "      <td>Personal Travel</td>\n",
       "      <td>Eco</td>\n",
       "      <td>577</td>\n",
       "      <td>0</td>\n",
       "      <td>5</td>\n",
       "      <td>...</td>\n",
       "      <td>3</td>\n",
       "      <td>3</td>\n",
       "      <td>3</td>\n",
       "      <td>4</td>\n",
       "      <td>5</td>\n",
       "      <td>3</td>\n",
       "      <td>4</td>\n",
       "      <td>3</td>\n",
       "      <td>0</td>\n",
       "      <td>0.0</td>\n",
       "    </tr>\n",
       "  </tbody>\n",
       "</table>\n",
       "<p>5 rows × 24 columns</p>\n",
       "</div>"
      ],
      "text/plain": [
       "       id satisfaction_v2  Gender      Customer Type  Age   Type of Travel  \\\n",
       "0  117135       satisfied    Male  disloyal Customer   56  Personal Travel   \n",
       "1   72091       satisfied    Male  disloyal Customer   49  Personal Travel   \n",
       "2   29663       satisfied    Male  disloyal Customer   55  Personal Travel   \n",
       "3   81849       satisfied  Female  disloyal Customer   36  Personal Travel   \n",
       "4   83693       satisfied    Male  disloyal Customer   55  Personal Travel   \n",
       "\n",
       "  Class  Flight Distance  Inflight wifi service  \\\n",
       "0   Eco              369                      0   \n",
       "1   Eco             2486                      0   \n",
       "2   Eco             1448                      0   \n",
       "3   Eco             1501                      0   \n",
       "4   Eco              577                      0   \n",
       "\n",
       "   Departure/Arrival time convenient  ...  Seat comfort  \\\n",
       "0                                  2  ...             3   \n",
       "1                                  2  ...             3   \n",
       "2                                  3  ...             3   \n",
       "3                                  4  ...             4   \n",
       "4                                  5  ...             3   \n",
       "\n",
       "   Inflight entertainment  On-board service  Leg room service  \\\n",
       "0                       3                 1                 5   \n",
       "1                       2                 1                 1   \n",
       "2                       3                 3                 5   \n",
       "3                       4                 5                 4   \n",
       "4                       3                 3                 4   \n",
       "\n",
       "   Baggage handling  Checkin service  Inflight service  Cleanliness  \\\n",
       "0                 3                3                 4            3   \n",
       "1                 4                4                 3            2   \n",
       "2                 3                2                 3            3   \n",
       "3                 5                5                 5            4   \n",
       "4                 5                3                 4            3   \n",
       "\n",
       "   Departure Delay in Minutes  Arrival Delay in Minutes  \n",
       "0                           0                       0.0  \n",
       "1                           0                       0.0  \n",
       "2                           0                       0.0  \n",
       "3                           0                       0.0  \n",
       "4                           0                       0.0  \n",
       "\n",
       "[5 rows x 24 columns]"
      ]
     },
     "execution_count": 3,
     "metadata": {},
     "output_type": "execute_result"
    }
   ],
   "source": [
    "flight_data.head()"
   ]
  },
  {
   "cell_type": "code",
   "execution_count": 4,
   "id": "18ded554",
   "metadata": {},
   "outputs": [
    {
     "data": {
      "text/plain": [
       "(129880, 24)"
      ]
     },
     "execution_count": 4,
     "metadata": {},
     "output_type": "execute_result"
    }
   ],
   "source": [
    "flight_data.shape"
   ]
  },
  {
   "cell_type": "code",
   "execution_count": 5,
   "id": "5deb5253",
   "metadata": {},
   "outputs": [
    {
     "data": {
      "text/plain": [
       "count    129880.000000\n",
       "mean       1190.316392\n",
       "std         997.452477\n",
       "min          31.000000\n",
       "25%         414.000000\n",
       "50%         844.000000\n",
       "75%        1744.000000\n",
       "max        4983.000000\n",
       "Name: Flight Distance, dtype: float64"
      ]
     },
     "execution_count": 5,
     "metadata": {},
     "output_type": "execute_result"
    }
   ],
   "source": [
    "# checking columns for n/a's\n",
    "flight_data[\"satisfaction_v2\"].value_counts(dropna = False)\n",
    "flight_data[\"Gender\"].value_counts(dropna = False)\n",
    "flight_data[\"Customer Type\"].value_counts(dropna = False)\n",
    "flight_data[\"Age\"].describe(include = 'all')\n",
    "flight_data[\"Type of Travel\"].value_counts(dropna = False)\n",
    "flight_data[\"Class\"].value_counts(dropna = False)\n",
    "\n",
    "# looking at statistics of flight distance\n",
    "flight_data[\"Flight Distance\"].describe(include = 'all')"
   ]
  },
  {
   "cell_type": "code",
   "execution_count": 6,
   "id": "18799e35",
   "metadata": {},
   "outputs": [
    {
     "name": "stdout",
     "output_type": "stream",
     "text": [
      "<class 'pandas.core.frame.DataFrame'>\n",
      "RangeIndex: 129880 entries, 0 to 129879\n",
      "Data columns (total 24 columns):\n",
      " #   Column                             Non-Null Count   Dtype  \n",
      "---  ------                             --------------   -----  \n",
      " 0   id                                 129880 non-null  int64  \n",
      " 1   satisfaction_v2                    129880 non-null  object \n",
      " 2   Gender                             129880 non-null  object \n",
      " 3   Customer Type                      129880 non-null  object \n",
      " 4   Age                                129880 non-null  int64  \n",
      " 5   Type of Travel                     129880 non-null  object \n",
      " 6   Class                              129880 non-null  object \n",
      " 7   Flight Distance                    129880 non-null  int64  \n",
      " 8   Inflight wifi service              129880 non-null  int64  \n",
      " 9   Departure/Arrival time convenient  129880 non-null  int64  \n",
      " 10  Ease of Online booking             129880 non-null  int64  \n",
      " 11  Gate location                      129880 non-null  int64  \n",
      " 12  Food and drink                     129880 non-null  int64  \n",
      " 13  Online boarding                    129880 non-null  int64  \n",
      " 14  Seat comfort                       129880 non-null  int64  \n",
      " 15  Inflight entertainment             129880 non-null  int64  \n",
      " 16  On-board service                   129880 non-null  int64  \n",
      " 17  Leg room service                   129880 non-null  int64  \n",
      " 18  Baggage handling                   129880 non-null  int64  \n",
      " 19  Checkin service                    129880 non-null  int64  \n",
      " 20  Inflight service                   129880 non-null  int64  \n",
      " 21  Cleanliness                        129880 non-null  int64  \n",
      " 22  Departure Delay in Minutes         129880 non-null  int64  \n",
      " 23  Arrival Delay in Minutes           129487 non-null  float64\n",
      "dtypes: float64(1), int64(18), object(5)\n",
      "memory usage: 23.8+ MB\n"
     ]
    }
   ],
   "source": [
    "flight_data.info()"
   ]
  },
  {
   "cell_type": "code",
   "execution_count": 7,
   "id": "4478277d",
   "metadata": {},
   "outputs": [
    {
     "data": {
      "text/plain": [
       "satisfaction_v2\n",
       "0    73452\n",
       "1    56428\n",
       "Name: count, dtype: int64"
      ]
     },
     "execution_count": 7,
     "metadata": {},
     "output_type": "execute_result"
    }
   ],
   "source": [
    "# Checking for N/As\n",
    "flight_data['satisfaction_v2'] = flight_data['satisfaction_v2'].replace({'satisfied': 1, 'neutral or dissatisfied': 0})\n",
    "\n",
    "flight_data[\"satisfaction_v2\"].value_counts(dropna = False)"
   ]
  },
  {
   "cell_type": "code",
   "execution_count": 8,
   "id": "6188284c",
   "metadata": {},
   "outputs": [
    {
     "data": {
      "text/plain": [
       "Gender\n",
       "Female    65899\n",
       "Male      63981\n",
       "Name: count, dtype: int64"
      ]
     },
     "execution_count": 8,
     "metadata": {},
     "output_type": "execute_result"
    }
   ],
   "source": [
    "flight_data[\"Gender\"].value_counts(dropna = False)"
   ]
  },
  {
   "cell_type": "code",
   "execution_count": 9,
   "id": "d4c95709",
   "metadata": {},
   "outputs": [
    {
     "data": {
      "text/plain": [
       "Customer Type\n",
       "Loyal Customer       106100\n",
       "disloyal Customer     23780\n",
       "Name: count, dtype: int64"
      ]
     },
     "execution_count": 9,
     "metadata": {},
     "output_type": "execute_result"
    }
   ],
   "source": [
    "flight_data[\"Customer Type\"].value_counts(dropna = False)"
   ]
  },
  {
   "cell_type": "code",
   "execution_count": 10,
   "id": "8ea2ca24",
   "metadata": {},
   "outputs": [
    {
     "data": {
      "text/plain": [
       "count    129880.000000\n",
       "mean         39.427957\n",
       "std          15.119360\n",
       "min           7.000000\n",
       "25%          27.000000\n",
       "50%          40.000000\n",
       "75%          51.000000\n",
       "max          85.000000\n",
       "Name: Age, dtype: float64"
      ]
     },
     "execution_count": 10,
     "metadata": {},
     "output_type": "execute_result"
    }
   ],
   "source": [
    "flight_data[\"Age\"].describe(include = 'all')"
   ]
  },
  {
   "cell_type": "code",
   "execution_count": 11,
   "id": "78c23c1a",
   "metadata": {},
   "outputs": [
    {
     "data": {
      "text/plain": [
       "Type of Travel\n",
       "Business travel    89693\n",
       "Personal Travel    40187\n",
       "Name: count, dtype: int64"
      ]
     },
     "execution_count": 11,
     "metadata": {},
     "output_type": "execute_result"
    }
   ],
   "source": [
    "flight_data[\"Type of Travel\"].value_counts(dropna = False)"
   ]
  },
  {
   "cell_type": "code",
   "execution_count": 12,
   "id": "2a965fd3",
   "metadata": {},
   "outputs": [
    {
     "data": {
      "text/plain": [
       "count    129880.000000\n",
       "mean       1190.316392\n",
       "std         997.452477\n",
       "min          31.000000\n",
       "25%         414.000000\n",
       "50%         844.000000\n",
       "75%        1744.000000\n",
       "max        4983.000000\n",
       "Name: Flight Distance, dtype: float64"
      ]
     },
     "execution_count": 12,
     "metadata": {},
     "output_type": "execute_result"
    }
   ],
   "source": [
    "# looking at statistics of flight distance\n",
    "flight_data[\"Flight Distance\"].describe(include = 'all')"
   ]
  },
  {
   "cell_type": "code",
   "execution_count": 13,
   "id": "7e15cca4",
   "metadata": {},
   "outputs": [
    {
     "data": {
      "text/plain": [
       "Inflight wifi service\n",
       "3    36101\n",
       "2    32320\n",
       "4    24775\n",
       "1    22328\n",
       "5    14356\n",
       "Name: count, dtype: int64"
      ]
     },
     "execution_count": 13,
     "metadata": {},
     "output_type": "execute_result"
    }
   ],
   "source": [
    "flight_data['Inflight wifi service'] = flight_data['Inflight wifi service'].replace(0, pd.NA)\n",
    "median_value = flight_data['Inflight wifi service'].median()\n",
    "median_value = int(median_value)\n",
    "flight_data['Inflight wifi service'] = flight_data['Inflight wifi service'].fillna(median_value)\n",
    "flight_data[\"Inflight wifi service\"].value_counts(dropna = False)"
   ]
  },
  {
   "cell_type": "code",
   "execution_count": 14,
   "id": "1576cdb1",
   "metadata": {},
   "outputs": [
    {
     "data": {
      "text/plain": [
       "Departure/Arrival time convenient\n",
       "4    31880\n",
       "3    29059\n",
       "5    27998\n",
       "2    21534\n",
       "1    19409\n",
       "Name: count, dtype: int64"
      ]
     },
     "execution_count": 14,
     "metadata": {},
     "output_type": "execute_result"
    }
   ],
   "source": [
    "flight_data['Departure/Arrival time convenient'] = flight_data['Departure/Arrival time convenient'].replace(0, pd.NA)\n",
    "median_value = flight_data['Departure/Arrival time convenient'].median()\n",
    "median_value = int(median_value)\n",
    "flight_data['Departure/Arrival time convenient'] = flight_data['Departure/Arrival time convenient'].fillna(median_value)\n",
    "flight_data[\"Departure/Arrival time convenient\"].value_counts(dropna = False)"
   ]
  },
  {
   "cell_type": "code",
   "execution_count": 15,
   "id": "9c7f8684",
   "metadata": {},
   "outputs": [
    {
     "data": {
      "text/plain": [
       "Ease of Online booking\n",
       "3    36075\n",
       "2    30051\n",
       "4    24444\n",
       "1    21886\n",
       "5    17424\n",
       "Name: count, dtype: int64"
      ]
     },
     "execution_count": 15,
     "metadata": {},
     "output_type": "execute_result"
    }
   ],
   "source": [
    "flight_data['Ease of Online booking'] = flight_data['Ease of Online booking'].replace(0, pd.NA)\n",
    "median_value = flight_data['Ease of Online booking'].median()\n",
    "median_value = int(median_value)\n",
    "flight_data['Ease of Online booking'] = flight_data['Ease of Online booking'].fillna(median_value)\n",
    "flight_data[\"Ease of Online booking\"].value_counts(dropna = False)"
   ]
  },
  {
   "cell_type": "code",
   "execution_count": 16,
   "id": "756c6b02",
   "metadata": {},
   "outputs": [
    {
     "data": {
      "text/plain": [
       "Gate location\n",
       "3    35718\n",
       "4    30466\n",
       "2    24296\n",
       "1    21991\n",
       "5    17409\n",
       "Name: count, dtype: int64"
      ]
     },
     "execution_count": 16,
     "metadata": {},
     "output_type": "execute_result"
    }
   ],
   "source": [
    "flight_data['Gate location'] = flight_data['Gate location'].replace(0, pd.NA)\n",
    "median_value = flight_data['Gate location'].median()\n",
    "median_value = int(median_value)\n",
    "flight_data['Gate location'] = flight_data['Gate location'].fillna(median_value)\n",
    "flight_data[\"Gate location\"].value_counts(dropna = False)"
   ]
  },
  {
   "cell_type": "code",
   "execution_count": 17,
   "id": "17128a54",
   "metadata": {},
   "outputs": [
    {
     "data": {
      "text/plain": [
       "Food and drink\n",
       "4    30563\n",
       "5    27957\n",
       "3    27926\n",
       "2    27383\n",
       "1    16051\n",
       "Name: count, dtype: int64"
      ]
     },
     "execution_count": 17,
     "metadata": {},
     "output_type": "execute_result"
    }
   ],
   "source": [
    "flight_data['Food and drink'] = flight_data['Food and drink'].replace(0, pd.NA)\n",
    "median_value = flight_data['Food and drink'].median()\n",
    "median_value = int(median_value)\n",
    "flight_data['Food and drink'] = flight_data['Food and drink'].fillna(median_value)\n",
    "flight_data[\"Food and drink\"].value_counts(dropna = False)"
   ]
  },
  {
   "cell_type": "code",
   "execution_count": 18,
   "id": "0c3dbd0c",
   "metadata": {},
   "outputs": [
    {
     "data": {
      "text/plain": [
       "Online boarding\n",
       "4    41548\n",
       "3    27117\n",
       "5    26020\n",
       "2    21934\n",
       "1    13261\n",
       "Name: count, dtype: int64"
      ]
     },
     "execution_count": 18,
     "metadata": {},
     "output_type": "execute_result"
    }
   ],
   "source": [
    "flight_data['Online boarding'] = flight_data['Online boarding'].replace(0, pd.NA)\n",
    "median_value = flight_data['Online boarding'].median()\n",
    "median_value = int(median_value)\n",
    "flight_data['Online boarding'] = flight_data['Online boarding'].fillna(median_value)\n",
    "flight_data[\"Online boarding\"].value_counts(dropna = False)"
   ]
  },
  {
   "cell_type": "code",
   "execution_count": 19,
   "id": "1781d2a7",
   "metadata": {},
   "outputs": [
    {
     "data": {
      "text/plain": [
       "Seat comfort\n",
       "4    39757\n",
       "5    33158\n",
       "3    23328\n",
       "2    18529\n",
       "1    15108\n",
       "Name: count, dtype: int64"
      ]
     },
     "execution_count": 19,
     "metadata": {},
     "output_type": "execute_result"
    }
   ],
   "source": [
    "flight_data['Seat comfort'] = flight_data['Seat comfort'].replace(0, pd.NA)\n",
    "median_value = flight_data['Seat comfort'].median()\n",
    "median_value = int(median_value)\n",
    "flight_data['Seat comfort'] = flight_data['Seat comfort'].fillna(median_value)\n",
    "flight_data[\"Seat comfort\"].value_counts(dropna = False)"
   ]
  },
  {
   "cell_type": "code",
   "execution_count": 20,
   "id": "55832aa5",
   "metadata": {},
   "outputs": [
    {
     "data": {
      "text/plain": [
       "Inflight entertainment\n",
       "4    36809\n",
       "5    31544\n",
       "3    23884\n",
       "2    21968\n",
       "1    15675\n",
       "Name: count, dtype: int64"
      ]
     },
     "execution_count": 20,
     "metadata": {},
     "output_type": "execute_result"
    }
   ],
   "source": [
    "flight_data['Inflight entertainment'] = flight_data['Inflight entertainment'].replace(0, pd.NA)\n",
    "median_value = flight_data['Inflight entertainment'].median()\n",
    "median_value = int(median_value)\n",
    "flight_data['Inflight entertainment'] = flight_data['Inflight entertainment'].fillna(median_value)\n",
    "flight_data[\"Inflight entertainment\"].value_counts(dropna = False)"
   ]
  },
  {
   "cell_type": "code",
   "execution_count": 21,
   "id": "c3a27c9f",
   "metadata": {},
   "outputs": [
    {
     "data": {
      "text/plain": [
       "On-board service\n",
       "4    38708\n",
       "5    29492\n",
       "3    28542\n",
       "2    18351\n",
       "1    14787\n",
       "Name: count, dtype: int64"
      ]
     },
     "execution_count": 21,
     "metadata": {},
     "output_type": "execute_result"
    }
   ],
   "source": [
    "flight_data['On-board service'] = flight_data['On-board service'].replace(0, pd.NA)\n",
    "median_value = flight_data['On-board service'].median()\n",
    "median_value = int(median_value)\n",
    "flight_data['On-board service'] = flight_data['On-board service'].fillna(median_value)\n",
    "flight_data[\"On-board service\"].value_counts(dropna = False)"
   ]
  },
  {
   "cell_type": "code",
   "execution_count": 22,
   "id": "764681ec",
   "metadata": {},
   "outputs": [
    {
     "data": {
      "text/plain": [
       "Leg room service\n",
       "4    36484\n",
       "5    30905\n",
       "3    25056\n",
       "2    24540\n",
       "1    12895\n",
       "Name: count, dtype: int64"
      ]
     },
     "execution_count": 22,
     "metadata": {},
     "output_type": "execute_result"
    }
   ],
   "source": [
    "flight_data['Leg room service'] = flight_data['Leg room service'].replace(0, pd.NA)\n",
    "median_value = flight_data['Leg room service'].median()\n",
    "median_value = int(median_value)\n",
    "flight_data['Leg room service'] = flight_data['Leg room service'].fillna(median_value)\n",
    "flight_data[\"Leg room service\"].value_counts(dropna = False)"
   ]
  },
  {
   "cell_type": "code",
   "execution_count": 23,
   "id": "dc9afbbd",
   "metadata": {},
   "outputs": [
    {
     "data": {
      "text/plain": [
       "Baggage handling\n",
       "4    46761\n",
       "5    33878\n",
       "3    25851\n",
       "2    14362\n",
       "1     9028\n",
       "Name: count, dtype: int64"
      ]
     },
     "execution_count": 23,
     "metadata": {},
     "output_type": "execute_result"
    }
   ],
   "source": [
    "flight_data['Baggage handling'] = flight_data['Baggage handling'].replace(0, pd.NA)\n",
    "median_value = flight_data['Baggage handling'].median()\n",
    "median_value = int(median_value)\n",
    "flight_data['Baggage handling'] = flight_data['Baggage handling'].fillna(median_value)\n",
    "flight_data[\"Baggage handling\"].value_counts(dropna = False)"
   ]
  },
  {
   "cell_type": "code",
   "execution_count": 24,
   "id": "ae389d45",
   "metadata": {},
   "outputs": [
    {
     "data": {
      "text/plain": [
       "Checkin service\n",
       "4    36333\n",
       "3    35454\n",
       "5    25883\n",
       "1    16108\n",
       "2    16102\n",
       "Name: count, dtype: int64"
      ]
     },
     "execution_count": 24,
     "metadata": {},
     "output_type": "execute_result"
    }
   ],
   "source": [
    "flight_data['Checkin service'] = flight_data['Checkin service'].replace(0, pd.NA)\n",
    "median_value = flight_data['Checkin service'].median()\n",
    "median_value = int(median_value)\n",
    "flight_data['Checkin service'] = flight_data['Checkin service'].fillna(median_value)\n",
    "flight_data[\"Checkin service\"].value_counts(dropna = False)\n"
   ]
  },
  {
   "cell_type": "code",
   "execution_count": 25,
   "id": "c3906f73",
   "metadata": {},
   "outputs": [
    {
     "data": {
      "text/plain": [
       "Inflight service\n",
       "4    47328\n",
       "5    34066\n",
       "3    25316\n",
       "2    14308\n",
       "1     8862\n",
       "Name: count, dtype: int64"
      ]
     },
     "execution_count": 25,
     "metadata": {},
     "output_type": "execute_result"
    }
   ],
   "source": [
    "flight_data['Inflight service'] = flight_data['Inflight service'].replace(0, pd.NA)\n",
    "median_value = flight_data['Inflight service'].median()\n",
    "median_value = int(median_value)\n",
    "flight_data['Inflight service'] = flight_data['Inflight service'].fillna(median_value)\n",
    "flight_data[\"Inflight service\"].value_counts(dropna = False)"
   ]
  },
  {
   "cell_type": "code",
   "execution_count": 26,
   "id": "2c42856b",
   "metadata": {},
   "outputs": [
    {
     "data": {
      "text/plain": [
       "Cleanliness\n",
       "4    33969\n",
       "3    30653\n",
       "5    28416\n",
       "2    20113\n",
       "1    16729\n",
       "Name: count, dtype: int64"
      ]
     },
     "execution_count": 26,
     "metadata": {},
     "output_type": "execute_result"
    }
   ],
   "source": [
    "flight_data['Cleanliness'] = flight_data['Cleanliness'].replace(0, pd.NA)\n",
    "median_value = flight_data['Cleanliness'].median()\n",
    "median_value = int(median_value)\n",
    "flight_data['Cleanliness'] = flight_data['Cleanliness'].fillna(median_value)\n",
    "flight_data[\"Cleanliness\"].value_counts(dropna = False)"
   ]
  },
  {
   "cell_type": "code",
   "execution_count": 27,
   "id": "8ed73397",
   "metadata": {},
   "outputs": [
    {
     "name": "stdout",
     "output_type": "stream",
     "text": [
      "Missing values in the DataFrame:\n",
      "id                                   0\n",
      "satisfaction_v2                      0\n",
      "Age                                  0\n",
      "Flight Distance                      0\n",
      "Inflight wifi service                0\n",
      "Departure/Arrival time convenient    0\n",
      "Ease of Online booking               0\n",
      "Gate location                        0\n",
      "Food and drink                       0\n",
      "Online boarding                      0\n",
      "Seat comfort                         0\n",
      "Inflight entertainment               0\n",
      "On-board service                     0\n",
      "Leg room service                     0\n",
      "Baggage handling                     0\n",
      "Checkin service                      0\n",
      "Inflight service                     0\n",
      "Cleanliness                          0\n",
      "Departure Delay in Minutes           0\n",
      "Arrival Delay in Minutes             0\n",
      "Gender_Female                        0\n",
      "Gender_Male                          0\n",
      "Customer Type_Loyal Customer         0\n",
      "Customer Type_disloyal Customer      0\n",
      "Type of Travel_Business travel       0\n",
      "Type of Travel_Personal Travel       0\n",
      "Class_Business                       0\n",
      "Class_Eco                            0\n",
      "Class_Eco Plus                       0\n",
      "dtype: int64\n"
     ]
    }
   ],
   "source": [
    "\n",
    "\n",
    "\n",
    "flight_data[\"Departure Delay in Minutes\"].describe(include = 'all')\n",
    "\n",
    "median_value = flight_data['Arrival Delay in Minutes'].median()\n",
    "median_value = int(median_value)\n",
    "flight_data['Arrival Delay in Minutes'] = flight_data['Arrival Delay in Minutes'].fillna(median_value)\n",
    "flight_data[\"Arrival Delay in Minutes\"].describe(include = 'all')\n",
    "\n",
    "flight_data = pd.get_dummies(flight_data, columns=['Gender'])\n",
    "flight_data = pd.get_dummies(flight_data, columns=['Customer Type'])\n",
    "flight_data = pd.get_dummies(flight_data, columns=['Type of Travel'])\n",
    "flight_data = pd.get_dummies(flight_data, columns=['Class'])\n",
    "missing_values = flight_data.isna().sum()\n",
    "\n",
    "print(\"Missing values in the DataFrame:\")\n",
    "print(missing_values)\n",
    "\n",
    "# Drop id\n",
    "# Drop a column (e.g., column 'B')\n",
    "flight_data = flight_data.drop(columns=['id'])\n",
    "flight_data['Gender_Female'] = flight_data['Gender_Female'].astype(int)\n",
    "flight_data['Gender_Male'] = flight_data['Gender_Male'].astype(int)\n",
    "flight_data['Customer Type_Loyal Customer'] = flight_data['Customer Type_Loyal Customer'].astype(int)\n",
    "flight_data['Customer Type_disloyal Customer'] = flight_data['Customer Type_disloyal Customer'].astype(int)\n",
    "flight_data['Type of Travel_Business travel'] = flight_data['Type of Travel_Business travel'].astype(int)\n",
    "flight_data['Type of Travel_Personal Travel'] = flight_data['Type of Travel_Personal Travel'].astype(int)\n",
    "flight_data['Class_Business'] = flight_data['Class_Business'].astype(int)\n",
    "flight_data['Class_Eco'] = flight_data['Class_Eco'].astype(int)\n",
    "flight_data['Class_Eco Plus'] = flight_data['Class_Eco Plus'].astype(int)"
   ]
  },
  {
   "cell_type": "code",
   "execution_count": 35,
   "id": "ba245f26",
   "metadata": {},
   "outputs": [
    {
     "data": {
      "text/html": [
       "<div>\n",
       "<style scoped>\n",
       "    .dataframe tbody tr th:only-of-type {\n",
       "        vertical-align: middle;\n",
       "    }\n",
       "\n",
       "    .dataframe tbody tr th {\n",
       "        vertical-align: top;\n",
       "    }\n",
       "\n",
       "    .dataframe thead th {\n",
       "        text-align: right;\n",
       "    }\n",
       "</style>\n",
       "<table border=\"1\" class=\"dataframe\">\n",
       "  <thead>\n",
       "    <tr style=\"text-align: right;\">\n",
       "      <th></th>\n",
       "      <th>satisfaction_v2</th>\n",
       "      <th>Age</th>\n",
       "      <th>Flight Distance</th>\n",
       "      <th>Inflight wifi service</th>\n",
       "      <th>Departure/Arrival time convenient</th>\n",
       "      <th>Ease of Online booking</th>\n",
       "      <th>Gate location</th>\n",
       "      <th>Food and drink</th>\n",
       "      <th>Online boarding</th>\n",
       "      <th>Seat comfort</th>\n",
       "      <th>...</th>\n",
       "      <th>Arrival Delay in Minutes</th>\n",
       "      <th>Gender_Female</th>\n",
       "      <th>Gender_Male</th>\n",
       "      <th>Customer Type_Loyal Customer</th>\n",
       "      <th>Customer Type_disloyal Customer</th>\n",
       "      <th>Type of Travel_Business travel</th>\n",
       "      <th>Type of Travel_Personal Travel</th>\n",
       "      <th>Class_Business</th>\n",
       "      <th>Class_Eco</th>\n",
       "      <th>Class_Eco Plus</th>\n",
       "    </tr>\n",
       "  </thead>\n",
       "  <tbody>\n",
       "    <tr>\n",
       "      <th>0</th>\n",
       "      <td>1</td>\n",
       "      <td>56</td>\n",
       "      <td>369</td>\n",
       "      <td>3</td>\n",
       "      <td>2</td>\n",
       "      <td>3</td>\n",
       "      <td>4</td>\n",
       "      <td>3</td>\n",
       "      <td>4</td>\n",
       "      <td>3</td>\n",
       "      <td>...</td>\n",
       "      <td>0.0</td>\n",
       "      <td>0</td>\n",
       "      <td>1</td>\n",
       "      <td>0</td>\n",
       "      <td>1</td>\n",
       "      <td>0</td>\n",
       "      <td>1</td>\n",
       "      <td>0</td>\n",
       "      <td>1</td>\n",
       "      <td>0</td>\n",
       "    </tr>\n",
       "    <tr>\n",
       "      <th>1</th>\n",
       "      <td>1</td>\n",
       "      <td>49</td>\n",
       "      <td>2486</td>\n",
       "      <td>3</td>\n",
       "      <td>2</td>\n",
       "      <td>1</td>\n",
       "      <td>4</td>\n",
       "      <td>2</td>\n",
       "      <td>1</td>\n",
       "      <td>3</td>\n",
       "      <td>...</td>\n",
       "      <td>0.0</td>\n",
       "      <td>0</td>\n",
       "      <td>1</td>\n",
       "      <td>0</td>\n",
       "      <td>1</td>\n",
       "      <td>0</td>\n",
       "      <td>1</td>\n",
       "      <td>0</td>\n",
       "      <td>1</td>\n",
       "      <td>0</td>\n",
       "    </tr>\n",
       "    <tr>\n",
       "      <th>2</th>\n",
       "      <td>1</td>\n",
       "      <td>55</td>\n",
       "      <td>1448</td>\n",
       "      <td>3</td>\n",
       "      <td>3</td>\n",
       "      <td>3</td>\n",
       "      <td>4</td>\n",
       "      <td>3</td>\n",
       "      <td>4</td>\n",
       "      <td>3</td>\n",
       "      <td>...</td>\n",
       "      <td>0.0</td>\n",
       "      <td>0</td>\n",
       "      <td>1</td>\n",
       "      <td>0</td>\n",
       "      <td>1</td>\n",
       "      <td>0</td>\n",
       "      <td>1</td>\n",
       "      <td>0</td>\n",
       "      <td>1</td>\n",
       "      <td>0</td>\n",
       "    </tr>\n",
       "    <tr>\n",
       "      <th>3</th>\n",
       "      <td>1</td>\n",
       "      <td>36</td>\n",
       "      <td>1501</td>\n",
       "      <td>3</td>\n",
       "      <td>4</td>\n",
       "      <td>3</td>\n",
       "      <td>3</td>\n",
       "      <td>4</td>\n",
       "      <td>4</td>\n",
       "      <td>4</td>\n",
       "      <td>...</td>\n",
       "      <td>0.0</td>\n",
       "      <td>1</td>\n",
       "      <td>0</td>\n",
       "      <td>0</td>\n",
       "      <td>1</td>\n",
       "      <td>0</td>\n",
       "      <td>1</td>\n",
       "      <td>0</td>\n",
       "      <td>1</td>\n",
       "      <td>0</td>\n",
       "    </tr>\n",
       "    <tr>\n",
       "      <th>4</th>\n",
       "      <td>1</td>\n",
       "      <td>55</td>\n",
       "      <td>577</td>\n",
       "      <td>3</td>\n",
       "      <td>5</td>\n",
       "      <td>3</td>\n",
       "      <td>3</td>\n",
       "      <td>3</td>\n",
       "      <td>5</td>\n",
       "      <td>3</td>\n",
       "      <td>...</td>\n",
       "      <td>0.0</td>\n",
       "      <td>0</td>\n",
       "      <td>1</td>\n",
       "      <td>0</td>\n",
       "      <td>1</td>\n",
       "      <td>0</td>\n",
       "      <td>1</td>\n",
       "      <td>0</td>\n",
       "      <td>1</td>\n",
       "      <td>0</td>\n",
       "    </tr>\n",
       "  </tbody>\n",
       "</table>\n",
       "<p>5 rows × 28 columns</p>\n",
       "</div>"
      ],
      "text/plain": [
       "   satisfaction_v2  Age  Flight Distance  Inflight wifi service  \\\n",
       "0                1   56              369                      3   \n",
       "1                1   49             2486                      3   \n",
       "2                1   55             1448                      3   \n",
       "3                1   36             1501                      3   \n",
       "4                1   55              577                      3   \n",
       "\n",
       "   Departure/Arrival time convenient  Ease of Online booking  Gate location  \\\n",
       "0                                  2                       3              4   \n",
       "1                                  2                       1              4   \n",
       "2                                  3                       3              4   \n",
       "3                                  4                       3              3   \n",
       "4                                  5                       3              3   \n",
       "\n",
       "   Food and drink  Online boarding  Seat comfort  ...  \\\n",
       "0               3                4             3  ...   \n",
       "1               2                1             3  ...   \n",
       "2               3                4             3  ...   \n",
       "3               4                4             4  ...   \n",
       "4               3                5             3  ...   \n",
       "\n",
       "   Arrival Delay in Minutes  Gender_Female  Gender_Male  \\\n",
       "0                       0.0              0            1   \n",
       "1                       0.0              0            1   \n",
       "2                       0.0              0            1   \n",
       "3                       0.0              1            0   \n",
       "4                       0.0              0            1   \n",
       "\n",
       "   Customer Type_Loyal Customer  Customer Type_disloyal Customer  \\\n",
       "0                             0                                1   \n",
       "1                             0                                1   \n",
       "2                             0                                1   \n",
       "3                             0                                1   \n",
       "4                             0                                1   \n",
       "\n",
       "   Type of Travel_Business travel  Type of Travel_Personal Travel  \\\n",
       "0                               0                               1   \n",
       "1                               0                               1   \n",
       "2                               0                               1   \n",
       "3                               0                               1   \n",
       "4                               0                               1   \n",
       "\n",
       "   Class_Business  Class_Eco  Class_Eco Plus  \n",
       "0               0          1               0  \n",
       "1               0          1               0  \n",
       "2               0          1               0  \n",
       "3               0          1               0  \n",
       "4               0          1               0  \n",
       "\n",
       "[5 rows x 28 columns]"
      ]
     },
     "execution_count": 35,
     "metadata": {},
     "output_type": "execute_result"
    }
   ],
   "source": [
    "flight_data.head()"
   ]
  },
  {
   "cell_type": "code",
   "execution_count": 29,
   "id": "60b99cb2",
   "metadata": {},
   "outputs": [],
   "source": [
    "from sklearn.model_selection import train_test_split\n",
    "from sklearn.linear_model import LogisticRegressionCV\n",
    "from sklearn.preprocessing import StandardScaler\n",
    "from sklearn.metrics import accuracy_score"
   ]
  },
  {
   "cell_type": "code",
   "execution_count": null,
   "id": "915990c0",
   "metadata": {},
   "outputs": [],
   "source": [
    "\n"
   ]
  },
  {
   "cell_type": "code",
   "execution_count": 42,
   "id": "daf9ff38",
   "metadata": {},
   "outputs": [
    {
     "name": "stdout",
     "output_type": "stream",
     "text": [
      "Optimal value of C: 0.3593813663804626\n",
      "Coefficients: [[ 0.61326134  0.92644399 -0.70312343  0.10485002 -0.01348494 -0.0944187\n",
      "   1.20970196  0.17356874  0.34028817  0.39386974  0.4251492   0.08403821\n",
      "   0.32693386  0.03583604  0.09762013  0.06830617 -0.2013444 ]]\n",
      "Accuracy: 0.8446258084385587\n"
     ]
    }
   ],
   "source": [
    "# Define predictors (X) and response (y) using indexing\n",
    "X = flight_data.iloc[:, 2:19]  # Select all columns except the last one as predictors\n",
    "y = flight_data[\"satisfaction_v2\"]   # Select the last column as the response variable\n",
    "flight_data['satisfaction_v2'] = flight_data['satisfaction_v2'].astype(int)  \n",
    "\n",
    "# Split the data into training and testing sets\n",
    "X_train, X_test, y_train, y_test = train_test_split(X, y, test_size=0.2, random_state=1)\n",
    "\n",
    "# Scale the features (not always necessary but can improve performance)\n",
    "# Standardize the predictor variables for interpretation\n",
    "scaler = StandardScaler()\n",
    "X_train_scaled = scaler.fit_transform(X_train)\n",
    "X_test_scaled = scaler.transform(X_test)\n",
    "\n",
    "# Create and fit Lasso logistic regression model using cross-validation\n",
    "lasso_model = LogisticRegressionCV(penalty='l1', solver='liblinear', cv=5)\n",
    "lasso_model.fit(X_train_scaled, y_train)\n",
    "\n",
    "# Print the optimal value of C (inverse of regularization strength, equivalent to lambda in glmnet)\n",
    "print(\"Optimal value of C:\", lasso_model.C_[0])\n",
    "\n",
    "# Extract coefficients of the selected variables\n",
    "selected_coefficients = lasso_model.coef_\n",
    "\n",
    "# Print the coefficients\n",
    "print(\"Coefficients:\", selected_coefficients)\n",
    "\n",
    "# Make predictions on new data (testing set)\n",
    "predictions = lasso_model.predict(X_test_scaled)\n",
    "\n",
    "# Calculate accuracy\n",
    "accuracy = accuracy_score(y_test, predictions)\n",
    "print(\"Accuracy:\", accuracy)"
   ]
  },
  {
   "cell_type": "code",
   "execution_count": 44,
   "id": "255852bd",
   "metadata": {},
   "outputs": [
    {
     "name": "stdout",
     "output_type": "stream",
     "text": [
      "Flight Distance: 0.6132613402938718\n",
      "Inflight wifi service: 0.9264439874818959\n",
      "Departure/Arrival time convenient: -0.7031234284489354\n",
      "Ease of Online booking: 0.10485001920202197\n",
      "Gate location: -0.013484944036433017\n",
      "Food and drink: -0.0944187029468625\n",
      "Online boarding: 1.2097019559426279\n",
      "Seat comfort: 0.17356874419405832\n",
      "Inflight entertainment: 0.3402881704610016\n",
      "On-board service: 0.39386974130815505\n",
      "Leg room service: 0.42514920296236286\n",
      "Baggage handling: 0.08403821239796232\n",
      "Checkin service: 0.3269338594272005\n",
      "Inflight service: 0.035836040959764025\n",
      "Cleanliness: 0.09762012919195288\n",
      "Departure Delay in Minutes: 0.06830616855166419\n",
      "Arrival Delay in Minutes: -0.20134439735799042\n"
     ]
    }
   ],
   "source": [
    "column_names = X.columns\n",
    "\n",
    "# Zip together the column names and coefficients\n",
    "coefficients_with_names = zip(column_names, selected_coefficients[0])\n",
    "\n",
    "# Print column names with their coefficient values\n",
    "for name, coef in coefficients_with_names:\n",
    "    print(f\"{name}: {coef}\")"
   ]
  },
  {
   "cell_type": "code",
   "execution_count": null,
   "id": "dc3d5871",
   "metadata": {},
   "outputs": [],
   "source": [
    "# top five are online boarding, inflight wifi service, flight distance, Departure/Arrival time convenient, leg room service"
   ]
  },
  {
   "cell_type": "code",
   "execution_count": null,
   "id": "7105941a",
   "metadata": {},
   "outputs": [],
   "source": []
  }
 ],
 "metadata": {
  "kernelspec": {
   "display_name": "Python 3 (ipykernel)",
   "language": "python",
   "name": "python3"
  },
  "language_info": {
   "codemirror_mode": {
    "name": "ipython",
    "version": 3
   },
   "file_extension": ".py",
   "mimetype": "text/x-python",
   "name": "python",
   "nbconvert_exporter": "python",
   "pygments_lexer": "ipython3",
   "version": "3.11.5"
  }
 },
 "nbformat": 4,
 "nbformat_minor": 5
}
