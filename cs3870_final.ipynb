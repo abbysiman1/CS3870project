{
 "cells": [
  {
   "cell_type": "code",
   "execution_count": 30,
   "id": "2da04c21",
   "metadata": {},
   "outputs": [],
   "source": [
    "import numpy as np\n",
    "import pandas as pd\n",
    "\n",
    "import matplotlib.pyplot as plt\n",
    "\n",
    "import seaborn as sns"
   ]
  },
  {
   "cell_type": "code",
   "execution_count": 31,
   "id": "4124ee92",
   "metadata": {},
   "outputs": [
    {
     "data": {
      "text/html": [
       "<div>\n",
       "<style scoped>\n",
       "    .dataframe tbody tr th:only-of-type {\n",
       "        vertical-align: middle;\n",
       "    }\n",
       "\n",
       "    .dataframe tbody tr th {\n",
       "        vertical-align: top;\n",
       "    }\n",
       "\n",
       "    .dataframe thead th {\n",
       "        text-align: right;\n",
       "    }\n",
       "</style>\n",
       "<table border=\"1\" class=\"dataframe\">\n",
       "  <thead>\n",
       "    <tr style=\"text-align: right;\">\n",
       "      <th></th>\n",
       "      <th>id</th>\n",
       "      <th>satisfaction_v2</th>\n",
       "      <th>Gender</th>\n",
       "      <th>Customer Type</th>\n",
       "      <th>Age</th>\n",
       "      <th>Type of Travel</th>\n",
       "      <th>Class</th>\n",
       "      <th>Flight Distance</th>\n",
       "      <th>Inflight wifi service</th>\n",
       "      <th>Departure/Arrival time convenient</th>\n",
       "      <th>...</th>\n",
       "      <th>Seat comfort</th>\n",
       "      <th>Inflight entertainment</th>\n",
       "      <th>On-board service</th>\n",
       "      <th>Leg room service</th>\n",
       "      <th>Baggage handling</th>\n",
       "      <th>Checkin service</th>\n",
       "      <th>Inflight service</th>\n",
       "      <th>Cleanliness</th>\n",
       "      <th>Departure Delay in Minutes</th>\n",
       "      <th>Arrival Delay in Minutes</th>\n",
       "    </tr>\n",
       "  </thead>\n",
       "  <tbody>\n",
       "    <tr>\n",
       "      <th>0</th>\n",
       "      <td>117135</td>\n",
       "      <td>satisfied</td>\n",
       "      <td>Male</td>\n",
       "      <td>disloyal Customer</td>\n",
       "      <td>56</td>\n",
       "      <td>Personal Travel</td>\n",
       "      <td>Eco</td>\n",
       "      <td>369</td>\n",
       "      <td>0</td>\n",
       "      <td>2</td>\n",
       "      <td>...</td>\n",
       "      <td>3</td>\n",
       "      <td>3</td>\n",
       "      <td>1</td>\n",
       "      <td>5</td>\n",
       "      <td>3</td>\n",
       "      <td>3</td>\n",
       "      <td>4</td>\n",
       "      <td>3</td>\n",
       "      <td>0</td>\n",
       "      <td>0.0</td>\n",
       "    </tr>\n",
       "    <tr>\n",
       "      <th>1</th>\n",
       "      <td>72091</td>\n",
       "      <td>satisfied</td>\n",
       "      <td>Male</td>\n",
       "      <td>disloyal Customer</td>\n",
       "      <td>49</td>\n",
       "      <td>Personal Travel</td>\n",
       "      <td>Eco</td>\n",
       "      <td>2486</td>\n",
       "      <td>0</td>\n",
       "      <td>2</td>\n",
       "      <td>...</td>\n",
       "      <td>3</td>\n",
       "      <td>2</td>\n",
       "      <td>1</td>\n",
       "      <td>1</td>\n",
       "      <td>4</td>\n",
       "      <td>4</td>\n",
       "      <td>3</td>\n",
       "      <td>2</td>\n",
       "      <td>0</td>\n",
       "      <td>0.0</td>\n",
       "    </tr>\n",
       "    <tr>\n",
       "      <th>2</th>\n",
       "      <td>29663</td>\n",
       "      <td>satisfied</td>\n",
       "      <td>Male</td>\n",
       "      <td>disloyal Customer</td>\n",
       "      <td>55</td>\n",
       "      <td>Personal Travel</td>\n",
       "      <td>Eco</td>\n",
       "      <td>1448</td>\n",
       "      <td>0</td>\n",
       "      <td>3</td>\n",
       "      <td>...</td>\n",
       "      <td>3</td>\n",
       "      <td>3</td>\n",
       "      <td>3</td>\n",
       "      <td>5</td>\n",
       "      <td>3</td>\n",
       "      <td>2</td>\n",
       "      <td>3</td>\n",
       "      <td>3</td>\n",
       "      <td>0</td>\n",
       "      <td>0.0</td>\n",
       "    </tr>\n",
       "    <tr>\n",
       "      <th>3</th>\n",
       "      <td>81849</td>\n",
       "      <td>satisfied</td>\n",
       "      <td>Female</td>\n",
       "      <td>disloyal Customer</td>\n",
       "      <td>36</td>\n",
       "      <td>Personal Travel</td>\n",
       "      <td>Eco</td>\n",
       "      <td>1501</td>\n",
       "      <td>0</td>\n",
       "      <td>4</td>\n",
       "      <td>...</td>\n",
       "      <td>4</td>\n",
       "      <td>4</td>\n",
       "      <td>5</td>\n",
       "      <td>4</td>\n",
       "      <td>5</td>\n",
       "      <td>5</td>\n",
       "      <td>5</td>\n",
       "      <td>4</td>\n",
       "      <td>0</td>\n",
       "      <td>0.0</td>\n",
       "    </tr>\n",
       "    <tr>\n",
       "      <th>4</th>\n",
       "      <td>83693</td>\n",
       "      <td>satisfied</td>\n",
       "      <td>Male</td>\n",
       "      <td>disloyal Customer</td>\n",
       "      <td>55</td>\n",
       "      <td>Personal Travel</td>\n",
       "      <td>Eco</td>\n",
       "      <td>577</td>\n",
       "      <td>0</td>\n",
       "      <td>5</td>\n",
       "      <td>...</td>\n",
       "      <td>3</td>\n",
       "      <td>3</td>\n",
       "      <td>3</td>\n",
       "      <td>4</td>\n",
       "      <td>5</td>\n",
       "      <td>3</td>\n",
       "      <td>4</td>\n",
       "      <td>3</td>\n",
       "      <td>0</td>\n",
       "      <td>0.0</td>\n",
       "    </tr>\n",
       "  </tbody>\n",
       "</table>\n",
       "<p>5 rows × 24 columns</p>\n",
       "</div>"
      ],
      "text/plain": [
       "       id satisfaction_v2  Gender      Customer Type  Age   Type of Travel  \\\n",
       "0  117135       satisfied    Male  disloyal Customer   56  Personal Travel   \n",
       "1   72091       satisfied    Male  disloyal Customer   49  Personal Travel   \n",
       "2   29663       satisfied    Male  disloyal Customer   55  Personal Travel   \n",
       "3   81849       satisfied  Female  disloyal Customer   36  Personal Travel   \n",
       "4   83693       satisfied    Male  disloyal Customer   55  Personal Travel   \n",
       "\n",
       "  Class  Flight Distance  Inflight wifi service  \\\n",
       "0   Eco              369                      0   \n",
       "1   Eco             2486                      0   \n",
       "2   Eco             1448                      0   \n",
       "3   Eco             1501                      0   \n",
       "4   Eco              577                      0   \n",
       "\n",
       "   Departure/Arrival time convenient  ...  Seat comfort  \\\n",
       "0                                  2  ...             3   \n",
       "1                                  2  ...             3   \n",
       "2                                  3  ...             3   \n",
       "3                                  4  ...             4   \n",
       "4                                  5  ...             3   \n",
       "\n",
       "   Inflight entertainment  On-board service  Leg room service  \\\n",
       "0                       3                 1                 5   \n",
       "1                       2                 1                 1   \n",
       "2                       3                 3                 5   \n",
       "3                       4                 5                 4   \n",
       "4                       3                 3                 4   \n",
       "\n",
       "   Baggage handling  Checkin service  Inflight service  Cleanliness  \\\n",
       "0                 3                3                 4            3   \n",
       "1                 4                4                 3            2   \n",
       "2                 3                2                 3            3   \n",
       "3                 5                5                 5            4   \n",
       "4                 5                3                 4            3   \n",
       "\n",
       "   Departure Delay in Minutes  Arrival Delay in Minutes  \n",
       "0                           0                       0.0  \n",
       "1                           0                       0.0  \n",
       "2                           0                       0.0  \n",
       "3                           0                       0.0  \n",
       "4                           0                       0.0  \n",
       "\n",
       "[5 rows x 24 columns]"
      ]
     },
     "execution_count": 31,
     "metadata": {},
     "output_type": "execute_result"
    }
   ],
   "source": [
    "flight_data  = pd.read_csv('satisfaction_2015.csv')\n",
    "flight_data.head()"
   ]
  },
  {
   "cell_type": "code",
   "execution_count": 32,
   "id": "55e092c8",
   "metadata": {},
   "outputs": [
    {
     "data": {
      "text/plain": [
       "count    129880.000000\n",
       "mean       1190.316392\n",
       "std         997.452477\n",
       "min          31.000000\n",
       "25%         414.000000\n",
       "50%         844.000000\n",
       "75%        1744.000000\n",
       "max        4983.000000\n",
       "Name: Flight Distance, dtype: float64"
      ]
     },
     "execution_count": 32,
     "metadata": {},
     "output_type": "execute_result"
    }
   ],
   "source": [
    "# checking columns for n/a's\n",
    "flight_data[\"satisfaction_v2\"].value_counts(dropna = False)\n",
    "flight_data[\"Gender\"].value_counts(dropna = False)\n",
    "flight_data[\"Customer Type\"].value_counts(dropna = False)\n",
    "flight_data[\"Age\"].describe(include = 'all')\n",
    "flight_data[\"Type of Travel\"].value_counts(dropna = False)\n",
    "flight_data[\"Class\"].value_counts(dropna = False)\n",
    "\n",
    "# looking at statistics of flight distance\n",
    "flight_data[\"Flight Distance\"].describe(include = 'all')"
   ]
  },
  {
   "cell_type": "code",
   "execution_count": 33,
   "id": "4831355d",
   "metadata": {},
   "outputs": [
    {
     "data": {
      "text/plain": [
       "Inflight wifi service\n",
       "3    36101\n",
       "2    32320\n",
       "4    24775\n",
       "1    22328\n",
       "5    14356\n",
       "Name: count, dtype: int64"
      ]
     },
     "execution_count": 33,
     "metadata": {},
     "output_type": "execute_result"
    }
   ],
   "source": [
    "flight_data['Inflight wifi service'] = flight_data['Inflight wifi service'].replace(0, pd.NA)\n",
    "median_value = flight_data['Inflight wifi service'].median()\n",
    "median_value = int(median_value)\n",
    "flight_data['Inflight wifi service'] = flight_data['Inflight wifi service'].fillna(median_value)\n",
    "flight_data[\"Inflight wifi service\"].value_counts(dropna = False)"
   ]
  },
  {
   "cell_type": "code",
   "execution_count": 34,
   "id": "a602fe1d",
   "metadata": {},
   "outputs": [
    {
     "data": {
      "text/plain": [
       "Departure/Arrival time convenient\n",
       "4    31880\n",
       "3    29059\n",
       "5    27998\n",
       "2    21534\n",
       "1    19409\n",
       "Name: count, dtype: int64"
      ]
     },
     "execution_count": 34,
     "metadata": {},
     "output_type": "execute_result"
    }
   ],
   "source": [
    "flight_data['Departure/Arrival time convenient'] = flight_data['Departure/Arrival time convenient'].replace(0, pd.NA)\n",
    "median_value = flight_data['Departure/Arrival time convenient'].median()\n",
    "median_value = int(median_value)\n",
    "flight_data['Departure/Arrival time convenient'] = flight_data['Departure/Arrival time convenient'].fillna(median_value)\n",
    "flight_data[\"Departure/Arrival time convenient\"].value_counts(dropna = False)"
   ]
  },
  {
   "cell_type": "code",
   "execution_count": 35,
   "id": "e2725bff",
   "metadata": {},
   "outputs": [
    {
     "data": {
      "text/plain": [
       "Ease of Online booking\n",
       "3    36075\n",
       "2    30051\n",
       "4    24444\n",
       "1    21886\n",
       "5    17424\n",
       "Name: count, dtype: int64"
      ]
     },
     "execution_count": 35,
     "metadata": {},
     "output_type": "execute_result"
    }
   ],
   "source": [
    "flight_data['Ease of Online booking'] = flight_data['Ease of Online booking'].replace(0, pd.NA)\n",
    "median_value = flight_data['Ease of Online booking'].median()\n",
    "median_value = int(median_value)\n",
    "flight_data['Ease of Online booking'] = flight_data['Ease of Online booking'].fillna(median_value)\n",
    "flight_data[\"Ease of Online booking\"].value_counts(dropna = False)"
   ]
  },
  {
   "cell_type": "code",
   "execution_count": 36,
   "id": "645429ae",
   "metadata": {},
   "outputs": [
    {
     "data": {
      "text/plain": [
       "Gate location\n",
       "3    35718\n",
       "4    30466\n",
       "2    24296\n",
       "1    21991\n",
       "5    17409\n",
       "Name: count, dtype: int64"
      ]
     },
     "execution_count": 36,
     "metadata": {},
     "output_type": "execute_result"
    }
   ],
   "source": [
    "flight_data['Gate location'] = flight_data['Gate location'].replace(0, pd.NA)\n",
    "median_value = flight_data['Gate location'].median()\n",
    "median_value = int(median_value)\n",
    "flight_data['Gate location'] = flight_data['Gate location'].fillna(median_value)\n",
    "flight_data[\"Gate location\"].value_counts(dropna = False)"
   ]
  },
  {
   "cell_type": "code",
   "execution_count": 37,
   "id": "dc8ddff8",
   "metadata": {},
   "outputs": [
    {
     "data": {
      "text/plain": [
       "Food and drink\n",
       "4    30563\n",
       "5    27957\n",
       "3    27926\n",
       "2    27383\n",
       "1    16051\n",
       "Name: count, dtype: int64"
      ]
     },
     "execution_count": 37,
     "metadata": {},
     "output_type": "execute_result"
    }
   ],
   "source": [
    "flight_data['Food and drink'] = flight_data['Food and drink'].replace(0, pd.NA)\n",
    "median_value = flight_data['Food and drink'].median()\n",
    "median_value = int(median_value)\n",
    "flight_data['Food and drink'] = flight_data['Food and drink'].fillna(median_value)\n",
    "flight_data[\"Food and drink\"].value_counts(dropna = False)\n"
   ]
  },
  {
   "cell_type": "code",
   "execution_count": 38,
   "id": "35bd54e6",
   "metadata": {},
   "outputs": [
    {
     "data": {
      "text/plain": [
       "Online boarding\n",
       "4    41548\n",
       "3    27117\n",
       "5    26020\n",
       "2    21934\n",
       "1    13261\n",
       "Name: count, dtype: int64"
      ]
     },
     "execution_count": 38,
     "metadata": {},
     "output_type": "execute_result"
    }
   ],
   "source": [
    "flight_data['Online boarding'] = flight_data['Online boarding'].replace(0, pd.NA)\n",
    "median_value = flight_data['Online boarding'].median()\n",
    "median_value = int(median_value)\n",
    "flight_data['Online boarding'] = flight_data['Online boarding'].fillna(median_value)\n",
    "flight_data[\"Online boarding\"].value_counts(dropna = False)"
   ]
  },
  {
   "cell_type": "code",
   "execution_count": 39,
   "id": "77f7c488",
   "metadata": {},
   "outputs": [
    {
     "data": {
      "text/plain": [
       "Seat comfort\n",
       "4    39757\n",
       "5    33158\n",
       "3    23328\n",
       "2    18529\n",
       "1    15108\n",
       "Name: count, dtype: int64"
      ]
     },
     "execution_count": 39,
     "metadata": {},
     "output_type": "execute_result"
    }
   ],
   "source": [
    "flight_data['Seat comfort'] = flight_data['Seat comfort'].replace(0, pd.NA)\n",
    "median_value = flight_data['Seat comfort'].median()\n",
    "median_value = int(median_value)\n",
    "flight_data['Seat comfort'] = flight_data['Seat comfort'].fillna(median_value)\n",
    "flight_data[\"Seat comfort\"].value_counts(dropna = False)"
   ]
  },
  {
   "cell_type": "code",
   "execution_count": 40,
   "id": "5b2a6d37",
   "metadata": {},
   "outputs": [
    {
     "data": {
      "text/plain": [
       "Inflight entertainment\n",
       "4    36809\n",
       "5    31544\n",
       "3    23884\n",
       "2    21968\n",
       "1    15675\n",
       "Name: count, dtype: int64"
      ]
     },
     "execution_count": 40,
     "metadata": {},
     "output_type": "execute_result"
    }
   ],
   "source": [
    "flight_data['Inflight entertainment'] = flight_data['Inflight entertainment'].replace(0, pd.NA)\n",
    "median_value = flight_data['Inflight entertainment'].median()\n",
    "median_value = int(median_value)\n",
    "flight_data['Inflight entertainment'] = flight_data['Inflight entertainment'].fillna(median_value)\n",
    "flight_data[\"Inflight entertainment\"].value_counts(dropna = False)"
   ]
  },
  {
   "cell_type": "code",
   "execution_count": 41,
   "id": "fcbcb82d",
   "metadata": {},
   "outputs": [
    {
     "data": {
      "text/plain": [
       "On-board service\n",
       "4    38708\n",
       "5    29492\n",
       "3    28542\n",
       "2    18351\n",
       "1    14787\n",
       "Name: count, dtype: int64"
      ]
     },
     "execution_count": 41,
     "metadata": {},
     "output_type": "execute_result"
    }
   ],
   "source": [
    "flight_data['On-board service'] = flight_data['On-board service'].replace(0, pd.NA)\n",
    "median_value = flight_data['On-board service'].median()\n",
    "median_value = int(median_value)\n",
    "flight_data['On-board service'] = flight_data['On-board service'].fillna(median_value)\n",
    "flight_data[\"On-board service\"].value_counts(dropna = False)"
   ]
  },
  {
   "cell_type": "code",
   "execution_count": 42,
   "id": "77cee8b2",
   "metadata": {},
   "outputs": [
    {
     "data": {
      "text/plain": [
       "Leg room service\n",
       "4    36484\n",
       "5    30905\n",
       "3    25056\n",
       "2    24540\n",
       "1    12895\n",
       "Name: count, dtype: int64"
      ]
     },
     "execution_count": 42,
     "metadata": {},
     "output_type": "execute_result"
    }
   ],
   "source": [
    "flight_data['Leg room service'] = flight_data['Leg room service'].replace(0, pd.NA)\n",
    "median_value = flight_data['Leg room service'].median()\n",
    "median_value = int(median_value)\n",
    "flight_data['Leg room service'] = flight_data['Leg room service'].fillna(median_value)\n",
    "flight_data[\"Leg room service\"].value_counts(dropna = False)"
   ]
  },
  {
   "cell_type": "code",
   "execution_count": 43,
   "id": "c7ba3acd",
   "metadata": {},
   "outputs": [
    {
     "data": {
      "text/plain": [
       "Baggage handling\n",
       "4    46761\n",
       "5    33878\n",
       "3    25851\n",
       "2    14362\n",
       "1     9028\n",
       "Name: count, dtype: int64"
      ]
     },
     "execution_count": 43,
     "metadata": {},
     "output_type": "execute_result"
    }
   ],
   "source": [
    "flight_data['Baggage handling'] = flight_data['Baggage handling'].replace(0, pd.NA)\n",
    "median_value = flight_data['Baggage handling'].median()\n",
    "median_value = int(median_value)\n",
    "flight_data['Baggage handling'] = flight_data['Baggage handling'].fillna(median_value)\n",
    "flight_data[\"Baggage handling\"].value_counts(dropna = False)"
   ]
  },
  {
   "cell_type": "code",
   "execution_count": 44,
   "id": "d4673972",
   "metadata": {},
   "outputs": [
    {
     "data": {
      "text/plain": [
       "Checkin service\n",
       "4    36333\n",
       "3    35454\n",
       "5    25883\n",
       "1    16108\n",
       "2    16102\n",
       "Name: count, dtype: int64"
      ]
     },
     "execution_count": 44,
     "metadata": {},
     "output_type": "execute_result"
    }
   ],
   "source": [
    "flight_data['Checkin service'] = flight_data['Checkin service'].replace(0, pd.NA)\n",
    "median_value = flight_data['Checkin service'].median()\n",
    "median_value = int(median_value)\n",
    "flight_data['Checkin service'] = flight_data['Checkin service'].fillna(median_value)\n",
    "flight_data[\"Checkin service\"].value_counts(dropna = False)"
   ]
  },
  {
   "cell_type": "code",
   "execution_count": 45,
   "id": "dcfbe2bc",
   "metadata": {},
   "outputs": [
    {
     "data": {
      "text/plain": [
       "Inflight service\n",
       "4    47328\n",
       "5    34066\n",
       "3    25316\n",
       "2    14308\n",
       "1     8862\n",
       "Name: count, dtype: int64"
      ]
     },
     "execution_count": 45,
     "metadata": {},
     "output_type": "execute_result"
    }
   ],
   "source": [
    "flight_data['Inflight service'] = flight_data['Inflight service'].replace(0, pd.NA)\n",
    "median_value = flight_data['Inflight service'].median()\n",
    "median_value = int(median_value)\n",
    "flight_data['Inflight service'] = flight_data['Inflight service'].fillna(median_value)\n",
    "flight_data[\"Inflight service\"].value_counts(dropna = False)"
   ]
  },
  {
   "cell_type": "code",
   "execution_count": 46,
   "id": "e65bbed2",
   "metadata": {},
   "outputs": [
    {
     "data": {
      "text/plain": [
       "Cleanliness\n",
       "4    33969\n",
       "3    30653\n",
       "5    28416\n",
       "2    20113\n",
       "1    16729\n",
       "Name: count, dtype: int64"
      ]
     },
     "execution_count": 46,
     "metadata": {},
     "output_type": "execute_result"
    }
   ],
   "source": [
    "\n",
    "flight_data['Cleanliness'] = flight_data['Cleanliness'].replace(0, pd.NA)\n",
    "median_value = flight_data['Cleanliness'].median()\n",
    "median_value = int(median_value)\n",
    "flight_data['Cleanliness'] = flight_data['Cleanliness'].fillna(median_value)\n",
    "flight_data[\"Cleanliness\"].value_counts(dropna = False)"
   ]
  },
  {
   "cell_type": "code",
   "execution_count": 47,
   "id": "4791528a",
   "metadata": {},
   "outputs": [
    {
     "data": {
      "text/plain": [
       "count    129880.000000\n",
       "mean         14.713713\n",
       "std          38.071126\n",
       "min           0.000000\n",
       "25%           0.000000\n",
       "50%           0.000000\n",
       "75%          12.000000\n",
       "max        1592.000000\n",
       "Name: Departure Delay in Minutes, dtype: float64"
      ]
     },
     "execution_count": 47,
     "metadata": {},
     "output_type": "execute_result"
    }
   ],
   "source": [
    "flight_data[\"Departure Delay in Minutes\"].describe(include = 'all')"
   ]
  },
  {
   "cell_type": "code",
   "execution_count": 48,
   "id": "cccfed48",
   "metadata": {},
   "outputs": [
    {
     "data": {
      "text/plain": [
       "count    129880.000000\n",
       "mean         15.045465\n",
       "std          38.416353\n",
       "min           0.000000\n",
       "25%           0.000000\n",
       "50%           0.000000\n",
       "75%          13.000000\n",
       "max        1584.000000\n",
       "Name: Arrival Delay in Minutes, dtype: float64"
      ]
     },
     "execution_count": 48,
     "metadata": {},
     "output_type": "execute_result"
    }
   ],
   "source": [
    "\n",
    "median_value = flight_data['Arrival Delay in Minutes'].median()\n",
    "median_value = int(median_value)\n",
    "flight_data['Arrival Delay in Minutes'] = flight_data['Arrival Delay in Minutes'].fillna(median_value)\n",
    "flight_data[\"Arrival Delay in Minutes\"].describe(include = 'all')"
   ]
  },
  {
   "cell_type": "code",
   "execution_count": 49,
   "id": "144926a1",
   "metadata": {},
   "outputs": [],
   "source": [
    "flight_data = pd.get_dummies(flight_data, columns=['Gender'])\n",
    "flight_data = pd.get_dummies(flight_data, columns=['Customer Type'])\n",
    "flight_data = pd.get_dummies(flight_data, columns=['Type of Travel'])\n",
    "flight_data = pd.get_dummies(flight_data, columns=['Class'])"
   ]
  },
  {
   "cell_type": "code",
   "execution_count": 50,
   "id": "4d17e03c",
   "metadata": {},
   "outputs": [
    {
     "name": "stdout",
     "output_type": "stream",
     "text": [
      "Missing values in the DataFrame:\n",
      "id                                   0\n",
      "satisfaction_v2                      0\n",
      "Age                                  0\n",
      "Flight Distance                      0\n",
      "Inflight wifi service                0\n",
      "Departure/Arrival time convenient    0\n",
      "Ease of Online booking               0\n",
      "Gate location                        0\n",
      "Food and drink                       0\n",
      "Online boarding                      0\n",
      "Seat comfort                         0\n",
      "Inflight entertainment               0\n",
      "On-board service                     0\n",
      "Leg room service                     0\n",
      "Baggage handling                     0\n",
      "Checkin service                      0\n",
      "Inflight service                     0\n",
      "Cleanliness                          0\n",
      "Departure Delay in Minutes           0\n",
      "Arrival Delay in Minutes             0\n",
      "Gender_Female                        0\n",
      "Gender_Male                          0\n",
      "Customer Type_Loyal Customer         0\n",
      "Customer Type_disloyal Customer      0\n",
      "Type of Travel_Business travel       0\n",
      "Type of Travel_Personal Travel       0\n",
      "Class_Business                       0\n",
      "Class_Eco                            0\n",
      "Class_Eco Plus                       0\n",
      "dtype: int64\n"
     ]
    }
   ],
   "source": [
    "missing_values = flight_data.isna().sum()\n",
    "\n",
    "print(\"Missing values in the DataFrame:\")\n",
    "print(missing_values)"
   ]
  },
  {
   "cell_type": "code",
   "execution_count": 51,
   "id": "4c9d379f",
   "metadata": {},
   "outputs": [
    {
     "name": "stdout",
     "output_type": "stream",
     "text": [
      "Accuracy: 0.6311980289497998\n",
      "                         precision    recall  f1-score   support\n",
      "\n",
      "neutral or dissatisfied       0.64      0.77      0.70     18355\n",
      "              satisfied       0.60      0.45      0.51     14115\n",
      "\n",
      "               accuracy                           0.63     32470\n",
      "              macro avg       0.62      0.61      0.61     32470\n",
      "           weighted avg       0.63      0.63      0.62     32470\n",
      "\n"
     ]
    }
   ],
   "source": [
    "# Creating a logistic model with all features \n",
    "from sklearn.model_selection import train_test_split\n",
    "from sklearn.linear_model import LogisticRegression\n",
    "from sklearn.metrics import accuracy_score, classification_report\n",
    "\n",
    "\n",
    "# Step 4: Split the dataset into training and testing sets\n",
    "X = flight_data.drop('satisfaction_v2', axis=1) # Features\n",
    "y = flight_data['satisfaction_v2'] # Target variable\n",
    "X_train, X_test, y_train, y_test = train_test_split(X, y,  random_state=None)\n",
    "\n",
    "# Step 5: Create a logistic regression model\n",
    "model = LogisticRegression()\n",
    "\n",
    "# Step 6: Train the model on the training data\n",
    "result = model.fit(X_train, y_train)\n",
    "\n",
    "# Step 7: Evaluate the model's performance on the testing data\n",
    "y_pred = model.predict(X_test)\n",
    "\n",
    "# Calculate accuracy\n",
    "accuracy = accuracy_score(y_test, y_pred)\n",
    "print(\"Accuracy:\", accuracy)\n",
    "\n",
    "# Get classification report\n",
    "print(classification_report(y_test, y_pred))"
   ]
  },
  {
   "cell_type": "code",
   "execution_count": 52,
   "id": "14799c6d",
   "metadata": {},
   "outputs": [
    {
     "name": "stdout",
     "output_type": "stream",
     "text": [
      "Coefficients: [[-5.79002775e-06 -9.76767268e-03  5.41879759e-04  1.97001312e-03\n",
      "  -2.36935313e-03  4.58416780e-04 -1.87030488e-03  1.00987009e-04\n",
      "   3.11899958e-03  1.22086583e-03  1.81133879e-03  1.00606316e-03\n",
      "   9.62151456e-04  5.85430953e-05  2.63393274e-04 -2.39632261e-05\n",
      "   9.62284185e-04 -1.13906142e-03 -3.90417856e-03 -3.55733610e-04\n",
      "  -2.57074862e-04 -7.93103324e-05 -5.33498140e-04  1.00772681e-03\n",
      "  -1.62053528e-03  1.33736968e-03 -1.73517677e-03 -2.15001384e-04]]\n",
      "Intercept: [-0.00061281]\n",
      "Model Parameters: {'C': 1.0, 'class_weight': None, 'dual': False, 'fit_intercept': True, 'intercept_scaling': 1, 'l1_ratio': None, 'max_iter': 100, 'multi_class': 'auto', 'n_jobs': None, 'penalty': 'l2', 'random_state': None, 'solver': 'lbfgs', 'tol': 0.0001, 'verbose': 0, 'warm_start': False}\n"
     ]
    }
   ],
   "source": [
    "# 1. Coefficients\n",
    "coefficients = model.coef_\n",
    "print(\"Coefficients:\", coefficients)\n",
    "\n",
    "# 2. Intercept\n",
    "intercept = model.intercept_\n",
    "print(\"Intercept:\", intercept)\n",
    "\n",
    "# 3. Model Parameters\n",
    "params = model.get_params()\n",
    "print(\"Model Parameters:\", params)"
   ]
  },
  {
   "cell_type": "code",
   "execution_count": 53,
   "id": "c91597aa",
   "metadata": {},
   "outputs": [
    {
     "name": "stdout",
     "output_type": "stream",
     "text": [
      "                              Feature  Coefficient  Abs_Coefficient\n",
      "0                                  id    -0.000006         0.000006\n",
      "1                                 Age    -0.009768         0.009768\n",
      "2                     Flight Distance     0.000542         0.000542\n",
      "3               Inflight wifi service     0.001970         0.001970\n",
      "4   Departure/Arrival time convenient    -0.002369         0.002369\n",
      "5              Ease of Online booking     0.000458         0.000458\n",
      "6                       Gate location    -0.001870         0.001870\n",
      "7                      Food and drink     0.000101         0.000101\n",
      "8                     Online boarding     0.003119         0.003119\n",
      "9                        Seat comfort     0.001221         0.001221\n",
      "10             Inflight entertainment     0.001811         0.001811\n",
      "11                   On-board service     0.001006         0.001006\n",
      "12                   Leg room service     0.000962         0.000962\n",
      "13                   Baggage handling     0.000059         0.000059\n",
      "14                    Checkin service     0.000263         0.000263\n",
      "15                   Inflight service    -0.000024         0.000024\n",
      "16                        Cleanliness     0.000962         0.000962\n",
      "17         Departure Delay in Minutes    -0.001139         0.001139\n",
      "18           Arrival Delay in Minutes    -0.003904         0.003904\n",
      "19                      Gender_Female    -0.000356         0.000356\n",
      "20                        Gender_Male    -0.000257         0.000257\n",
      "21       Customer Type_Loyal Customer    -0.000079         0.000079\n",
      "22    Customer Type_disloyal Customer    -0.000533         0.000533\n",
      "23     Type of Travel_Business travel     0.001008         0.001008\n",
      "24     Type of Travel_Personal Travel    -0.001621         0.001621\n",
      "25                     Class_Business     0.001337         0.001337\n",
      "26                          Class_Eco    -0.001735         0.001735\n",
      "27                     Class_Eco Plus    -0.000215         0.000215\n"
     ]
    }
   ],
   "source": [
    "import numpy as np\n",
    "# Get coefficient estimates\n",
    "coefficients = model.coef_[0]\n",
    "\n",
    "# Get feature names\n",
    "feature_names = X_train.columns\n",
    "\n",
    "# Create a DataFrame to display coefficients\n",
    "coef_df = pd.DataFrame({'Feature': feature_names, 'Coefficient': coefficients})\n",
    "\n",
    "# Sort the DataFrame by absolute coefficient values\n",
    "coef_df['Abs_Coefficient'] = np.abs(coef_df['Coefficient'])\n",
    "\n",
    "# Display the DataFrame\n",
    "print(coef_df)"
   ]
  },
  {
   "cell_type": "code",
   "execution_count": 54,
   "id": "f5f48229",
   "metadata": {},
   "outputs": [
    {
     "name": "stdout",
     "output_type": "stream",
     "text": [
      "Online boarding: 0.15953299579831448\n",
      "Inflight wifi service: 0.11102418312649105\n",
      "Class_Business: 0.07807531316428175\n",
      "Type of Travel_Business travel: 0.06282214259094579\n",
      "Type of Travel_Personal Travel: 0.059023305706889545\n",
      "Inflight entertainment: 0.04880899123351852\n",
      "Seat comfort: 0.048085433403351543\n",
      "Class_Eco: 0.03445159073460067\n",
      "Flight Distance: 0.03300506750544465\n",
      "id: 0.031438976454144396\n",
      "Leg room service: 0.030597839564214264\n",
      "Baggage handling: 0.03057769959519193\n",
      "Age: 0.028830608737652037\n",
      "Ease of Online booking: 0.028145797089831306\n",
      "Customer Type_disloyal Customer: 0.0267078994951462\n",
      "On-board service: 0.026625743695749812\n",
      "Checkin service: 0.024855912711940594\n",
      "Cleanliness: 0.02416741744709374\n",
      "Customer Type_Loyal Customer: 0.02265623223151311\n",
      "Inflight service: 0.02248850713587442\n",
      "Gate location: 0.014874073143208549\n",
      "Departure/Arrival time convenient: 0.01307112729628065\n",
      "Arrival Delay in Minutes: 0.011997815681564567\n",
      "Food and drink: 0.01028708723256831\n",
      "Departure Delay in Minutes: 0.010168782397758624\n",
      "Gender_Female: 0.003144574063839857\n",
      "Gender_Male: 0.0028661769287658574\n",
      "Class_Eco Plus: 0.0016687058338238723\n"
     ]
    }
   ],
   "source": [
    "# Giving features a score to decide what to include in our model\n",
    "from sklearn.ensemble import RandomForestClassifier\n",
    "\n",
    "# Train a random forest classifier\n",
    "rf_model = RandomForestClassifier(n_estimators=100, random_state=42)\n",
    "rf_model.fit(X_train, y_train)\n",
    "\n",
    "# Get feature importances\n",
    "feature_importances = rf_model.feature_importances_\n",
    "\n",
    "# Sort feature importances in descending order\n",
    "indices = feature_importances.argsort()[::-1]\n",
    "\n",
    "# Print feature importance scores\n",
    "for i in range(len(indices)):\n",
    "    print(f\"{X.columns[indices[i]]}: {feature_importances[indices[i]]}\")\n"
   ]
  },
  {
   "cell_type": "code",
   "execution_count": 59,
   "id": "9189f847",
   "metadata": {},
   "outputs": [
    {
     "data": {
      "text/plain": [
       "0.6342777948875885"
      ]
     },
     "execution_count": 59,
     "metadata": {},
     "output_type": "execute_result"
    }
   ],
   "source": [
    "from sklearn.model_selection import cross_val_score\n",
    "from sklearn.linear_model import LogisticRegression  \n",
    "\n",
    "\n",
    "model = LogisticRegression(max_iter=1000)  # Increase max_iter\n",
    "\n",
    "# Select features with importance scores above a threshold\n",
    "threshold = 0.03\n",
    "selected_features = X.columns[feature_importances > threshold]\n",
    "X_selected = X[selected_features]\n",
    "\n",
    "# Train model using selected features\n",
    "model.fit(X_selected, y)\n",
    "\n",
    "# Evaluate model performance using cross-validation\n",
    "cv_scores = cross_val_score(model, X_selected, y, cv=5) # Choose appropriate number of folds\n",
    "mean_cv_score = np.mean(cv_scores)\n",
    "mean_cv_score # the score barely went up"
   ]
  },
  {
   "cell_type": "code",
   "execution_count": 60,
   "id": "55f3fe89",
   "metadata": {},
   "outputs": [
    {
     "name": "stdout",
     "output_type": "stream",
     "text": [
      "Accuracy: 0.9395441946412073\n",
      "                         precision    recall  f1-score   support\n",
      "\n",
      "neutral or dissatisfied       0.95      0.94      0.95     18318\n",
      "              satisfied       0.93      0.93      0.93     14152\n",
      "\n",
      "               accuracy                           0.94     32470\n",
      "              macro avg       0.94      0.94      0.94     32470\n",
      "           weighted avg       0.94      0.94      0.94     32470\n",
      "\n"
     ]
    }
   ],
   "source": [
    "from sklearn.model_selection import train_test_split\n",
    "from sklearn.tree import DecisionTreeClassifier\n",
    "from sklearn.metrics import accuracy_score, classification_report\n",
    "\n",
    "\n",
    "X = flight_data.drop('satisfaction_v2', axis=1) # Using all features\n",
    "y = flight_data['satisfaction_v2'] # Target variable\n",
    "X_train, X_test, y_train, y_test = train_test_split(X, y, random_state=42)\n",
    "\n",
    "\n",
    "dt_model = DecisionTreeClassifier(random_state=42)\n",
    "dt_model.fit(X_train, y_train)\n",
    "\n",
    "\n",
    "y_pred = dt_model.predict(X_test)\n",
    "\n",
    "# Calculate accuracy\n",
    "accuracy = accuracy_score(y_test, y_pred)\n",
    "print(\"Accuracy:\", accuracy)\n",
    "\n",
    "# Get classification report\n",
    "print(classification_report(y_test, y_pred)) \n",
    "\n",
    "# Very good score"
   ]
  },
  {
   "cell_type": "code",
   "execution_count": 61,
   "id": "074618a6",
   "metadata": {},
   "outputs": [
    {
     "name": "stdout",
     "output_type": "stream",
     "text": [
      "Mean Cross-Validation Score: 0.7271096396673853\n"
     ]
    }
   ],
   "source": [
    "from sklearn.model_selection import cross_val_score\n",
    "from sklearn.tree import DecisionTreeClassifier\n",
    "\n",
    "# Using cross validation to shed off some of the features\n",
    "threshold = 0.03\n",
    "selected_features = X.columns[feature_importances > threshold]\n",
    "X_selected = X[selected_features]\n",
    "\n",
    "# Create decision tree classifier\n",
    "dt_model = DecisionTreeClassifier(random_state=42)\n",
    "\n",
    "# Perform cross-validation on the selected features\n",
    "cv_scores = cross_val_score(dt_model, X_selected, y, cv=5) \n",
    "\n",
    "# Calculate mean cross-validation score\n",
    "mean_cv_score = cv_scores.mean()\n",
    "\n",
    "print(\"Mean Cross-Validation Score:\", mean_cv_score)\n"
   ]
  },
  {
   "cell_type": "code",
   "execution_count": null,
   "id": "e291a105",
   "metadata": {},
   "outputs": [],
   "source": [
    "# Lower score need to look at number of folds and threshold"
   ]
  }
 ],
 "metadata": {
  "kernelspec": {
   "display_name": "Python 3 (ipykernel)",
   "language": "python",
   "name": "python3"
  },
  "language_info": {
   "codemirror_mode": {
    "name": "ipython",
    "version": 3
   },
   "file_extension": ".py",
   "mimetype": "text/x-python",
   "name": "python",
   "nbconvert_exporter": "python",
   "pygments_lexer": "ipython3",
   "version": "3.11.5"
  }
 },
 "nbformat": 4,
 "nbformat_minor": 5
}
